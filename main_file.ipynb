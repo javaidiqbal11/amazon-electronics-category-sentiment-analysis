{
  "nbformat": 4,
  "nbformat_minor": 0,
  "metadata": {
    "colab": {
      "name": "main_file.ipynb",
      "provenance": [],
      "collapsed_sections": [
        "evqNvLlrYDjM"
      ]
    },
    "kernelspec": {
      "name": "python3",
      "display_name": "Python 3"
    },
    "language_info": {
      "name": "python"
    },
    "widgets": {
      "application/vnd.jupyter.widget-state+json": {
        "ee74abfd372548f7a2eb63e9520cb0bc": {
          "model_module": "@jupyter-widgets/controls",
          "model_name": "HBoxModel",
          "model_module_version": "1.5.0",
          "state": {
            "_dom_classes": [],
            "_model_module": "@jupyter-widgets/controls",
            "_model_module_version": "1.5.0",
            "_model_name": "HBoxModel",
            "_view_count": null,
            "_view_module": "@jupyter-widgets/controls",
            "_view_module_version": "1.5.0",
            "_view_name": "HBoxView",
            "box_style": "",
            "children": [
              "IPY_MODEL_00ca5511e95041f1891562775cf8cc9e",
              "IPY_MODEL_e7bba1b0bb1641699f58b175b4b32a5f",
              "IPY_MODEL_e33fa1cabfdb4c268a49281e525731bc"
            ],
            "layout": "IPY_MODEL_cf2191d9ad4445068b0369e2c96fbd29"
          }
        },
        "00ca5511e95041f1891562775cf8cc9e": {
          "model_module": "@jupyter-widgets/controls",
          "model_name": "HTMLModel",
          "model_module_version": "1.5.0",
          "state": {
            "_dom_classes": [],
            "_model_module": "@jupyter-widgets/controls",
            "_model_module_version": "1.5.0",
            "_model_name": "HTMLModel",
            "_view_count": null,
            "_view_module": "@jupyter-widgets/controls",
            "_view_module_version": "1.5.0",
            "_view_name": "HTMLView",
            "description": "",
            "description_tooltip": null,
            "layout": "IPY_MODEL_ad3479df85d7458080616deb4ffacf38",
            "placeholder": "​",
            "style": "IPY_MODEL_b60e292d278948cb89359f562905c4b3",
            "value": "Downloading: 100%"
          }
        },
        "e7bba1b0bb1641699f58b175b4b32a5f": {
          "model_module": "@jupyter-widgets/controls",
          "model_name": "FloatProgressModel",
          "model_module_version": "1.5.0",
          "state": {
            "_dom_classes": [],
            "_model_module": "@jupyter-widgets/controls",
            "_model_module_version": "1.5.0",
            "_model_name": "FloatProgressModel",
            "_view_count": null,
            "_view_module": "@jupyter-widgets/controls",
            "_view_module_version": "1.5.0",
            "_view_name": "ProgressView",
            "bar_style": "success",
            "description": "",
            "description_tooltip": null,
            "layout": "IPY_MODEL_f8234975811442b7a6154c6b73e35bb9",
            "max": 231508,
            "min": 0,
            "orientation": "horizontal",
            "style": "IPY_MODEL_870e0977dca94a2595850470421d2957",
            "value": 231508
          }
        },
        "e33fa1cabfdb4c268a49281e525731bc": {
          "model_module": "@jupyter-widgets/controls",
          "model_name": "HTMLModel",
          "model_module_version": "1.5.0",
          "state": {
            "_dom_classes": [],
            "_model_module": "@jupyter-widgets/controls",
            "_model_module_version": "1.5.0",
            "_model_name": "HTMLModel",
            "_view_count": null,
            "_view_module": "@jupyter-widgets/controls",
            "_view_module_version": "1.5.0",
            "_view_name": "HTMLView",
            "description": "",
            "description_tooltip": null,
            "layout": "IPY_MODEL_2aa0428105ca4638ad7c8e2774b8af15",
            "placeholder": "​",
            "style": "IPY_MODEL_9a4fa522c0b440b8a3d1012856582ac9",
            "value": " 226k/226k [00:00&lt;00:00, 583kB/s]"
          }
        },
        "cf2191d9ad4445068b0369e2c96fbd29": {
          "model_module": "@jupyter-widgets/base",
          "model_name": "LayoutModel",
          "model_module_version": "1.2.0",
          "state": {
            "_model_module": "@jupyter-widgets/base",
            "_model_module_version": "1.2.0",
            "_model_name": "LayoutModel",
            "_view_count": null,
            "_view_module": "@jupyter-widgets/base",
            "_view_module_version": "1.2.0",
            "_view_name": "LayoutView",
            "align_content": null,
            "align_items": null,
            "align_self": null,
            "border": null,
            "bottom": null,
            "display": null,
            "flex": null,
            "flex_flow": null,
            "grid_area": null,
            "grid_auto_columns": null,
            "grid_auto_flow": null,
            "grid_auto_rows": null,
            "grid_column": null,
            "grid_gap": null,
            "grid_row": null,
            "grid_template_areas": null,
            "grid_template_columns": null,
            "grid_template_rows": null,
            "height": null,
            "justify_content": null,
            "justify_items": null,
            "left": null,
            "margin": null,
            "max_height": null,
            "max_width": null,
            "min_height": null,
            "min_width": null,
            "object_fit": null,
            "object_position": null,
            "order": null,
            "overflow": null,
            "overflow_x": null,
            "overflow_y": null,
            "padding": null,
            "right": null,
            "top": null,
            "visibility": null,
            "width": null
          }
        },
        "ad3479df85d7458080616deb4ffacf38": {
          "model_module": "@jupyter-widgets/base",
          "model_name": "LayoutModel",
          "model_module_version": "1.2.0",
          "state": {
            "_model_module": "@jupyter-widgets/base",
            "_model_module_version": "1.2.0",
            "_model_name": "LayoutModel",
            "_view_count": null,
            "_view_module": "@jupyter-widgets/base",
            "_view_module_version": "1.2.0",
            "_view_name": "LayoutView",
            "align_content": null,
            "align_items": null,
            "align_self": null,
            "border": null,
            "bottom": null,
            "display": null,
            "flex": null,
            "flex_flow": null,
            "grid_area": null,
            "grid_auto_columns": null,
            "grid_auto_flow": null,
            "grid_auto_rows": null,
            "grid_column": null,
            "grid_gap": null,
            "grid_row": null,
            "grid_template_areas": null,
            "grid_template_columns": null,
            "grid_template_rows": null,
            "height": null,
            "justify_content": null,
            "justify_items": null,
            "left": null,
            "margin": null,
            "max_height": null,
            "max_width": null,
            "min_height": null,
            "min_width": null,
            "object_fit": null,
            "object_position": null,
            "order": null,
            "overflow": null,
            "overflow_x": null,
            "overflow_y": null,
            "padding": null,
            "right": null,
            "top": null,
            "visibility": null,
            "width": null
          }
        },
        "b60e292d278948cb89359f562905c4b3": {
          "model_module": "@jupyter-widgets/controls",
          "model_name": "DescriptionStyleModel",
          "model_module_version": "1.5.0",
          "state": {
            "_model_module": "@jupyter-widgets/controls",
            "_model_module_version": "1.5.0",
            "_model_name": "DescriptionStyleModel",
            "_view_count": null,
            "_view_module": "@jupyter-widgets/base",
            "_view_module_version": "1.2.0",
            "_view_name": "StyleView",
            "description_width": ""
          }
        },
        "f8234975811442b7a6154c6b73e35bb9": {
          "model_module": "@jupyter-widgets/base",
          "model_name": "LayoutModel",
          "model_module_version": "1.2.0",
          "state": {
            "_model_module": "@jupyter-widgets/base",
            "_model_module_version": "1.2.0",
            "_model_name": "LayoutModel",
            "_view_count": null,
            "_view_module": "@jupyter-widgets/base",
            "_view_module_version": "1.2.0",
            "_view_name": "LayoutView",
            "align_content": null,
            "align_items": null,
            "align_self": null,
            "border": null,
            "bottom": null,
            "display": null,
            "flex": null,
            "flex_flow": null,
            "grid_area": null,
            "grid_auto_columns": null,
            "grid_auto_flow": null,
            "grid_auto_rows": null,
            "grid_column": null,
            "grid_gap": null,
            "grid_row": null,
            "grid_template_areas": null,
            "grid_template_columns": null,
            "grid_template_rows": null,
            "height": null,
            "justify_content": null,
            "justify_items": null,
            "left": null,
            "margin": null,
            "max_height": null,
            "max_width": null,
            "min_height": null,
            "min_width": null,
            "object_fit": null,
            "object_position": null,
            "order": null,
            "overflow": null,
            "overflow_x": null,
            "overflow_y": null,
            "padding": null,
            "right": null,
            "top": null,
            "visibility": null,
            "width": null
          }
        },
        "870e0977dca94a2595850470421d2957": {
          "model_module": "@jupyter-widgets/controls",
          "model_name": "ProgressStyleModel",
          "model_module_version": "1.5.0",
          "state": {
            "_model_module": "@jupyter-widgets/controls",
            "_model_module_version": "1.5.0",
            "_model_name": "ProgressStyleModel",
            "_view_count": null,
            "_view_module": "@jupyter-widgets/base",
            "_view_module_version": "1.2.0",
            "_view_name": "StyleView",
            "bar_color": null,
            "description_width": ""
          }
        },
        "2aa0428105ca4638ad7c8e2774b8af15": {
          "model_module": "@jupyter-widgets/base",
          "model_name": "LayoutModel",
          "model_module_version": "1.2.0",
          "state": {
            "_model_module": "@jupyter-widgets/base",
            "_model_module_version": "1.2.0",
            "_model_name": "LayoutModel",
            "_view_count": null,
            "_view_module": "@jupyter-widgets/base",
            "_view_module_version": "1.2.0",
            "_view_name": "LayoutView",
            "align_content": null,
            "align_items": null,
            "align_self": null,
            "border": null,
            "bottom": null,
            "display": null,
            "flex": null,
            "flex_flow": null,
            "grid_area": null,
            "grid_auto_columns": null,
            "grid_auto_flow": null,
            "grid_auto_rows": null,
            "grid_column": null,
            "grid_gap": null,
            "grid_row": null,
            "grid_template_areas": null,
            "grid_template_columns": null,
            "grid_template_rows": null,
            "height": null,
            "justify_content": null,
            "justify_items": null,
            "left": null,
            "margin": null,
            "max_height": null,
            "max_width": null,
            "min_height": null,
            "min_width": null,
            "object_fit": null,
            "object_position": null,
            "order": null,
            "overflow": null,
            "overflow_x": null,
            "overflow_y": null,
            "padding": null,
            "right": null,
            "top": null,
            "visibility": null,
            "width": null
          }
        },
        "9a4fa522c0b440b8a3d1012856582ac9": {
          "model_module": "@jupyter-widgets/controls",
          "model_name": "DescriptionStyleModel",
          "model_module_version": "1.5.0",
          "state": {
            "_model_module": "@jupyter-widgets/controls",
            "_model_module_version": "1.5.0",
            "_model_name": "DescriptionStyleModel",
            "_view_count": null,
            "_view_module": "@jupyter-widgets/base",
            "_view_module_version": "1.2.0",
            "_view_name": "StyleView",
            "description_width": ""
          }
        },
        "db039056f83a4606afcc5d8f3904d010": {
          "model_module": "@jupyter-widgets/controls",
          "model_name": "HBoxModel",
          "model_module_version": "1.5.0",
          "state": {
            "_dom_classes": [],
            "_model_module": "@jupyter-widgets/controls",
            "_model_module_version": "1.5.0",
            "_model_name": "HBoxModel",
            "_view_count": null,
            "_view_module": "@jupyter-widgets/controls",
            "_view_module_version": "1.5.0",
            "_view_name": "HBoxView",
            "box_style": "",
            "children": [
              "IPY_MODEL_1a2e2a6053f647fd966f42bde5a65ddb",
              "IPY_MODEL_49c0d73f628e460298dafa46955f6873",
              "IPY_MODEL_1830622a57e74740a4147770cc1246e1"
            ],
            "layout": "IPY_MODEL_cc8eb5d874bb4977b345d3d926847103"
          }
        },
        "1a2e2a6053f647fd966f42bde5a65ddb": {
          "model_module": "@jupyter-widgets/controls",
          "model_name": "HTMLModel",
          "model_module_version": "1.5.0",
          "state": {
            "_dom_classes": [],
            "_model_module": "@jupyter-widgets/controls",
            "_model_module_version": "1.5.0",
            "_model_name": "HTMLModel",
            "_view_count": null,
            "_view_module": "@jupyter-widgets/controls",
            "_view_module_version": "1.5.0",
            "_view_name": "HTMLView",
            "description": "",
            "description_tooltip": null,
            "layout": "IPY_MODEL_093fdc0ab63a441a9e555732b0713260",
            "placeholder": "​",
            "style": "IPY_MODEL_e6f1cd50399c4501934963ab5049ccab",
            "value": "Downloading: 100%"
          }
        },
        "49c0d73f628e460298dafa46955f6873": {
          "model_module": "@jupyter-widgets/controls",
          "model_name": "FloatProgressModel",
          "model_module_version": "1.5.0",
          "state": {
            "_dom_classes": [],
            "_model_module": "@jupyter-widgets/controls",
            "_model_module_version": "1.5.0",
            "_model_name": "FloatProgressModel",
            "_view_count": null,
            "_view_module": "@jupyter-widgets/controls",
            "_view_module_version": "1.5.0",
            "_view_name": "ProgressView",
            "bar_style": "success",
            "description": "",
            "description_tooltip": null,
            "layout": "IPY_MODEL_3876802d4cbf4c139138f1920a6ca661",
            "max": 28,
            "min": 0,
            "orientation": "horizontal",
            "style": "IPY_MODEL_846d8e3fef0a4ab1a479a1568d2af157",
            "value": 28
          }
        },
        "1830622a57e74740a4147770cc1246e1": {
          "model_module": "@jupyter-widgets/controls",
          "model_name": "HTMLModel",
          "model_module_version": "1.5.0",
          "state": {
            "_dom_classes": [],
            "_model_module": "@jupyter-widgets/controls",
            "_model_module_version": "1.5.0",
            "_model_name": "HTMLModel",
            "_view_count": null,
            "_view_module": "@jupyter-widgets/controls",
            "_view_module_version": "1.5.0",
            "_view_name": "HTMLView",
            "description": "",
            "description_tooltip": null,
            "layout": "IPY_MODEL_db43ed0b85b340799367e0bd0711fcf5",
            "placeholder": "​",
            "style": "IPY_MODEL_52cc493bec214285ad39f0f48fedc2d1",
            "value": " 28.0/28.0 [00:00&lt;00:00, 217B/s]"
          }
        },
        "cc8eb5d874bb4977b345d3d926847103": {
          "model_module": "@jupyter-widgets/base",
          "model_name": "LayoutModel",
          "model_module_version": "1.2.0",
          "state": {
            "_model_module": "@jupyter-widgets/base",
            "_model_module_version": "1.2.0",
            "_model_name": "LayoutModel",
            "_view_count": null,
            "_view_module": "@jupyter-widgets/base",
            "_view_module_version": "1.2.0",
            "_view_name": "LayoutView",
            "align_content": null,
            "align_items": null,
            "align_self": null,
            "border": null,
            "bottom": null,
            "display": null,
            "flex": null,
            "flex_flow": null,
            "grid_area": null,
            "grid_auto_columns": null,
            "grid_auto_flow": null,
            "grid_auto_rows": null,
            "grid_column": null,
            "grid_gap": null,
            "grid_row": null,
            "grid_template_areas": null,
            "grid_template_columns": null,
            "grid_template_rows": null,
            "height": null,
            "justify_content": null,
            "justify_items": null,
            "left": null,
            "margin": null,
            "max_height": null,
            "max_width": null,
            "min_height": null,
            "min_width": null,
            "object_fit": null,
            "object_position": null,
            "order": null,
            "overflow": null,
            "overflow_x": null,
            "overflow_y": null,
            "padding": null,
            "right": null,
            "top": null,
            "visibility": null,
            "width": null
          }
        },
        "093fdc0ab63a441a9e555732b0713260": {
          "model_module": "@jupyter-widgets/base",
          "model_name": "LayoutModel",
          "model_module_version": "1.2.0",
          "state": {
            "_model_module": "@jupyter-widgets/base",
            "_model_module_version": "1.2.0",
            "_model_name": "LayoutModel",
            "_view_count": null,
            "_view_module": "@jupyter-widgets/base",
            "_view_module_version": "1.2.0",
            "_view_name": "LayoutView",
            "align_content": null,
            "align_items": null,
            "align_self": null,
            "border": null,
            "bottom": null,
            "display": null,
            "flex": null,
            "flex_flow": null,
            "grid_area": null,
            "grid_auto_columns": null,
            "grid_auto_flow": null,
            "grid_auto_rows": null,
            "grid_column": null,
            "grid_gap": null,
            "grid_row": null,
            "grid_template_areas": null,
            "grid_template_columns": null,
            "grid_template_rows": null,
            "height": null,
            "justify_content": null,
            "justify_items": null,
            "left": null,
            "margin": null,
            "max_height": null,
            "max_width": null,
            "min_height": null,
            "min_width": null,
            "object_fit": null,
            "object_position": null,
            "order": null,
            "overflow": null,
            "overflow_x": null,
            "overflow_y": null,
            "padding": null,
            "right": null,
            "top": null,
            "visibility": null,
            "width": null
          }
        },
        "e6f1cd50399c4501934963ab5049ccab": {
          "model_module": "@jupyter-widgets/controls",
          "model_name": "DescriptionStyleModel",
          "model_module_version": "1.5.0",
          "state": {
            "_model_module": "@jupyter-widgets/controls",
            "_model_module_version": "1.5.0",
            "_model_name": "DescriptionStyleModel",
            "_view_count": null,
            "_view_module": "@jupyter-widgets/base",
            "_view_module_version": "1.2.0",
            "_view_name": "StyleView",
            "description_width": ""
          }
        },
        "3876802d4cbf4c139138f1920a6ca661": {
          "model_module": "@jupyter-widgets/base",
          "model_name": "LayoutModel",
          "model_module_version": "1.2.0",
          "state": {
            "_model_module": "@jupyter-widgets/base",
            "_model_module_version": "1.2.0",
            "_model_name": "LayoutModel",
            "_view_count": null,
            "_view_module": "@jupyter-widgets/base",
            "_view_module_version": "1.2.0",
            "_view_name": "LayoutView",
            "align_content": null,
            "align_items": null,
            "align_self": null,
            "border": null,
            "bottom": null,
            "display": null,
            "flex": null,
            "flex_flow": null,
            "grid_area": null,
            "grid_auto_columns": null,
            "grid_auto_flow": null,
            "grid_auto_rows": null,
            "grid_column": null,
            "grid_gap": null,
            "grid_row": null,
            "grid_template_areas": null,
            "grid_template_columns": null,
            "grid_template_rows": null,
            "height": null,
            "justify_content": null,
            "justify_items": null,
            "left": null,
            "margin": null,
            "max_height": null,
            "max_width": null,
            "min_height": null,
            "min_width": null,
            "object_fit": null,
            "object_position": null,
            "order": null,
            "overflow": null,
            "overflow_x": null,
            "overflow_y": null,
            "padding": null,
            "right": null,
            "top": null,
            "visibility": null,
            "width": null
          }
        },
        "846d8e3fef0a4ab1a479a1568d2af157": {
          "model_module": "@jupyter-widgets/controls",
          "model_name": "ProgressStyleModel",
          "model_module_version": "1.5.0",
          "state": {
            "_model_module": "@jupyter-widgets/controls",
            "_model_module_version": "1.5.0",
            "_model_name": "ProgressStyleModel",
            "_view_count": null,
            "_view_module": "@jupyter-widgets/base",
            "_view_module_version": "1.2.0",
            "_view_name": "StyleView",
            "bar_color": null,
            "description_width": ""
          }
        },
        "db43ed0b85b340799367e0bd0711fcf5": {
          "model_module": "@jupyter-widgets/base",
          "model_name": "LayoutModel",
          "model_module_version": "1.2.0",
          "state": {
            "_model_module": "@jupyter-widgets/base",
            "_model_module_version": "1.2.0",
            "_model_name": "LayoutModel",
            "_view_count": null,
            "_view_module": "@jupyter-widgets/base",
            "_view_module_version": "1.2.0",
            "_view_name": "LayoutView",
            "align_content": null,
            "align_items": null,
            "align_self": null,
            "border": null,
            "bottom": null,
            "display": null,
            "flex": null,
            "flex_flow": null,
            "grid_area": null,
            "grid_auto_columns": null,
            "grid_auto_flow": null,
            "grid_auto_rows": null,
            "grid_column": null,
            "grid_gap": null,
            "grid_row": null,
            "grid_template_areas": null,
            "grid_template_columns": null,
            "grid_template_rows": null,
            "height": null,
            "justify_content": null,
            "justify_items": null,
            "left": null,
            "margin": null,
            "max_height": null,
            "max_width": null,
            "min_height": null,
            "min_width": null,
            "object_fit": null,
            "object_position": null,
            "order": null,
            "overflow": null,
            "overflow_x": null,
            "overflow_y": null,
            "padding": null,
            "right": null,
            "top": null,
            "visibility": null,
            "width": null
          }
        },
        "52cc493bec214285ad39f0f48fedc2d1": {
          "model_module": "@jupyter-widgets/controls",
          "model_name": "DescriptionStyleModel",
          "model_module_version": "1.5.0",
          "state": {
            "_model_module": "@jupyter-widgets/controls",
            "_model_module_version": "1.5.0",
            "_model_name": "DescriptionStyleModel",
            "_view_count": null,
            "_view_module": "@jupyter-widgets/base",
            "_view_module_version": "1.2.0",
            "_view_name": "StyleView",
            "description_width": ""
          }
        },
        "8471fb08018143be834e677e3bc15607": {
          "model_module": "@jupyter-widgets/controls",
          "model_name": "HBoxModel",
          "model_module_version": "1.5.0",
          "state": {
            "_dom_classes": [],
            "_model_module": "@jupyter-widgets/controls",
            "_model_module_version": "1.5.0",
            "_model_name": "HBoxModel",
            "_view_count": null,
            "_view_module": "@jupyter-widgets/controls",
            "_view_module_version": "1.5.0",
            "_view_name": "HBoxView",
            "box_style": "",
            "children": [
              "IPY_MODEL_8b5e21a30ed94418873bb0f104653be0",
              "IPY_MODEL_ce7929b425474fb18c265e8c2365ef0e",
              "IPY_MODEL_d0c71cca90624db69a963589ab9530e5"
            ],
            "layout": "IPY_MODEL_65c0f0d4abc54ba292ab2d11551b73db"
          }
        },
        "8b5e21a30ed94418873bb0f104653be0": {
          "model_module": "@jupyter-widgets/controls",
          "model_name": "HTMLModel",
          "model_module_version": "1.5.0",
          "state": {
            "_dom_classes": [],
            "_model_module": "@jupyter-widgets/controls",
            "_model_module_version": "1.5.0",
            "_model_name": "HTMLModel",
            "_view_count": null,
            "_view_module": "@jupyter-widgets/controls",
            "_view_module_version": "1.5.0",
            "_view_name": "HTMLView",
            "description": "",
            "description_tooltip": null,
            "layout": "IPY_MODEL_e58cc790b50e48cea14881bd98a63139",
            "placeholder": "​",
            "style": "IPY_MODEL_10aa79c0435e4c0cb62764bb5f89da98",
            "value": "Downloading: 100%"
          }
        },
        "ce7929b425474fb18c265e8c2365ef0e": {
          "model_module": "@jupyter-widgets/controls",
          "model_name": "FloatProgressModel",
          "model_module_version": "1.5.0",
          "state": {
            "_dom_classes": [],
            "_model_module": "@jupyter-widgets/controls",
            "_model_module_version": "1.5.0",
            "_model_name": "FloatProgressModel",
            "_view_count": null,
            "_view_module": "@jupyter-widgets/controls",
            "_view_module_version": "1.5.0",
            "_view_name": "ProgressView",
            "bar_style": "success",
            "description": "",
            "description_tooltip": null,
            "layout": "IPY_MODEL_31da0a3325d246aca1ff059945b60e95",
            "max": 570,
            "min": 0,
            "orientation": "horizontal",
            "style": "IPY_MODEL_5ed97835f68f4d5b97cda72ef15d3929",
            "value": 570
          }
        },
        "d0c71cca90624db69a963589ab9530e5": {
          "model_module": "@jupyter-widgets/controls",
          "model_name": "HTMLModel",
          "model_module_version": "1.5.0",
          "state": {
            "_dom_classes": [],
            "_model_module": "@jupyter-widgets/controls",
            "_model_module_version": "1.5.0",
            "_model_name": "HTMLModel",
            "_view_count": null,
            "_view_module": "@jupyter-widgets/controls",
            "_view_module_version": "1.5.0",
            "_view_name": "HTMLView",
            "description": "",
            "description_tooltip": null,
            "layout": "IPY_MODEL_18d792faa0bf4e73a079c8a80b7f38d8",
            "placeholder": "​",
            "style": "IPY_MODEL_a009a25b7eac4b9897b43e080811bad3",
            "value": " 570/570 [00:00&lt;00:00, 4.12kB/s]"
          }
        },
        "65c0f0d4abc54ba292ab2d11551b73db": {
          "model_module": "@jupyter-widgets/base",
          "model_name": "LayoutModel",
          "model_module_version": "1.2.0",
          "state": {
            "_model_module": "@jupyter-widgets/base",
            "_model_module_version": "1.2.0",
            "_model_name": "LayoutModel",
            "_view_count": null,
            "_view_module": "@jupyter-widgets/base",
            "_view_module_version": "1.2.0",
            "_view_name": "LayoutView",
            "align_content": null,
            "align_items": null,
            "align_self": null,
            "border": null,
            "bottom": null,
            "display": null,
            "flex": null,
            "flex_flow": null,
            "grid_area": null,
            "grid_auto_columns": null,
            "grid_auto_flow": null,
            "grid_auto_rows": null,
            "grid_column": null,
            "grid_gap": null,
            "grid_row": null,
            "grid_template_areas": null,
            "grid_template_columns": null,
            "grid_template_rows": null,
            "height": null,
            "justify_content": null,
            "justify_items": null,
            "left": null,
            "margin": null,
            "max_height": null,
            "max_width": null,
            "min_height": null,
            "min_width": null,
            "object_fit": null,
            "object_position": null,
            "order": null,
            "overflow": null,
            "overflow_x": null,
            "overflow_y": null,
            "padding": null,
            "right": null,
            "top": null,
            "visibility": null,
            "width": null
          }
        },
        "e58cc790b50e48cea14881bd98a63139": {
          "model_module": "@jupyter-widgets/base",
          "model_name": "LayoutModel",
          "model_module_version": "1.2.0",
          "state": {
            "_model_module": "@jupyter-widgets/base",
            "_model_module_version": "1.2.0",
            "_model_name": "LayoutModel",
            "_view_count": null,
            "_view_module": "@jupyter-widgets/base",
            "_view_module_version": "1.2.0",
            "_view_name": "LayoutView",
            "align_content": null,
            "align_items": null,
            "align_self": null,
            "border": null,
            "bottom": null,
            "display": null,
            "flex": null,
            "flex_flow": null,
            "grid_area": null,
            "grid_auto_columns": null,
            "grid_auto_flow": null,
            "grid_auto_rows": null,
            "grid_column": null,
            "grid_gap": null,
            "grid_row": null,
            "grid_template_areas": null,
            "grid_template_columns": null,
            "grid_template_rows": null,
            "height": null,
            "justify_content": null,
            "justify_items": null,
            "left": null,
            "margin": null,
            "max_height": null,
            "max_width": null,
            "min_height": null,
            "min_width": null,
            "object_fit": null,
            "object_position": null,
            "order": null,
            "overflow": null,
            "overflow_x": null,
            "overflow_y": null,
            "padding": null,
            "right": null,
            "top": null,
            "visibility": null,
            "width": null
          }
        },
        "10aa79c0435e4c0cb62764bb5f89da98": {
          "model_module": "@jupyter-widgets/controls",
          "model_name": "DescriptionStyleModel",
          "model_module_version": "1.5.0",
          "state": {
            "_model_module": "@jupyter-widgets/controls",
            "_model_module_version": "1.5.0",
            "_model_name": "DescriptionStyleModel",
            "_view_count": null,
            "_view_module": "@jupyter-widgets/base",
            "_view_module_version": "1.2.0",
            "_view_name": "StyleView",
            "description_width": ""
          }
        },
        "31da0a3325d246aca1ff059945b60e95": {
          "model_module": "@jupyter-widgets/base",
          "model_name": "LayoutModel",
          "model_module_version": "1.2.0",
          "state": {
            "_model_module": "@jupyter-widgets/base",
            "_model_module_version": "1.2.0",
            "_model_name": "LayoutModel",
            "_view_count": null,
            "_view_module": "@jupyter-widgets/base",
            "_view_module_version": "1.2.0",
            "_view_name": "LayoutView",
            "align_content": null,
            "align_items": null,
            "align_self": null,
            "border": null,
            "bottom": null,
            "display": null,
            "flex": null,
            "flex_flow": null,
            "grid_area": null,
            "grid_auto_columns": null,
            "grid_auto_flow": null,
            "grid_auto_rows": null,
            "grid_column": null,
            "grid_gap": null,
            "grid_row": null,
            "grid_template_areas": null,
            "grid_template_columns": null,
            "grid_template_rows": null,
            "height": null,
            "justify_content": null,
            "justify_items": null,
            "left": null,
            "margin": null,
            "max_height": null,
            "max_width": null,
            "min_height": null,
            "min_width": null,
            "object_fit": null,
            "object_position": null,
            "order": null,
            "overflow": null,
            "overflow_x": null,
            "overflow_y": null,
            "padding": null,
            "right": null,
            "top": null,
            "visibility": null,
            "width": null
          }
        },
        "5ed97835f68f4d5b97cda72ef15d3929": {
          "model_module": "@jupyter-widgets/controls",
          "model_name": "ProgressStyleModel",
          "model_module_version": "1.5.0",
          "state": {
            "_model_module": "@jupyter-widgets/controls",
            "_model_module_version": "1.5.0",
            "_model_name": "ProgressStyleModel",
            "_view_count": null,
            "_view_module": "@jupyter-widgets/base",
            "_view_module_version": "1.2.0",
            "_view_name": "StyleView",
            "bar_color": null,
            "description_width": ""
          }
        },
        "18d792faa0bf4e73a079c8a80b7f38d8": {
          "model_module": "@jupyter-widgets/base",
          "model_name": "LayoutModel",
          "model_module_version": "1.2.0",
          "state": {
            "_model_module": "@jupyter-widgets/base",
            "_model_module_version": "1.2.0",
            "_model_name": "LayoutModel",
            "_view_count": null,
            "_view_module": "@jupyter-widgets/base",
            "_view_module_version": "1.2.0",
            "_view_name": "LayoutView",
            "align_content": null,
            "align_items": null,
            "align_self": null,
            "border": null,
            "bottom": null,
            "display": null,
            "flex": null,
            "flex_flow": null,
            "grid_area": null,
            "grid_auto_columns": null,
            "grid_auto_flow": null,
            "grid_auto_rows": null,
            "grid_column": null,
            "grid_gap": null,
            "grid_row": null,
            "grid_template_areas": null,
            "grid_template_columns": null,
            "grid_template_rows": null,
            "height": null,
            "justify_content": null,
            "justify_items": null,
            "left": null,
            "margin": null,
            "max_height": null,
            "max_width": null,
            "min_height": null,
            "min_width": null,
            "object_fit": null,
            "object_position": null,
            "order": null,
            "overflow": null,
            "overflow_x": null,
            "overflow_y": null,
            "padding": null,
            "right": null,
            "top": null,
            "visibility": null,
            "width": null
          }
        },
        "a009a25b7eac4b9897b43e080811bad3": {
          "model_module": "@jupyter-widgets/controls",
          "model_name": "DescriptionStyleModel",
          "model_module_version": "1.5.0",
          "state": {
            "_model_module": "@jupyter-widgets/controls",
            "_model_module_version": "1.5.0",
            "_model_name": "DescriptionStyleModel",
            "_view_count": null,
            "_view_module": "@jupyter-widgets/base",
            "_view_module_version": "1.2.0",
            "_view_name": "StyleView",
            "description_width": ""
          }
        },
        "4c4fd3e729374fe2b3f71ec36704b6a6": {
          "model_module": "@jupyter-widgets/controls",
          "model_name": "HBoxModel",
          "model_module_version": "1.5.0",
          "state": {
            "_dom_classes": [],
            "_model_module": "@jupyter-widgets/controls",
            "_model_module_version": "1.5.0",
            "_model_name": "HBoxModel",
            "_view_count": null,
            "_view_module": "@jupyter-widgets/controls",
            "_view_module_version": "1.5.0",
            "_view_name": "HBoxView",
            "box_style": "",
            "children": [
              "IPY_MODEL_aade99a5ffe0446aacedb8f815e508b1",
              "IPY_MODEL_8ed2874e7fc244f085f3ae0ae37ff5f5",
              "IPY_MODEL_a89d2266eb62408684bac1c895708f78"
            ],
            "layout": "IPY_MODEL_0b18973f29e844fbbf73a7cc4dac07ed"
          }
        },
        "aade99a5ffe0446aacedb8f815e508b1": {
          "model_module": "@jupyter-widgets/controls",
          "model_name": "HTMLModel",
          "model_module_version": "1.5.0",
          "state": {
            "_dom_classes": [],
            "_model_module": "@jupyter-widgets/controls",
            "_model_module_version": "1.5.0",
            "_model_name": "HTMLModel",
            "_view_count": null,
            "_view_module": "@jupyter-widgets/controls",
            "_view_module_version": "1.5.0",
            "_view_name": "HTMLView",
            "description": "",
            "description_tooltip": null,
            "layout": "IPY_MODEL_199668d8fe434ed2ab809eca6f139411",
            "placeholder": "​",
            "style": "IPY_MODEL_8f95a3cc86a34041a70372fa736b9ddb",
            "value": "Downloading: 100%"
          }
        },
        "8ed2874e7fc244f085f3ae0ae37ff5f5": {
          "model_module": "@jupyter-widgets/controls",
          "model_name": "FloatProgressModel",
          "model_module_version": "1.5.0",
          "state": {
            "_dom_classes": [],
            "_model_module": "@jupyter-widgets/controls",
            "_model_module_version": "1.5.0",
            "_model_name": "FloatProgressModel",
            "_view_count": null,
            "_view_module": "@jupyter-widgets/controls",
            "_view_module_version": "1.5.0",
            "_view_name": "ProgressView",
            "bar_style": "success",
            "description": "",
            "description_tooltip": null,
            "layout": "IPY_MODEL_203e753c57bb482c85ca8305b32ef74a",
            "max": 440473133,
            "min": 0,
            "orientation": "horizontal",
            "style": "IPY_MODEL_82b176c202934466a4acc5ca636783dc",
            "value": 440473133
          }
        },
        "a89d2266eb62408684bac1c895708f78": {
          "model_module": "@jupyter-widgets/controls",
          "model_name": "HTMLModel",
          "model_module_version": "1.5.0",
          "state": {
            "_dom_classes": [],
            "_model_module": "@jupyter-widgets/controls",
            "_model_module_version": "1.5.0",
            "_model_name": "HTMLModel",
            "_view_count": null,
            "_view_module": "@jupyter-widgets/controls",
            "_view_module_version": "1.5.0",
            "_view_name": "HTMLView",
            "description": "",
            "description_tooltip": null,
            "layout": "IPY_MODEL_04b9629d279d41a7b537eae9666fe846",
            "placeholder": "​",
            "style": "IPY_MODEL_f5cc8b86d2d24d1d8f976cb9645585fa",
            "value": " 420M/420M [00:12&lt;00:00, 37.5MB/s]"
          }
        },
        "0b18973f29e844fbbf73a7cc4dac07ed": {
          "model_module": "@jupyter-widgets/base",
          "model_name": "LayoutModel",
          "model_module_version": "1.2.0",
          "state": {
            "_model_module": "@jupyter-widgets/base",
            "_model_module_version": "1.2.0",
            "_model_name": "LayoutModel",
            "_view_count": null,
            "_view_module": "@jupyter-widgets/base",
            "_view_module_version": "1.2.0",
            "_view_name": "LayoutView",
            "align_content": null,
            "align_items": null,
            "align_self": null,
            "border": null,
            "bottom": null,
            "display": null,
            "flex": null,
            "flex_flow": null,
            "grid_area": null,
            "grid_auto_columns": null,
            "grid_auto_flow": null,
            "grid_auto_rows": null,
            "grid_column": null,
            "grid_gap": null,
            "grid_row": null,
            "grid_template_areas": null,
            "grid_template_columns": null,
            "grid_template_rows": null,
            "height": null,
            "justify_content": null,
            "justify_items": null,
            "left": null,
            "margin": null,
            "max_height": null,
            "max_width": null,
            "min_height": null,
            "min_width": null,
            "object_fit": null,
            "object_position": null,
            "order": null,
            "overflow": null,
            "overflow_x": null,
            "overflow_y": null,
            "padding": null,
            "right": null,
            "top": null,
            "visibility": null,
            "width": null
          }
        },
        "199668d8fe434ed2ab809eca6f139411": {
          "model_module": "@jupyter-widgets/base",
          "model_name": "LayoutModel",
          "model_module_version": "1.2.0",
          "state": {
            "_model_module": "@jupyter-widgets/base",
            "_model_module_version": "1.2.0",
            "_model_name": "LayoutModel",
            "_view_count": null,
            "_view_module": "@jupyter-widgets/base",
            "_view_module_version": "1.2.0",
            "_view_name": "LayoutView",
            "align_content": null,
            "align_items": null,
            "align_self": null,
            "border": null,
            "bottom": null,
            "display": null,
            "flex": null,
            "flex_flow": null,
            "grid_area": null,
            "grid_auto_columns": null,
            "grid_auto_flow": null,
            "grid_auto_rows": null,
            "grid_column": null,
            "grid_gap": null,
            "grid_row": null,
            "grid_template_areas": null,
            "grid_template_columns": null,
            "grid_template_rows": null,
            "height": null,
            "justify_content": null,
            "justify_items": null,
            "left": null,
            "margin": null,
            "max_height": null,
            "max_width": null,
            "min_height": null,
            "min_width": null,
            "object_fit": null,
            "object_position": null,
            "order": null,
            "overflow": null,
            "overflow_x": null,
            "overflow_y": null,
            "padding": null,
            "right": null,
            "top": null,
            "visibility": null,
            "width": null
          }
        },
        "8f95a3cc86a34041a70372fa736b9ddb": {
          "model_module": "@jupyter-widgets/controls",
          "model_name": "DescriptionStyleModel",
          "model_module_version": "1.5.0",
          "state": {
            "_model_module": "@jupyter-widgets/controls",
            "_model_module_version": "1.5.0",
            "_model_name": "DescriptionStyleModel",
            "_view_count": null,
            "_view_module": "@jupyter-widgets/base",
            "_view_module_version": "1.2.0",
            "_view_name": "StyleView",
            "description_width": ""
          }
        },
        "203e753c57bb482c85ca8305b32ef74a": {
          "model_module": "@jupyter-widgets/base",
          "model_name": "LayoutModel",
          "model_module_version": "1.2.0",
          "state": {
            "_model_module": "@jupyter-widgets/base",
            "_model_module_version": "1.2.0",
            "_model_name": "LayoutModel",
            "_view_count": null,
            "_view_module": "@jupyter-widgets/base",
            "_view_module_version": "1.2.0",
            "_view_name": "LayoutView",
            "align_content": null,
            "align_items": null,
            "align_self": null,
            "border": null,
            "bottom": null,
            "display": null,
            "flex": null,
            "flex_flow": null,
            "grid_area": null,
            "grid_auto_columns": null,
            "grid_auto_flow": null,
            "grid_auto_rows": null,
            "grid_column": null,
            "grid_gap": null,
            "grid_row": null,
            "grid_template_areas": null,
            "grid_template_columns": null,
            "grid_template_rows": null,
            "height": null,
            "justify_content": null,
            "justify_items": null,
            "left": null,
            "margin": null,
            "max_height": null,
            "max_width": null,
            "min_height": null,
            "min_width": null,
            "object_fit": null,
            "object_position": null,
            "order": null,
            "overflow": null,
            "overflow_x": null,
            "overflow_y": null,
            "padding": null,
            "right": null,
            "top": null,
            "visibility": null,
            "width": null
          }
        },
        "82b176c202934466a4acc5ca636783dc": {
          "model_module": "@jupyter-widgets/controls",
          "model_name": "ProgressStyleModel",
          "model_module_version": "1.5.0",
          "state": {
            "_model_module": "@jupyter-widgets/controls",
            "_model_module_version": "1.5.0",
            "_model_name": "ProgressStyleModel",
            "_view_count": null,
            "_view_module": "@jupyter-widgets/base",
            "_view_module_version": "1.2.0",
            "_view_name": "StyleView",
            "bar_color": null,
            "description_width": ""
          }
        },
        "04b9629d279d41a7b537eae9666fe846": {
          "model_module": "@jupyter-widgets/base",
          "model_name": "LayoutModel",
          "model_module_version": "1.2.0",
          "state": {
            "_model_module": "@jupyter-widgets/base",
            "_model_module_version": "1.2.0",
            "_model_name": "LayoutModel",
            "_view_count": null,
            "_view_module": "@jupyter-widgets/base",
            "_view_module_version": "1.2.0",
            "_view_name": "LayoutView",
            "align_content": null,
            "align_items": null,
            "align_self": null,
            "border": null,
            "bottom": null,
            "display": null,
            "flex": null,
            "flex_flow": null,
            "grid_area": null,
            "grid_auto_columns": null,
            "grid_auto_flow": null,
            "grid_auto_rows": null,
            "grid_column": null,
            "grid_gap": null,
            "grid_row": null,
            "grid_template_areas": null,
            "grid_template_columns": null,
            "grid_template_rows": null,
            "height": null,
            "justify_content": null,
            "justify_items": null,
            "left": null,
            "margin": null,
            "max_height": null,
            "max_width": null,
            "min_height": null,
            "min_width": null,
            "object_fit": null,
            "object_position": null,
            "order": null,
            "overflow": null,
            "overflow_x": null,
            "overflow_y": null,
            "padding": null,
            "right": null,
            "top": null,
            "visibility": null,
            "width": null
          }
        },
        "f5cc8b86d2d24d1d8f976cb9645585fa": {
          "model_module": "@jupyter-widgets/controls",
          "model_name": "DescriptionStyleModel",
          "model_module_version": "1.5.0",
          "state": {
            "_model_module": "@jupyter-widgets/controls",
            "_model_module_version": "1.5.0",
            "_model_name": "DescriptionStyleModel",
            "_view_count": null,
            "_view_module": "@jupyter-widgets/base",
            "_view_module_version": "1.2.0",
            "_view_name": "StyleView",
            "description_width": ""
          }
        },
        "8fd7de03666e40599c1269c28d8b4eed": {
          "model_module": "@jupyter-widgets/controls",
          "model_name": "HBoxModel",
          "model_module_version": "1.5.0",
          "state": {
            "_dom_classes": [],
            "_model_module": "@jupyter-widgets/controls",
            "_model_module_version": "1.5.0",
            "_model_name": "HBoxModel",
            "_view_count": null,
            "_view_module": "@jupyter-widgets/controls",
            "_view_module_version": "1.5.0",
            "_view_name": "HBoxView",
            "box_style": "",
            "children": [
              "IPY_MODEL_ab076e9d41424a70bb66a635e2f4bffe",
              "IPY_MODEL_8c916ddf020e4ac880a8232da459ce34",
              "IPY_MODEL_3d5dec43c2ef40fdbeb067c5ed97e961"
            ],
            "layout": "IPY_MODEL_08c71bbef8b545fd90c9b207a436cbfb"
          }
        },
        "ab076e9d41424a70bb66a635e2f4bffe": {
          "model_module": "@jupyter-widgets/controls",
          "model_name": "HTMLModel",
          "model_module_version": "1.5.0",
          "state": {
            "_dom_classes": [],
            "_model_module": "@jupyter-widgets/controls",
            "_model_module_version": "1.5.0",
            "_model_name": "HTMLModel",
            "_view_count": null,
            "_view_module": "@jupyter-widgets/controls",
            "_view_module_version": "1.5.0",
            "_view_name": "HTMLView",
            "description": "",
            "description_tooltip": null,
            "layout": "IPY_MODEL_e5ed9a0ce7364d348128ecaa788adb1b",
            "placeholder": "​",
            "style": "IPY_MODEL_64e6b4e72e7c462585b287eaa2b72b7c",
            "value": "100%"
          }
        },
        "8c916ddf020e4ac880a8232da459ce34": {
          "model_module": "@jupyter-widgets/controls",
          "model_name": "FloatProgressModel",
          "model_module_version": "1.5.0",
          "state": {
            "_dom_classes": [],
            "_model_module": "@jupyter-widgets/controls",
            "_model_module_version": "1.5.0",
            "_model_name": "FloatProgressModel",
            "_view_count": null,
            "_view_module": "@jupyter-widgets/controls",
            "_view_module_version": "1.5.0",
            "_view_name": "ProgressView",
            "bar_style": "success",
            "description": "",
            "description_tooltip": null,
            "layout": "IPY_MODEL_01cf8214079043259131df3447c1804a",
            "max": 3,
            "min": 0,
            "orientation": "horizontal",
            "style": "IPY_MODEL_aa788ebe575447a68d3434911f74bb54",
            "value": 3
          }
        },
        "3d5dec43c2ef40fdbeb067c5ed97e961": {
          "model_module": "@jupyter-widgets/controls",
          "model_name": "HTMLModel",
          "model_module_version": "1.5.0",
          "state": {
            "_dom_classes": [],
            "_model_module": "@jupyter-widgets/controls",
            "_model_module_version": "1.5.0",
            "_model_name": "HTMLModel",
            "_view_count": null,
            "_view_module": "@jupyter-widgets/controls",
            "_view_module_version": "1.5.0",
            "_view_name": "HTMLView",
            "description": "",
            "description_tooltip": null,
            "layout": "IPY_MODEL_bff280e19001429490ecacb2bc8f1cb5",
            "placeholder": "​",
            "style": "IPY_MODEL_3fb057ae15924019bb472b870d27ec99",
            "value": " 3/3 [4:19:00&lt;00:00, 5176.58s/it]"
          }
        },
        "08c71bbef8b545fd90c9b207a436cbfb": {
          "model_module": "@jupyter-widgets/base",
          "model_name": "LayoutModel",
          "model_module_version": "1.2.0",
          "state": {
            "_model_module": "@jupyter-widgets/base",
            "_model_module_version": "1.2.0",
            "_model_name": "LayoutModel",
            "_view_count": null,
            "_view_module": "@jupyter-widgets/base",
            "_view_module_version": "1.2.0",
            "_view_name": "LayoutView",
            "align_content": null,
            "align_items": null,
            "align_self": null,
            "border": null,
            "bottom": null,
            "display": null,
            "flex": null,
            "flex_flow": null,
            "grid_area": null,
            "grid_auto_columns": null,
            "grid_auto_flow": null,
            "grid_auto_rows": null,
            "grid_column": null,
            "grid_gap": null,
            "grid_row": null,
            "grid_template_areas": null,
            "grid_template_columns": null,
            "grid_template_rows": null,
            "height": null,
            "justify_content": null,
            "justify_items": null,
            "left": null,
            "margin": null,
            "max_height": null,
            "max_width": null,
            "min_height": null,
            "min_width": null,
            "object_fit": null,
            "object_position": null,
            "order": null,
            "overflow": null,
            "overflow_x": null,
            "overflow_y": null,
            "padding": null,
            "right": null,
            "top": null,
            "visibility": null,
            "width": null
          }
        },
        "e5ed9a0ce7364d348128ecaa788adb1b": {
          "model_module": "@jupyter-widgets/base",
          "model_name": "LayoutModel",
          "model_module_version": "1.2.0",
          "state": {
            "_model_module": "@jupyter-widgets/base",
            "_model_module_version": "1.2.0",
            "_model_name": "LayoutModel",
            "_view_count": null,
            "_view_module": "@jupyter-widgets/base",
            "_view_module_version": "1.2.0",
            "_view_name": "LayoutView",
            "align_content": null,
            "align_items": null,
            "align_self": null,
            "border": null,
            "bottom": null,
            "display": null,
            "flex": null,
            "flex_flow": null,
            "grid_area": null,
            "grid_auto_columns": null,
            "grid_auto_flow": null,
            "grid_auto_rows": null,
            "grid_column": null,
            "grid_gap": null,
            "grid_row": null,
            "grid_template_areas": null,
            "grid_template_columns": null,
            "grid_template_rows": null,
            "height": null,
            "justify_content": null,
            "justify_items": null,
            "left": null,
            "margin": null,
            "max_height": null,
            "max_width": null,
            "min_height": null,
            "min_width": null,
            "object_fit": null,
            "object_position": null,
            "order": null,
            "overflow": null,
            "overflow_x": null,
            "overflow_y": null,
            "padding": null,
            "right": null,
            "top": null,
            "visibility": null,
            "width": null
          }
        },
        "64e6b4e72e7c462585b287eaa2b72b7c": {
          "model_module": "@jupyter-widgets/controls",
          "model_name": "DescriptionStyleModel",
          "model_module_version": "1.5.0",
          "state": {
            "_model_module": "@jupyter-widgets/controls",
            "_model_module_version": "1.5.0",
            "_model_name": "DescriptionStyleModel",
            "_view_count": null,
            "_view_module": "@jupyter-widgets/base",
            "_view_module_version": "1.2.0",
            "_view_name": "StyleView",
            "description_width": ""
          }
        },
        "01cf8214079043259131df3447c1804a": {
          "model_module": "@jupyter-widgets/base",
          "model_name": "LayoutModel",
          "model_module_version": "1.2.0",
          "state": {
            "_model_module": "@jupyter-widgets/base",
            "_model_module_version": "1.2.0",
            "_model_name": "LayoutModel",
            "_view_count": null,
            "_view_module": "@jupyter-widgets/base",
            "_view_module_version": "1.2.0",
            "_view_name": "LayoutView",
            "align_content": null,
            "align_items": null,
            "align_self": null,
            "border": null,
            "bottom": null,
            "display": null,
            "flex": null,
            "flex_flow": null,
            "grid_area": null,
            "grid_auto_columns": null,
            "grid_auto_flow": null,
            "grid_auto_rows": null,
            "grid_column": null,
            "grid_gap": null,
            "grid_row": null,
            "grid_template_areas": null,
            "grid_template_columns": null,
            "grid_template_rows": null,
            "height": null,
            "justify_content": null,
            "justify_items": null,
            "left": null,
            "margin": null,
            "max_height": null,
            "max_width": null,
            "min_height": null,
            "min_width": null,
            "object_fit": null,
            "object_position": null,
            "order": null,
            "overflow": null,
            "overflow_x": null,
            "overflow_y": null,
            "padding": null,
            "right": null,
            "top": null,
            "visibility": null,
            "width": null
          }
        },
        "aa788ebe575447a68d3434911f74bb54": {
          "model_module": "@jupyter-widgets/controls",
          "model_name": "ProgressStyleModel",
          "model_module_version": "1.5.0",
          "state": {
            "_model_module": "@jupyter-widgets/controls",
            "_model_module_version": "1.5.0",
            "_model_name": "ProgressStyleModel",
            "_view_count": null,
            "_view_module": "@jupyter-widgets/base",
            "_view_module_version": "1.2.0",
            "_view_name": "StyleView",
            "bar_color": null,
            "description_width": ""
          }
        },
        "bff280e19001429490ecacb2bc8f1cb5": {
          "model_module": "@jupyter-widgets/base",
          "model_name": "LayoutModel",
          "model_module_version": "1.2.0",
          "state": {
            "_model_module": "@jupyter-widgets/base",
            "_model_module_version": "1.2.0",
            "_model_name": "LayoutModel",
            "_view_count": null,
            "_view_module": "@jupyter-widgets/base",
            "_view_module_version": "1.2.0",
            "_view_name": "LayoutView",
            "align_content": null,
            "align_items": null,
            "align_self": null,
            "border": null,
            "bottom": null,
            "display": null,
            "flex": null,
            "flex_flow": null,
            "grid_area": null,
            "grid_auto_columns": null,
            "grid_auto_flow": null,
            "grid_auto_rows": null,
            "grid_column": null,
            "grid_gap": null,
            "grid_row": null,
            "grid_template_areas": null,
            "grid_template_columns": null,
            "grid_template_rows": null,
            "height": null,
            "justify_content": null,
            "justify_items": null,
            "left": null,
            "margin": null,
            "max_height": null,
            "max_width": null,
            "min_height": null,
            "min_width": null,
            "object_fit": null,
            "object_position": null,
            "order": null,
            "overflow": null,
            "overflow_x": null,
            "overflow_y": null,
            "padding": null,
            "right": null,
            "top": null,
            "visibility": null,
            "width": null
          }
        },
        "3fb057ae15924019bb472b870d27ec99": {
          "model_module": "@jupyter-widgets/controls",
          "model_name": "DescriptionStyleModel",
          "model_module_version": "1.5.0",
          "state": {
            "_model_module": "@jupyter-widgets/controls",
            "_model_module_version": "1.5.0",
            "_model_name": "DescriptionStyleModel",
            "_view_count": null,
            "_view_module": "@jupyter-widgets/base",
            "_view_module_version": "1.2.0",
            "_view_name": "StyleView",
            "description_width": ""
          }
        },
        "f4b6b40567ac4603b271b07372c9ffda": {
          "model_module": "@jupyter-widgets/controls",
          "model_name": "HBoxModel",
          "model_module_version": "1.5.0",
          "state": {
            "_dom_classes": [],
            "_model_module": "@jupyter-widgets/controls",
            "_model_module_version": "1.5.0",
            "_model_name": "HBoxModel",
            "_view_count": null,
            "_view_module": "@jupyter-widgets/controls",
            "_view_module_version": "1.5.0",
            "_view_name": "HBoxView",
            "box_style": "",
            "children": [
              "IPY_MODEL_96d689a276dd4cfaa7c90d7027c33e96",
              "IPY_MODEL_3f18435c2e5a48508cbd935da0ca6676",
              "IPY_MODEL_7112cac6fc0c4c0b90c8b2ac75fc965c"
            ],
            "layout": "IPY_MODEL_cc616e758aa74c29bcd5d249ca748b34"
          }
        },
        "96d689a276dd4cfaa7c90d7027c33e96": {
          "model_module": "@jupyter-widgets/controls",
          "model_name": "HTMLModel",
          "model_module_version": "1.5.0",
          "state": {
            "_dom_classes": [],
            "_model_module": "@jupyter-widgets/controls",
            "_model_module_version": "1.5.0",
            "_model_name": "HTMLModel",
            "_view_count": null,
            "_view_module": "@jupyter-widgets/controls",
            "_view_module_version": "1.5.0",
            "_view_name": "HTMLView",
            "description": "",
            "description_tooltip": null,
            "layout": "IPY_MODEL_2ecf3d89bcfd4da195eb872d8a3b19d4",
            "placeholder": "​",
            "style": "IPY_MODEL_60cb37f9db224ae1899bc68567364489",
            "value": "Epoch 1: 100%"
          }
        },
        "3f18435c2e5a48508cbd935da0ca6676": {
          "model_module": "@jupyter-widgets/controls",
          "model_name": "FloatProgressModel",
          "model_module_version": "1.5.0",
          "state": {
            "_dom_classes": [],
            "_model_module": "@jupyter-widgets/controls",
            "_model_module_version": "1.5.0",
            "_model_name": "FloatProgressModel",
            "_view_count": null,
            "_view_module": "@jupyter-widgets/controls",
            "_view_module_version": "1.5.0",
            "_view_name": "ProgressView",
            "bar_style": "",
            "description": "",
            "description_tooltip": null,
            "layout": "IPY_MODEL_603d2dcdbd4a461081ca2f5025a1c275",
            "max": 14147,
            "min": 0,
            "orientation": "horizontal",
            "style": "IPY_MODEL_ddf1622cfa5649a081c8974dcae64b38",
            "value": 14147
          }
        },
        "7112cac6fc0c4c0b90c8b2ac75fc965c": {
          "model_module": "@jupyter-widgets/controls",
          "model_name": "HTMLModel",
          "model_module_version": "1.5.0",
          "state": {
            "_dom_classes": [],
            "_model_module": "@jupyter-widgets/controls",
            "_model_module_version": "1.5.0",
            "_model_name": "HTMLModel",
            "_view_count": null,
            "_view_module": "@jupyter-widgets/controls",
            "_view_module_version": "1.5.0",
            "_view_name": "HTMLView",
            "description": "",
            "description_tooltip": null,
            "layout": "IPY_MODEL_97e4ea7910f34bd4ab302f8e17c7a038",
            "placeholder": "​",
            "style": "IPY_MODEL_6c34ff098e034364ad3c3f35d44773f1",
            "value": " 14147/14147 [1:22:01&lt;00:00,  3.10it/s, training_loss=0.002]"
          }
        },
        "cc616e758aa74c29bcd5d249ca748b34": {
          "model_module": "@jupyter-widgets/base",
          "model_name": "LayoutModel",
          "model_module_version": "1.2.0",
          "state": {
            "_model_module": "@jupyter-widgets/base",
            "_model_module_version": "1.2.0",
            "_model_name": "LayoutModel",
            "_view_count": null,
            "_view_module": "@jupyter-widgets/base",
            "_view_module_version": "1.2.0",
            "_view_name": "LayoutView",
            "align_content": null,
            "align_items": null,
            "align_self": null,
            "border": null,
            "bottom": null,
            "display": null,
            "flex": null,
            "flex_flow": null,
            "grid_area": null,
            "grid_auto_columns": null,
            "grid_auto_flow": null,
            "grid_auto_rows": null,
            "grid_column": null,
            "grid_gap": null,
            "grid_row": null,
            "grid_template_areas": null,
            "grid_template_columns": null,
            "grid_template_rows": null,
            "height": null,
            "justify_content": null,
            "justify_items": null,
            "left": null,
            "margin": null,
            "max_height": null,
            "max_width": null,
            "min_height": null,
            "min_width": null,
            "object_fit": null,
            "object_position": null,
            "order": null,
            "overflow": null,
            "overflow_x": null,
            "overflow_y": null,
            "padding": null,
            "right": null,
            "top": null,
            "visibility": null,
            "width": null
          }
        },
        "2ecf3d89bcfd4da195eb872d8a3b19d4": {
          "model_module": "@jupyter-widgets/base",
          "model_name": "LayoutModel",
          "model_module_version": "1.2.0",
          "state": {
            "_model_module": "@jupyter-widgets/base",
            "_model_module_version": "1.2.0",
            "_model_name": "LayoutModel",
            "_view_count": null,
            "_view_module": "@jupyter-widgets/base",
            "_view_module_version": "1.2.0",
            "_view_name": "LayoutView",
            "align_content": null,
            "align_items": null,
            "align_self": null,
            "border": null,
            "bottom": null,
            "display": null,
            "flex": null,
            "flex_flow": null,
            "grid_area": null,
            "grid_auto_columns": null,
            "grid_auto_flow": null,
            "grid_auto_rows": null,
            "grid_column": null,
            "grid_gap": null,
            "grid_row": null,
            "grid_template_areas": null,
            "grid_template_columns": null,
            "grid_template_rows": null,
            "height": null,
            "justify_content": null,
            "justify_items": null,
            "left": null,
            "margin": null,
            "max_height": null,
            "max_width": null,
            "min_height": null,
            "min_width": null,
            "object_fit": null,
            "object_position": null,
            "order": null,
            "overflow": null,
            "overflow_x": null,
            "overflow_y": null,
            "padding": null,
            "right": null,
            "top": null,
            "visibility": null,
            "width": null
          }
        },
        "60cb37f9db224ae1899bc68567364489": {
          "model_module": "@jupyter-widgets/controls",
          "model_name": "DescriptionStyleModel",
          "model_module_version": "1.5.0",
          "state": {
            "_model_module": "@jupyter-widgets/controls",
            "_model_module_version": "1.5.0",
            "_model_name": "DescriptionStyleModel",
            "_view_count": null,
            "_view_module": "@jupyter-widgets/base",
            "_view_module_version": "1.2.0",
            "_view_name": "StyleView",
            "description_width": ""
          }
        },
        "603d2dcdbd4a461081ca2f5025a1c275": {
          "model_module": "@jupyter-widgets/base",
          "model_name": "LayoutModel",
          "model_module_version": "1.2.0",
          "state": {
            "_model_module": "@jupyter-widgets/base",
            "_model_module_version": "1.2.0",
            "_model_name": "LayoutModel",
            "_view_count": null,
            "_view_module": "@jupyter-widgets/base",
            "_view_module_version": "1.2.0",
            "_view_name": "LayoutView",
            "align_content": null,
            "align_items": null,
            "align_self": null,
            "border": null,
            "bottom": null,
            "display": null,
            "flex": null,
            "flex_flow": null,
            "grid_area": null,
            "grid_auto_columns": null,
            "grid_auto_flow": null,
            "grid_auto_rows": null,
            "grid_column": null,
            "grid_gap": null,
            "grid_row": null,
            "grid_template_areas": null,
            "grid_template_columns": null,
            "grid_template_rows": null,
            "height": null,
            "justify_content": null,
            "justify_items": null,
            "left": null,
            "margin": null,
            "max_height": null,
            "max_width": null,
            "min_height": null,
            "min_width": null,
            "object_fit": null,
            "object_position": null,
            "order": null,
            "overflow": null,
            "overflow_x": null,
            "overflow_y": null,
            "padding": null,
            "right": null,
            "top": null,
            "visibility": null,
            "width": null
          }
        },
        "ddf1622cfa5649a081c8974dcae64b38": {
          "model_module": "@jupyter-widgets/controls",
          "model_name": "ProgressStyleModel",
          "model_module_version": "1.5.0",
          "state": {
            "_model_module": "@jupyter-widgets/controls",
            "_model_module_version": "1.5.0",
            "_model_name": "ProgressStyleModel",
            "_view_count": null,
            "_view_module": "@jupyter-widgets/base",
            "_view_module_version": "1.2.0",
            "_view_name": "StyleView",
            "bar_color": null,
            "description_width": ""
          }
        },
        "97e4ea7910f34bd4ab302f8e17c7a038": {
          "model_module": "@jupyter-widgets/base",
          "model_name": "LayoutModel",
          "model_module_version": "1.2.0",
          "state": {
            "_model_module": "@jupyter-widgets/base",
            "_model_module_version": "1.2.0",
            "_model_name": "LayoutModel",
            "_view_count": null,
            "_view_module": "@jupyter-widgets/base",
            "_view_module_version": "1.2.0",
            "_view_name": "LayoutView",
            "align_content": null,
            "align_items": null,
            "align_self": null,
            "border": null,
            "bottom": null,
            "display": null,
            "flex": null,
            "flex_flow": null,
            "grid_area": null,
            "grid_auto_columns": null,
            "grid_auto_flow": null,
            "grid_auto_rows": null,
            "grid_column": null,
            "grid_gap": null,
            "grid_row": null,
            "grid_template_areas": null,
            "grid_template_columns": null,
            "grid_template_rows": null,
            "height": null,
            "justify_content": null,
            "justify_items": null,
            "left": null,
            "margin": null,
            "max_height": null,
            "max_width": null,
            "min_height": null,
            "min_width": null,
            "object_fit": null,
            "object_position": null,
            "order": null,
            "overflow": null,
            "overflow_x": null,
            "overflow_y": null,
            "padding": null,
            "right": null,
            "top": null,
            "visibility": null,
            "width": null
          }
        },
        "6c34ff098e034364ad3c3f35d44773f1": {
          "model_module": "@jupyter-widgets/controls",
          "model_name": "DescriptionStyleModel",
          "model_module_version": "1.5.0",
          "state": {
            "_model_module": "@jupyter-widgets/controls",
            "_model_module_version": "1.5.0",
            "_model_name": "DescriptionStyleModel",
            "_view_count": null,
            "_view_module": "@jupyter-widgets/base",
            "_view_module_version": "1.2.0",
            "_view_name": "StyleView",
            "description_width": ""
          }
        },
        "edbbd23a1bec4a499768695ce51f49e3": {
          "model_module": "@jupyter-widgets/controls",
          "model_name": "HBoxModel",
          "model_module_version": "1.5.0",
          "state": {
            "_dom_classes": [],
            "_model_module": "@jupyter-widgets/controls",
            "_model_module_version": "1.5.0",
            "_model_name": "HBoxModel",
            "_view_count": null,
            "_view_module": "@jupyter-widgets/controls",
            "_view_module_version": "1.5.0",
            "_view_name": "HBoxView",
            "box_style": "",
            "children": [
              "IPY_MODEL_b12bb93753ea4bf28756b4b8e94308c2",
              "IPY_MODEL_72556d4e3142444abaaf261965578161",
              "IPY_MODEL_41a49eb666684f70a79e4a2e0b449e01"
            ],
            "layout": "IPY_MODEL_0ff8dd3b5abf4fe4ba2b08dca0971e0f"
          }
        },
        "b12bb93753ea4bf28756b4b8e94308c2": {
          "model_module": "@jupyter-widgets/controls",
          "model_name": "HTMLModel",
          "model_module_version": "1.5.0",
          "state": {
            "_dom_classes": [],
            "_model_module": "@jupyter-widgets/controls",
            "_model_module_version": "1.5.0",
            "_model_name": "HTMLModel",
            "_view_count": null,
            "_view_module": "@jupyter-widgets/controls",
            "_view_module_version": "1.5.0",
            "_view_name": "HTMLView",
            "description": "",
            "description_tooltip": null,
            "layout": "IPY_MODEL_2b0c6224939c46cc8db29529b15ec06b",
            "placeholder": "​",
            "style": "IPY_MODEL_25ee56bac2bc46e79cd24b5798be56a9",
            "value": "Epoch 2: 100%"
          }
        },
        "72556d4e3142444abaaf261965578161": {
          "model_module": "@jupyter-widgets/controls",
          "model_name": "FloatProgressModel",
          "model_module_version": "1.5.0",
          "state": {
            "_dom_classes": [],
            "_model_module": "@jupyter-widgets/controls",
            "_model_module_version": "1.5.0",
            "_model_name": "FloatProgressModel",
            "_view_count": null,
            "_view_module": "@jupyter-widgets/controls",
            "_view_module_version": "1.5.0",
            "_view_name": "ProgressView",
            "bar_style": "",
            "description": "",
            "description_tooltip": null,
            "layout": "IPY_MODEL_218eabb1426841bb94f9416253103f46",
            "max": 14147,
            "min": 0,
            "orientation": "horizontal",
            "style": "IPY_MODEL_0b9b181c99aa4a3bb31a2e255194f3fa",
            "value": 14147
          }
        },
        "41a49eb666684f70a79e4a2e0b449e01": {
          "model_module": "@jupyter-widgets/controls",
          "model_name": "HTMLModel",
          "model_module_version": "1.5.0",
          "state": {
            "_dom_classes": [],
            "_model_module": "@jupyter-widgets/controls",
            "_model_module_version": "1.5.0",
            "_model_name": "HTMLModel",
            "_view_count": null,
            "_view_module": "@jupyter-widgets/controls",
            "_view_module_version": "1.5.0",
            "_view_name": "HTMLView",
            "description": "",
            "description_tooltip": null,
            "layout": "IPY_MODEL_ac16426606464381bf1ec24c025a8288",
            "placeholder": "​",
            "style": "IPY_MODEL_30699cc715644155ba7988e0c32cff70",
            "value": " 14147/14147 [1:21:58&lt;00:00,  3.07it/s, training_loss=0.003]"
          }
        },
        "0ff8dd3b5abf4fe4ba2b08dca0971e0f": {
          "model_module": "@jupyter-widgets/base",
          "model_name": "LayoutModel",
          "model_module_version": "1.2.0",
          "state": {
            "_model_module": "@jupyter-widgets/base",
            "_model_module_version": "1.2.0",
            "_model_name": "LayoutModel",
            "_view_count": null,
            "_view_module": "@jupyter-widgets/base",
            "_view_module_version": "1.2.0",
            "_view_name": "LayoutView",
            "align_content": null,
            "align_items": null,
            "align_self": null,
            "border": null,
            "bottom": null,
            "display": null,
            "flex": null,
            "flex_flow": null,
            "grid_area": null,
            "grid_auto_columns": null,
            "grid_auto_flow": null,
            "grid_auto_rows": null,
            "grid_column": null,
            "grid_gap": null,
            "grid_row": null,
            "grid_template_areas": null,
            "grid_template_columns": null,
            "grid_template_rows": null,
            "height": null,
            "justify_content": null,
            "justify_items": null,
            "left": null,
            "margin": null,
            "max_height": null,
            "max_width": null,
            "min_height": null,
            "min_width": null,
            "object_fit": null,
            "object_position": null,
            "order": null,
            "overflow": null,
            "overflow_x": null,
            "overflow_y": null,
            "padding": null,
            "right": null,
            "top": null,
            "visibility": null,
            "width": null
          }
        },
        "2b0c6224939c46cc8db29529b15ec06b": {
          "model_module": "@jupyter-widgets/base",
          "model_name": "LayoutModel",
          "model_module_version": "1.2.0",
          "state": {
            "_model_module": "@jupyter-widgets/base",
            "_model_module_version": "1.2.0",
            "_model_name": "LayoutModel",
            "_view_count": null,
            "_view_module": "@jupyter-widgets/base",
            "_view_module_version": "1.2.0",
            "_view_name": "LayoutView",
            "align_content": null,
            "align_items": null,
            "align_self": null,
            "border": null,
            "bottom": null,
            "display": null,
            "flex": null,
            "flex_flow": null,
            "grid_area": null,
            "grid_auto_columns": null,
            "grid_auto_flow": null,
            "grid_auto_rows": null,
            "grid_column": null,
            "grid_gap": null,
            "grid_row": null,
            "grid_template_areas": null,
            "grid_template_columns": null,
            "grid_template_rows": null,
            "height": null,
            "justify_content": null,
            "justify_items": null,
            "left": null,
            "margin": null,
            "max_height": null,
            "max_width": null,
            "min_height": null,
            "min_width": null,
            "object_fit": null,
            "object_position": null,
            "order": null,
            "overflow": null,
            "overflow_x": null,
            "overflow_y": null,
            "padding": null,
            "right": null,
            "top": null,
            "visibility": null,
            "width": null
          }
        },
        "25ee56bac2bc46e79cd24b5798be56a9": {
          "model_module": "@jupyter-widgets/controls",
          "model_name": "DescriptionStyleModel",
          "model_module_version": "1.5.0",
          "state": {
            "_model_module": "@jupyter-widgets/controls",
            "_model_module_version": "1.5.0",
            "_model_name": "DescriptionStyleModel",
            "_view_count": null,
            "_view_module": "@jupyter-widgets/base",
            "_view_module_version": "1.2.0",
            "_view_name": "StyleView",
            "description_width": ""
          }
        },
        "218eabb1426841bb94f9416253103f46": {
          "model_module": "@jupyter-widgets/base",
          "model_name": "LayoutModel",
          "model_module_version": "1.2.0",
          "state": {
            "_model_module": "@jupyter-widgets/base",
            "_model_module_version": "1.2.0",
            "_model_name": "LayoutModel",
            "_view_count": null,
            "_view_module": "@jupyter-widgets/base",
            "_view_module_version": "1.2.0",
            "_view_name": "LayoutView",
            "align_content": null,
            "align_items": null,
            "align_self": null,
            "border": null,
            "bottom": null,
            "display": null,
            "flex": null,
            "flex_flow": null,
            "grid_area": null,
            "grid_auto_columns": null,
            "grid_auto_flow": null,
            "grid_auto_rows": null,
            "grid_column": null,
            "grid_gap": null,
            "grid_row": null,
            "grid_template_areas": null,
            "grid_template_columns": null,
            "grid_template_rows": null,
            "height": null,
            "justify_content": null,
            "justify_items": null,
            "left": null,
            "margin": null,
            "max_height": null,
            "max_width": null,
            "min_height": null,
            "min_width": null,
            "object_fit": null,
            "object_position": null,
            "order": null,
            "overflow": null,
            "overflow_x": null,
            "overflow_y": null,
            "padding": null,
            "right": null,
            "top": null,
            "visibility": null,
            "width": null
          }
        },
        "0b9b181c99aa4a3bb31a2e255194f3fa": {
          "model_module": "@jupyter-widgets/controls",
          "model_name": "ProgressStyleModel",
          "model_module_version": "1.5.0",
          "state": {
            "_model_module": "@jupyter-widgets/controls",
            "_model_module_version": "1.5.0",
            "_model_name": "ProgressStyleModel",
            "_view_count": null,
            "_view_module": "@jupyter-widgets/base",
            "_view_module_version": "1.2.0",
            "_view_name": "StyleView",
            "bar_color": null,
            "description_width": ""
          }
        },
        "ac16426606464381bf1ec24c025a8288": {
          "model_module": "@jupyter-widgets/base",
          "model_name": "LayoutModel",
          "model_module_version": "1.2.0",
          "state": {
            "_model_module": "@jupyter-widgets/base",
            "_model_module_version": "1.2.0",
            "_model_name": "LayoutModel",
            "_view_count": null,
            "_view_module": "@jupyter-widgets/base",
            "_view_module_version": "1.2.0",
            "_view_name": "LayoutView",
            "align_content": null,
            "align_items": null,
            "align_self": null,
            "border": null,
            "bottom": null,
            "display": null,
            "flex": null,
            "flex_flow": null,
            "grid_area": null,
            "grid_auto_columns": null,
            "grid_auto_flow": null,
            "grid_auto_rows": null,
            "grid_column": null,
            "grid_gap": null,
            "grid_row": null,
            "grid_template_areas": null,
            "grid_template_columns": null,
            "grid_template_rows": null,
            "height": null,
            "justify_content": null,
            "justify_items": null,
            "left": null,
            "margin": null,
            "max_height": null,
            "max_width": null,
            "min_height": null,
            "min_width": null,
            "object_fit": null,
            "object_position": null,
            "order": null,
            "overflow": null,
            "overflow_x": null,
            "overflow_y": null,
            "padding": null,
            "right": null,
            "top": null,
            "visibility": null,
            "width": null
          }
        },
        "30699cc715644155ba7988e0c32cff70": {
          "model_module": "@jupyter-widgets/controls",
          "model_name": "DescriptionStyleModel",
          "model_module_version": "1.5.0",
          "state": {
            "_model_module": "@jupyter-widgets/controls",
            "_model_module_version": "1.5.0",
            "_model_name": "DescriptionStyleModel",
            "_view_count": null,
            "_view_module": "@jupyter-widgets/base",
            "_view_module_version": "1.2.0",
            "_view_name": "StyleView",
            "description_width": ""
          }
        },
        "4ac1098b725b44ed87a01b07a170bfb5": {
          "model_module": "@jupyter-widgets/controls",
          "model_name": "HBoxModel",
          "model_module_version": "1.5.0",
          "state": {
            "_dom_classes": [],
            "_model_module": "@jupyter-widgets/controls",
            "_model_module_version": "1.5.0",
            "_model_name": "HBoxModel",
            "_view_count": null,
            "_view_module": "@jupyter-widgets/controls",
            "_view_module_version": "1.5.0",
            "_view_name": "HBoxView",
            "box_style": "",
            "children": [
              "IPY_MODEL_1f304c05d9294d5bbbb909903f092c59",
              "IPY_MODEL_f2b41afbccfd49afbeb6d839ed6fae51",
              "IPY_MODEL_2f75d423c2b5456199fc6ac9c0043746"
            ],
            "layout": "IPY_MODEL_ee6da1b330ad47d1b3a151459ca4cbd9"
          }
        },
        "1f304c05d9294d5bbbb909903f092c59": {
          "model_module": "@jupyter-widgets/controls",
          "model_name": "HTMLModel",
          "model_module_version": "1.5.0",
          "state": {
            "_dom_classes": [],
            "_model_module": "@jupyter-widgets/controls",
            "_model_module_version": "1.5.0",
            "_model_name": "HTMLModel",
            "_view_count": null,
            "_view_module": "@jupyter-widgets/controls",
            "_view_module_version": "1.5.0",
            "_view_name": "HTMLView",
            "description": "",
            "description_tooltip": null,
            "layout": "IPY_MODEL_e1c71ab48f6642cbb438e68a64264984",
            "placeholder": "​",
            "style": "IPY_MODEL_1f1550ee1afd4fe6be1d57059c3b5d4a",
            "value": "Epoch 3: 100%"
          }
        },
        "f2b41afbccfd49afbeb6d839ed6fae51": {
          "model_module": "@jupyter-widgets/controls",
          "model_name": "FloatProgressModel",
          "model_module_version": "1.5.0",
          "state": {
            "_dom_classes": [],
            "_model_module": "@jupyter-widgets/controls",
            "_model_module_version": "1.5.0",
            "_model_name": "FloatProgressModel",
            "_view_count": null,
            "_view_module": "@jupyter-widgets/controls",
            "_view_module_version": "1.5.0",
            "_view_name": "ProgressView",
            "bar_style": "",
            "description": "",
            "description_tooltip": null,
            "layout": "IPY_MODEL_2cf5a640f109447c9d99741886fa77b7",
            "max": 14147,
            "min": 0,
            "orientation": "horizontal",
            "style": "IPY_MODEL_4b39eb060f554051a79b1c1594b41689",
            "value": 14147
          }
        },
        "2f75d423c2b5456199fc6ac9c0043746": {
          "model_module": "@jupyter-widgets/controls",
          "model_name": "HTMLModel",
          "model_module_version": "1.5.0",
          "state": {
            "_dom_classes": [],
            "_model_module": "@jupyter-widgets/controls",
            "_model_module_version": "1.5.0",
            "_model_name": "HTMLModel",
            "_view_count": null,
            "_view_module": "@jupyter-widgets/controls",
            "_view_module_version": "1.5.0",
            "_view_name": "HTMLView",
            "description": "",
            "description_tooltip": null,
            "layout": "IPY_MODEL_4b80136c74d241a2bcc22fe9ed763841",
            "placeholder": "​",
            "style": "IPY_MODEL_f9e5e8570f2e44318eb90a4596436e63",
            "value": " 14147/14147 [1:21:33&lt;00:00,  3.11it/s, training_loss=0.001]"
          }
        },
        "ee6da1b330ad47d1b3a151459ca4cbd9": {
          "model_module": "@jupyter-widgets/base",
          "model_name": "LayoutModel",
          "model_module_version": "1.2.0",
          "state": {
            "_model_module": "@jupyter-widgets/base",
            "_model_module_version": "1.2.0",
            "_model_name": "LayoutModel",
            "_view_count": null,
            "_view_module": "@jupyter-widgets/base",
            "_view_module_version": "1.2.0",
            "_view_name": "LayoutView",
            "align_content": null,
            "align_items": null,
            "align_self": null,
            "border": null,
            "bottom": null,
            "display": null,
            "flex": null,
            "flex_flow": null,
            "grid_area": null,
            "grid_auto_columns": null,
            "grid_auto_flow": null,
            "grid_auto_rows": null,
            "grid_column": null,
            "grid_gap": null,
            "grid_row": null,
            "grid_template_areas": null,
            "grid_template_columns": null,
            "grid_template_rows": null,
            "height": null,
            "justify_content": null,
            "justify_items": null,
            "left": null,
            "margin": null,
            "max_height": null,
            "max_width": null,
            "min_height": null,
            "min_width": null,
            "object_fit": null,
            "object_position": null,
            "order": null,
            "overflow": null,
            "overflow_x": null,
            "overflow_y": null,
            "padding": null,
            "right": null,
            "top": null,
            "visibility": null,
            "width": null
          }
        },
        "e1c71ab48f6642cbb438e68a64264984": {
          "model_module": "@jupyter-widgets/base",
          "model_name": "LayoutModel",
          "model_module_version": "1.2.0",
          "state": {
            "_model_module": "@jupyter-widgets/base",
            "_model_module_version": "1.2.0",
            "_model_name": "LayoutModel",
            "_view_count": null,
            "_view_module": "@jupyter-widgets/base",
            "_view_module_version": "1.2.0",
            "_view_name": "LayoutView",
            "align_content": null,
            "align_items": null,
            "align_self": null,
            "border": null,
            "bottom": null,
            "display": null,
            "flex": null,
            "flex_flow": null,
            "grid_area": null,
            "grid_auto_columns": null,
            "grid_auto_flow": null,
            "grid_auto_rows": null,
            "grid_column": null,
            "grid_gap": null,
            "grid_row": null,
            "grid_template_areas": null,
            "grid_template_columns": null,
            "grid_template_rows": null,
            "height": null,
            "justify_content": null,
            "justify_items": null,
            "left": null,
            "margin": null,
            "max_height": null,
            "max_width": null,
            "min_height": null,
            "min_width": null,
            "object_fit": null,
            "object_position": null,
            "order": null,
            "overflow": null,
            "overflow_x": null,
            "overflow_y": null,
            "padding": null,
            "right": null,
            "top": null,
            "visibility": null,
            "width": null
          }
        },
        "1f1550ee1afd4fe6be1d57059c3b5d4a": {
          "model_module": "@jupyter-widgets/controls",
          "model_name": "DescriptionStyleModel",
          "model_module_version": "1.5.0",
          "state": {
            "_model_module": "@jupyter-widgets/controls",
            "_model_module_version": "1.5.0",
            "_model_name": "DescriptionStyleModel",
            "_view_count": null,
            "_view_module": "@jupyter-widgets/base",
            "_view_module_version": "1.2.0",
            "_view_name": "StyleView",
            "description_width": ""
          }
        },
        "2cf5a640f109447c9d99741886fa77b7": {
          "model_module": "@jupyter-widgets/base",
          "model_name": "LayoutModel",
          "model_module_version": "1.2.0",
          "state": {
            "_model_module": "@jupyter-widgets/base",
            "_model_module_version": "1.2.0",
            "_model_name": "LayoutModel",
            "_view_count": null,
            "_view_module": "@jupyter-widgets/base",
            "_view_module_version": "1.2.0",
            "_view_name": "LayoutView",
            "align_content": null,
            "align_items": null,
            "align_self": null,
            "border": null,
            "bottom": null,
            "display": null,
            "flex": null,
            "flex_flow": null,
            "grid_area": null,
            "grid_auto_columns": null,
            "grid_auto_flow": null,
            "grid_auto_rows": null,
            "grid_column": null,
            "grid_gap": null,
            "grid_row": null,
            "grid_template_areas": null,
            "grid_template_columns": null,
            "grid_template_rows": null,
            "height": null,
            "justify_content": null,
            "justify_items": null,
            "left": null,
            "margin": null,
            "max_height": null,
            "max_width": null,
            "min_height": null,
            "min_width": null,
            "object_fit": null,
            "object_position": null,
            "order": null,
            "overflow": null,
            "overflow_x": null,
            "overflow_y": null,
            "padding": null,
            "right": null,
            "top": null,
            "visibility": null,
            "width": null
          }
        },
        "4b39eb060f554051a79b1c1594b41689": {
          "model_module": "@jupyter-widgets/controls",
          "model_name": "ProgressStyleModel",
          "model_module_version": "1.5.0",
          "state": {
            "_model_module": "@jupyter-widgets/controls",
            "_model_module_version": "1.5.0",
            "_model_name": "ProgressStyleModel",
            "_view_count": null,
            "_view_module": "@jupyter-widgets/base",
            "_view_module_version": "1.2.0",
            "_view_name": "StyleView",
            "bar_color": null,
            "description_width": ""
          }
        },
        "4b80136c74d241a2bcc22fe9ed763841": {
          "model_module": "@jupyter-widgets/base",
          "model_name": "LayoutModel",
          "model_module_version": "1.2.0",
          "state": {
            "_model_module": "@jupyter-widgets/base",
            "_model_module_version": "1.2.0",
            "_model_name": "LayoutModel",
            "_view_count": null,
            "_view_module": "@jupyter-widgets/base",
            "_view_module_version": "1.2.0",
            "_view_name": "LayoutView",
            "align_content": null,
            "align_items": null,
            "align_self": null,
            "border": null,
            "bottom": null,
            "display": null,
            "flex": null,
            "flex_flow": null,
            "grid_area": null,
            "grid_auto_columns": null,
            "grid_auto_flow": null,
            "grid_auto_rows": null,
            "grid_column": null,
            "grid_gap": null,
            "grid_row": null,
            "grid_template_areas": null,
            "grid_template_columns": null,
            "grid_template_rows": null,
            "height": null,
            "justify_content": null,
            "justify_items": null,
            "left": null,
            "margin": null,
            "max_height": null,
            "max_width": null,
            "min_height": null,
            "min_width": null,
            "object_fit": null,
            "object_position": null,
            "order": null,
            "overflow": null,
            "overflow_x": null,
            "overflow_y": null,
            "padding": null,
            "right": null,
            "top": null,
            "visibility": null,
            "width": null
          }
        },
        "f9e5e8570f2e44318eb90a4596436e63": {
          "model_module": "@jupyter-widgets/controls",
          "model_name": "DescriptionStyleModel",
          "model_module_version": "1.5.0",
          "state": {
            "_model_module": "@jupyter-widgets/controls",
            "_model_module_version": "1.5.0",
            "_model_name": "DescriptionStyleModel",
            "_view_count": null,
            "_view_module": "@jupyter-widgets/base",
            "_view_module_version": "1.2.0",
            "_view_name": "StyleView",
            "description_width": ""
          }
        }
      }
    }
  },
  "cells": [
    {
      "cell_type": "code",
      "source": [
        "# Mount drive to access dataset\n",
        "from google.colab import drive\n",
        "drive.mount('/content/drive')"
      ],
      "metadata": {
        "id": "nLP9Xme9FJmk"
      },
      "execution_count": null,
      "outputs": []
    },
    {
      "cell_type": "markdown",
      "source": [
        "# **1- Preprocessing**\n",
        "There are few steps perfomed during the pre-processing. \n",
        "\n",
        "*   Import all required libraries\n",
        "*   Upload the dataset\n",
        "*   Dataframe Pre-processing\n",
        "*   Text Processing"
      ],
      "metadata": {
        "id": "MIPkR4ErBAz9"
      }
    },
    {
      "cell_type": "code",
      "execution_count": null,
      "metadata": {
        "colab": {
          "base_uri": "https://localhost:8080/"
        },
        "id": "ZD2IdvG5_IeW",
        "outputId": "6f2b6564-9bac-4209-a58a-97813886d771"
      },
      "outputs": [
        {
          "output_type": "stream",
          "name": "stdout",
          "text": [
            "[nltk_data] Downloading package stopwords to /root/nltk_data...\n",
            "[nltk_data]   Package stopwords is already up-to-date!\n"
          ]
        },
        {
          "output_type": "execute_result",
          "data": {
            "text/plain": [
              "True"
            ]
          },
          "metadata": {},
          "execution_count": 37
        }
      ],
      "source": [
        "# import required libraries \n",
        "\n",
        "import pandas as pd\n",
        "import numpy as np\n",
        "\n",
        "from nltk.corpus import stopwords\n",
        "from nltk.stem import PorterStemmer\n",
        "\n",
        "import nltk\n",
        "import re\n",
        "import string\n",
        "nltk.download(\"stopwords\")"
      ]
    },
    {
      "cell_type": "code",
      "source": [
        "# Dataframe Pre-processing\n",
        "# Splits review rating into different classes, say positive(2), neutral(1) and negative(0). \n",
        "\n",
        "def classify(x):\n",
        "    if x == 5.0 or x==4.0:\n",
        "        return 2\n",
        "    if x==3.0:\n",
        "        return 1 \n",
        "    return 0"
      ],
      "metadata": {
        "id": "6CjkMdC0Bud_"
      },
      "execution_count": null,
      "outputs": []
    },
    {
      "cell_type": "code",
      "source": [
        "def clean_dataframe(df):\n",
        "  # creates new column with corresponding class labels, the output variable.\n",
        "  df['y'] = df['overall'].apply(classify)\n",
        "\n",
        "  # dropping uneccesary columns for the analysis\n",
        "  df = df.drop(labels=['Unnamed: 0', 'verified','asin' ,'style','reviewerName',  'description','title', 'rank', 'main_cat' ],axis=1)\n",
        "  \n",
        "  # dropping all NaN values from the column reviewText\n",
        "  df = df.dropna(axis=0, subset=['reviewText'])\n",
        "  return df"
      ],
      "metadata": {
        "id": "89nA1gTaB7oE"
      },
      "execution_count": null,
      "outputs": []
    },
    {
      "cell_type": "code",
      "source": [
        "# Text Processing\n",
        "# Removes all the punctuations for the strings of reviewText, i.e. '!\"#$%&\\'()*+,-./:;<=>?@[\\\\]^_`{|}~'\n",
        "\n",
        "def remove_punctuation(text):\n",
        "    no_punct=[words for words in text if words not in string.punctuation]\n",
        "    words_wo_punct=''.join(no_punct)\n",
        "    return words_wo_punct"
      ],
      "metadata": {
        "id": "torATaC6CFg2"
      },
      "execution_count": null,
      "outputs": []
    },
    {
      "cell_type": "code",
      "source": [
        "# Removing all the punctuations from the words, and changing the words to lower case to maintain uniformity\n",
        "\n",
        "def text_process(df):\n",
        "  \n",
        "  df['reviewText']=df['reviewText'].apply(lambda x: remove_punctuation(x.lower()))\n",
        "  # stemming\n",
        "  stemmer = PorterStemmer()\n",
        "  # stop words are the words like \"the, I, our etc\"\n",
        "  words = stopwords.words(\"english\") \n",
        "  df['cleaned_reviews'] = df['reviewText'].apply(lambda x: \" \".join([stemmer.stem(i) for i in re.sub(\"[^a-zA-Z]\", \" \", x).split() if i not in words]).lower())\n",
        "  return df"
      ],
      "metadata": {
        "id": "SICboHXdCQXk"
      },
      "execution_count": null,
      "outputs": []
    },
    {
      "cell_type": "code",
      "source": [
        "# Main Process \n",
        "\n",
        "def process_df(df):\n",
        "  df = clean_dataframe(df)\n",
        "  df = text_process(df)\n",
        "  return df"
      ],
      "metadata": {
        "id": "zGA5mbKECY_c"
      },
      "execution_count": null,
      "outputs": []
    },
    {
      "cell_type": "code",
      "source": [
        "#dataset links source and destination\n",
        "\n",
        "URL_UNCLEAN = \"/content/drive/MyDrive/Umair_Client/Thesis_Twitter_Sentiment/Source_Code/coldropDS-50k.csv\"\n",
        "URL_CLEAN = \"/content/drive/MyDrive/Umair_Client/Thesis_Twitter_Sentiment/Source_Code/coldropDS-50k_cleaned.csv\""
      ],
      "metadata": {
        "id": "QDpl1pwTCkDc"
      },
      "execution_count": null,
      "outputs": []
    },
    {
      "cell_type": "code",
      "source": [
        "# Reading dataset and writing cleaned version on the required directory \n",
        "\n",
        "def main(URL_CLEAN=URL_CLEAN, URL_UNCLEAN=URL_UNCLEAN):\n",
        "  df_unclean = pd.read_csv(URL_UNCLEAN)\n",
        "  print(\"UNCLEANED DATASET HEAD:\\n\",df_unclean.head())\n",
        "\n",
        "  df_clean = process_df(df_unclean)\n",
        "  print(\"CLEANED DATASET HEAD:\\n\",df_clean.head())\n",
        "\n",
        "  # Writing to dataframe\n",
        "  df_clean.to_csv(URL_CLEAN)"
      ],
      "metadata": {
        "id": "NyRptG7fDDks"
      },
      "execution_count": null,
      "outputs": []
    },
    {
      "cell_type": "code",
      "source": [
        "main()"
      ],
      "metadata": {
        "colab": {
          "base_uri": "https://localhost:8080/"
        },
        "id": "N89oC7r9OACp",
        "outputId": "8b2abb4a-f925-446a-9239-892c320fc0cd"
      },
      "execution_count": null,
      "outputs": [
        {
          "output_type": "stream",
          "name": "stdout",
          "text": [
            "UNCLEANED DATASET HEAD:\n",
            "    Unnamed: 0  overall  verified        asin  \\\n",
            "0     4359171      5.0      True  B002TLT10I   \n",
            "1     3938786      5.0      True  B001UQ6E3K   \n",
            "2     6176764      5.0      True  B005FYNSUA   \n",
            "3     1546547      5.0      True  B0007ZFLYI   \n",
            "4     3178737      5.0      True  B0016JMS90   \n",
            "\n",
            "                                           style      reviewerName  \\\n",
            "0  {'Product Packaging:': ' Standard Packaging'}   Catherine Hynes   \n",
            "1                        {'Style:': ' 20-60x60'}         rschoepke   \n",
            "2                        {'Capacity:': ' 16 GB'}              Carl   \n",
            "3                                            NaN  Scott W. Soyster   \n",
            "4                                            NaN            Dancer   \n",
            "\n",
            "                                          reviewText  \\\n",
            "0  Love these things.  The supplied batteries wer...   \n",
            "1            great value, good range and easy to use   \n",
            "2    Smallest thumb drive ever! Can't beat the price   \n",
            "3  I bought this webcam mostly because of the pri...   \n",
            "4  I got this for my mom.  She's not the most tec...   \n",
            "\n",
            "                           summary  \\\n",
            "0  Good headset Replaced batteries   \n",
            "1                       Five Stars   \n",
            "2                       Five Stars   \n",
            "3  Not a bad webcam for the price.   \n",
            "4                      Good webcam   \n",
            "\n",
            "                                         description  \\\n",
            "0  [\"Wireless headphones come in many shapes and ...   \n",
            "1  ['The 60 mm Waterproof UpClose Spotting Scope ...   \n",
            "2  [\"With its low-profile design, the Cruzer Fit ...   \n",
            "3  [\"When you rely on your notebook PC to communi...   \n",
            "4  ['PC Webcam with Built-In Microphone', 'Add tr...   \n",
            "\n",
            "                                               title  \\\n",
            "0  Sennheiser RS 170 Digital Wireless Headphones ...   \n",
            "1  Celestron 52229 60mm Refractor Zoom Spotting S...   \n",
            "2  SanDisk Cruzer Fit 8GB USB 2.0 Low-Profile Fla...   \n",
            "3             Logitech Quickcam for Notebooks Deluxe   \n",
            "4           Logitech QuickCam Communicate MP (Black)   \n",
            "\n",
            "                                                rank              main_cat  \n",
            "0  ['>#132,147 in Cell Phones & Accessories (See ...  Home Audio & Theater  \n",
            "1  ['>#20,943 in Camera & Photo (See Top 100 in C...        Camera & Photo  \n",
            "2  ['>#326 in Computers & Accessories > Data Stor...       All Electronics  \n",
            "3  ['>#1,108 in Electronics &gt; Accessories &amp...       All Electronics  \n",
            "4  ['>#381 in Electronics > Accessories & Supplie...       All Electronics  \n",
            "CLEANED DATASET HEAD:\n",
            "    overall                                         reviewText  \\\n",
            "0      5.0  love these things  the supplied batteries were...   \n",
            "1      5.0             great value good range and easy to use   \n",
            "2      5.0      smallest thumb drive ever cant beat the price   \n",
            "3      5.0  i bought this webcam mostly because of the pri...   \n",
            "4      5.0  i got this for my mom  shes not the most tech ...   \n",
            "\n",
            "                           summary  y  \\\n",
            "0  Good headset Replaced batteries  2   \n",
            "1                       Five Stars  2   \n",
            "2                       Five Stars  2   \n",
            "3  Not a bad webcam for the price.  2   \n",
            "4                      Good webcam  2   \n",
            "\n",
            "                                     cleaned_reviews  \n",
            "0              love thing suppli batteri dead replac  \n",
            "1                      great valu good rang easi use  \n",
            "2          smallest thumb drive ever cant beat price  \n",
            "3  bought webcam mostli price fact logitech prett...  \n",
            "4  got mom she tech savvi set she problem one tim...  \n"
          ]
        }
      ]
    },
    {
      "cell_type": "code",
      "source": [
        "data = pd.read_csv(\"/content/drive/MyDrive/Umair_Client/Thesis_Twitter_Sentiment/Source_Code/coldropDS-50k.csv\")\n",
        "data.head()"
      ],
      "metadata": {
        "colab": {
          "base_uri": "https://localhost:8080/",
          "height": 669
        },
        "id": "13NqhRc4KKKi",
        "outputId": "f96f394e-412e-4e60-fd2b-936ce17e3d4d"
      },
      "execution_count": null,
      "outputs": [
        {
          "output_type": "execute_result",
          "data": {
            "text/plain": [
              "   Unnamed: 0  overall  verified        asin  \\\n",
              "0     4359171      5.0      True  B002TLT10I   \n",
              "1     3938786      5.0      True  B001UQ6E3K   \n",
              "2     6176764      5.0      True  B005FYNSUA   \n",
              "3     1546547      5.0      True  B0007ZFLYI   \n",
              "4     3178737      5.0      True  B0016JMS90   \n",
              "\n",
              "                                           style      reviewerName  \\\n",
              "0  {'Product Packaging:': ' Standard Packaging'}   Catherine Hynes   \n",
              "1                        {'Style:': ' 20-60x60'}         rschoepke   \n",
              "2                        {'Capacity:': ' 16 GB'}              Carl   \n",
              "3                                            NaN  Scott W. Soyster   \n",
              "4                                            NaN            Dancer   \n",
              "\n",
              "                                          reviewText  \\\n",
              "0  Love these things.  The supplied batteries wer...   \n",
              "1            great value, good range and easy to use   \n",
              "2    Smallest thumb drive ever! Can't beat the price   \n",
              "3  I bought this webcam mostly because of the pri...   \n",
              "4  I got this for my mom.  She's not the most tec...   \n",
              "\n",
              "                           summary  \\\n",
              "0  Good headset Replaced batteries   \n",
              "1                       Five Stars   \n",
              "2                       Five Stars   \n",
              "3  Not a bad webcam for the price.   \n",
              "4                      Good webcam   \n",
              "\n",
              "                                         description  \\\n",
              "0  [\"Wireless headphones come in many shapes and ...   \n",
              "1  ['The 60 mm Waterproof UpClose Spotting Scope ...   \n",
              "2  [\"With its low-profile design, the Cruzer Fit ...   \n",
              "3  [\"When you rely on your notebook PC to communi...   \n",
              "4  ['PC Webcam with Built-In Microphone', 'Add tr...   \n",
              "\n",
              "                                               title  \\\n",
              "0  Sennheiser RS 170 Digital Wireless Headphones ...   \n",
              "1  Celestron 52229 60mm Refractor Zoom Spotting S...   \n",
              "2  SanDisk Cruzer Fit 8GB USB 2.0 Low-Profile Fla...   \n",
              "3             Logitech Quickcam for Notebooks Deluxe   \n",
              "4           Logitech QuickCam Communicate MP (Black)   \n",
              "\n",
              "                                                rank              main_cat  \n",
              "0  ['>#132,147 in Cell Phones & Accessories (See ...  Home Audio & Theater  \n",
              "1  ['>#20,943 in Camera & Photo (See Top 100 in C...        Camera & Photo  \n",
              "2  ['>#326 in Computers & Accessories > Data Stor...       All Electronics  \n",
              "3  ['>#1,108 in Electronics &gt; Accessories &amp...       All Electronics  \n",
              "4  ['>#381 in Electronics > Accessories & Supplie...       All Electronics  "
            ],
            "text/html": [
              "\n",
              "  <div id=\"df-31642de7-edfa-418a-94d0-7e78fa549bfe\">\n",
              "    <div class=\"colab-df-container\">\n",
              "      <div>\n",
              "<style scoped>\n",
              "    .dataframe tbody tr th:only-of-type {\n",
              "        vertical-align: middle;\n",
              "    }\n",
              "\n",
              "    .dataframe tbody tr th {\n",
              "        vertical-align: top;\n",
              "    }\n",
              "\n",
              "    .dataframe thead th {\n",
              "        text-align: right;\n",
              "    }\n",
              "</style>\n",
              "<table border=\"1\" class=\"dataframe\">\n",
              "  <thead>\n",
              "    <tr style=\"text-align: right;\">\n",
              "      <th></th>\n",
              "      <th>Unnamed: 0</th>\n",
              "      <th>overall</th>\n",
              "      <th>verified</th>\n",
              "      <th>asin</th>\n",
              "      <th>style</th>\n",
              "      <th>reviewerName</th>\n",
              "      <th>reviewText</th>\n",
              "      <th>summary</th>\n",
              "      <th>description</th>\n",
              "      <th>title</th>\n",
              "      <th>rank</th>\n",
              "      <th>main_cat</th>\n",
              "    </tr>\n",
              "  </thead>\n",
              "  <tbody>\n",
              "    <tr>\n",
              "      <th>0</th>\n",
              "      <td>4359171</td>\n",
              "      <td>5.0</td>\n",
              "      <td>True</td>\n",
              "      <td>B002TLT10I</td>\n",
              "      <td>{'Product Packaging:': ' Standard Packaging'}</td>\n",
              "      <td>Catherine Hynes</td>\n",
              "      <td>Love these things.  The supplied batteries wer...</td>\n",
              "      <td>Good headset Replaced batteries</td>\n",
              "      <td>[\"Wireless headphones come in many shapes and ...</td>\n",
              "      <td>Sennheiser RS 170 Digital Wireless Headphones ...</td>\n",
              "      <td>['&gt;#132,147 in Cell Phones &amp; Accessories (See ...</td>\n",
              "      <td>Home Audio &amp; Theater</td>\n",
              "    </tr>\n",
              "    <tr>\n",
              "      <th>1</th>\n",
              "      <td>3938786</td>\n",
              "      <td>5.0</td>\n",
              "      <td>True</td>\n",
              "      <td>B001UQ6E3K</td>\n",
              "      <td>{'Style:': ' 20-60x60'}</td>\n",
              "      <td>rschoepke</td>\n",
              "      <td>great value, good range and easy to use</td>\n",
              "      <td>Five Stars</td>\n",
              "      <td>['The 60 mm Waterproof UpClose Spotting Scope ...</td>\n",
              "      <td>Celestron 52229 60mm Refractor Zoom Spotting S...</td>\n",
              "      <td>['&gt;#20,943 in Camera &amp; Photo (See Top 100 in C...</td>\n",
              "      <td>Camera &amp; Photo</td>\n",
              "    </tr>\n",
              "    <tr>\n",
              "      <th>2</th>\n",
              "      <td>6176764</td>\n",
              "      <td>5.0</td>\n",
              "      <td>True</td>\n",
              "      <td>B005FYNSUA</td>\n",
              "      <td>{'Capacity:': ' 16 GB'}</td>\n",
              "      <td>Carl</td>\n",
              "      <td>Smallest thumb drive ever! Can't beat the price</td>\n",
              "      <td>Five Stars</td>\n",
              "      <td>[\"With its low-profile design, the Cruzer Fit ...</td>\n",
              "      <td>SanDisk Cruzer Fit 8GB USB 2.0 Low-Profile Fla...</td>\n",
              "      <td>['&gt;#326 in Computers &amp; Accessories &gt; Data Stor...</td>\n",
              "      <td>All Electronics</td>\n",
              "    </tr>\n",
              "    <tr>\n",
              "      <th>3</th>\n",
              "      <td>1546547</td>\n",
              "      <td>5.0</td>\n",
              "      <td>True</td>\n",
              "      <td>B0007ZFLYI</td>\n",
              "      <td>NaN</td>\n",
              "      <td>Scott W. Soyster</td>\n",
              "      <td>I bought this webcam mostly because of the pri...</td>\n",
              "      <td>Not a bad webcam for the price.</td>\n",
              "      <td>[\"When you rely on your notebook PC to communi...</td>\n",
              "      <td>Logitech Quickcam for Notebooks Deluxe</td>\n",
              "      <td>['&gt;#1,108 in Electronics &amp;gt; Accessories &amp;amp...</td>\n",
              "      <td>All Electronics</td>\n",
              "    </tr>\n",
              "    <tr>\n",
              "      <th>4</th>\n",
              "      <td>3178737</td>\n",
              "      <td>5.0</td>\n",
              "      <td>True</td>\n",
              "      <td>B0016JMS90</td>\n",
              "      <td>NaN</td>\n",
              "      <td>Dancer</td>\n",
              "      <td>I got this for my mom.  She's not the most tec...</td>\n",
              "      <td>Good webcam</td>\n",
              "      <td>['PC Webcam with Built-In Microphone', 'Add tr...</td>\n",
              "      <td>Logitech QuickCam Communicate MP (Black)</td>\n",
              "      <td>['&gt;#381 in Electronics &gt; Accessories &amp; Supplie...</td>\n",
              "      <td>All Electronics</td>\n",
              "    </tr>\n",
              "  </tbody>\n",
              "</table>\n",
              "</div>\n",
              "      <button class=\"colab-df-convert\" onclick=\"convertToInteractive('df-31642de7-edfa-418a-94d0-7e78fa549bfe')\"\n",
              "              title=\"Convert this dataframe to an interactive table.\"\n",
              "              style=\"display:none;\">\n",
              "        \n",
              "  <svg xmlns=\"http://www.w3.org/2000/svg\" height=\"24px\"viewBox=\"0 0 24 24\"\n",
              "       width=\"24px\">\n",
              "    <path d=\"M0 0h24v24H0V0z\" fill=\"none\"/>\n",
              "    <path d=\"M18.56 5.44l.94 2.06.94-2.06 2.06-.94-2.06-.94-.94-2.06-.94 2.06-2.06.94zm-11 1L8.5 8.5l.94-2.06 2.06-.94-2.06-.94L8.5 2.5l-.94 2.06-2.06.94zm10 10l.94 2.06.94-2.06 2.06-.94-2.06-.94-.94-2.06-.94 2.06-2.06.94z\"/><path d=\"M17.41 7.96l-1.37-1.37c-.4-.4-.92-.59-1.43-.59-.52 0-1.04.2-1.43.59L10.3 9.45l-7.72 7.72c-.78.78-.78 2.05 0 2.83L4 21.41c.39.39.9.59 1.41.59.51 0 1.02-.2 1.41-.59l7.78-7.78 2.81-2.81c.8-.78.8-2.07 0-2.86zM5.41 20L4 18.59l7.72-7.72 1.47 1.35L5.41 20z\"/>\n",
              "  </svg>\n",
              "      </button>\n",
              "      \n",
              "  <style>\n",
              "    .colab-df-container {\n",
              "      display:flex;\n",
              "      flex-wrap:wrap;\n",
              "      gap: 12px;\n",
              "    }\n",
              "\n",
              "    .colab-df-convert {\n",
              "      background-color: #E8F0FE;\n",
              "      border: none;\n",
              "      border-radius: 50%;\n",
              "      cursor: pointer;\n",
              "      display: none;\n",
              "      fill: #1967D2;\n",
              "      height: 32px;\n",
              "      padding: 0 0 0 0;\n",
              "      width: 32px;\n",
              "    }\n",
              "\n",
              "    .colab-df-convert:hover {\n",
              "      background-color: #E2EBFA;\n",
              "      box-shadow: 0px 1px 2px rgba(60, 64, 67, 0.3), 0px 1px 3px 1px rgba(60, 64, 67, 0.15);\n",
              "      fill: #174EA6;\n",
              "    }\n",
              "\n",
              "    [theme=dark] .colab-df-convert {\n",
              "      background-color: #3B4455;\n",
              "      fill: #D2E3FC;\n",
              "    }\n",
              "\n",
              "    [theme=dark] .colab-df-convert:hover {\n",
              "      background-color: #434B5C;\n",
              "      box-shadow: 0px 1px 3px 1px rgba(0, 0, 0, 0.15);\n",
              "      filter: drop-shadow(0px 1px 2px rgba(0, 0, 0, 0.3));\n",
              "      fill: #FFFFFF;\n",
              "    }\n",
              "  </style>\n",
              "\n",
              "      <script>\n",
              "        const buttonEl =\n",
              "          document.querySelector('#df-31642de7-edfa-418a-94d0-7e78fa549bfe button.colab-df-convert');\n",
              "        buttonEl.style.display =\n",
              "          google.colab.kernel.accessAllowed ? 'block' : 'none';\n",
              "\n",
              "        async function convertToInteractive(key) {\n",
              "          const element = document.querySelector('#df-31642de7-edfa-418a-94d0-7e78fa549bfe');\n",
              "          const dataTable =\n",
              "            await google.colab.kernel.invokeFunction('convertToInteractive',\n",
              "                                                     [key], {});\n",
              "          if (!dataTable) return;\n",
              "\n",
              "          const docLinkHtml = 'Like what you see? Visit the ' +\n",
              "            '<a target=\"_blank\" href=https://colab.research.google.com/notebooks/data_table.ipynb>data table notebook</a>'\n",
              "            + ' to learn more about interactive tables.';\n",
              "          element.innerHTML = '';\n",
              "          dataTable['output_type'] = 'display_data';\n",
              "          await google.colab.output.renderOutput(dataTable, element);\n",
              "          const docLink = document.createElement('div');\n",
              "          docLink.innerHTML = docLinkHtml;\n",
              "          element.appendChild(docLink);\n",
              "        }\n",
              "      </script>\n",
              "    </div>\n",
              "  </div>\n",
              "  "
            ]
          },
          "metadata": {},
          "execution_count": 58
        }
      ]
    },
    {
      "cell_type": "code",
      "source": [
        "data = pd.read_csv(\"/content/drive/MyDrive/Umair_Client/Thesis_Twitter_Sentiment/Source_Code/coldropDS-50k_cleaned.csv\")\n",
        "data.head()"
      ],
      "metadata": {
        "colab": {
          "base_uri": "https://localhost:8080/",
          "height": 320
        },
        "id": "CyE_HjyTOPT_",
        "outputId": "ef00057d-df8c-4324-b7e1-2139ff7521c9"
      },
      "execution_count": null,
      "outputs": [
        {
          "output_type": "execute_result",
          "data": {
            "text/plain": [
              "   Unnamed: 0  overall                                         reviewText  \\\n",
              "0           0      5.0  love these things  the supplied batteries were...   \n",
              "1           1      5.0             great value good range and easy to use   \n",
              "2           2      5.0      smallest thumb drive ever cant beat the price   \n",
              "3           3      5.0  i bought this webcam mostly because of the pri...   \n",
              "4           4      5.0  i got this for my mom  shes not the most tech ...   \n",
              "\n",
              "                           summary  y  \\\n",
              "0  Good headset Replaced batteries  2   \n",
              "1                       Five Stars  2   \n",
              "2                       Five Stars  2   \n",
              "3  Not a bad webcam for the price.  2   \n",
              "4                      Good webcam  2   \n",
              "\n",
              "                                     cleaned_reviews  \n",
              "0              love thing suppli batteri dead replac  \n",
              "1                      great valu good rang easi use  \n",
              "2          smallest thumb drive ever cant beat price  \n",
              "3  bought webcam mostli price fact logitech prett...  \n",
              "4  got mom she tech savvi set she problem one tim...  "
            ],
            "text/html": [
              "\n",
              "  <div id=\"df-e890e924-63fa-4d48-a46a-7fc7f3eb35a4\">\n",
              "    <div class=\"colab-df-container\">\n",
              "      <div>\n",
              "<style scoped>\n",
              "    .dataframe tbody tr th:only-of-type {\n",
              "        vertical-align: middle;\n",
              "    }\n",
              "\n",
              "    .dataframe tbody tr th {\n",
              "        vertical-align: top;\n",
              "    }\n",
              "\n",
              "    .dataframe thead th {\n",
              "        text-align: right;\n",
              "    }\n",
              "</style>\n",
              "<table border=\"1\" class=\"dataframe\">\n",
              "  <thead>\n",
              "    <tr style=\"text-align: right;\">\n",
              "      <th></th>\n",
              "      <th>Unnamed: 0</th>\n",
              "      <th>overall</th>\n",
              "      <th>reviewText</th>\n",
              "      <th>summary</th>\n",
              "      <th>y</th>\n",
              "      <th>cleaned_reviews</th>\n",
              "    </tr>\n",
              "  </thead>\n",
              "  <tbody>\n",
              "    <tr>\n",
              "      <th>0</th>\n",
              "      <td>0</td>\n",
              "      <td>5.0</td>\n",
              "      <td>love these things  the supplied batteries were...</td>\n",
              "      <td>Good headset Replaced batteries</td>\n",
              "      <td>2</td>\n",
              "      <td>love thing suppli batteri dead replac</td>\n",
              "    </tr>\n",
              "    <tr>\n",
              "      <th>1</th>\n",
              "      <td>1</td>\n",
              "      <td>5.0</td>\n",
              "      <td>great value good range and easy to use</td>\n",
              "      <td>Five Stars</td>\n",
              "      <td>2</td>\n",
              "      <td>great valu good rang easi use</td>\n",
              "    </tr>\n",
              "    <tr>\n",
              "      <th>2</th>\n",
              "      <td>2</td>\n",
              "      <td>5.0</td>\n",
              "      <td>smallest thumb drive ever cant beat the price</td>\n",
              "      <td>Five Stars</td>\n",
              "      <td>2</td>\n",
              "      <td>smallest thumb drive ever cant beat price</td>\n",
              "    </tr>\n",
              "    <tr>\n",
              "      <th>3</th>\n",
              "      <td>3</td>\n",
              "      <td>5.0</td>\n",
              "      <td>i bought this webcam mostly because of the pri...</td>\n",
              "      <td>Not a bad webcam for the price.</td>\n",
              "      <td>2</td>\n",
              "      <td>bought webcam mostli price fact logitech prett...</td>\n",
              "    </tr>\n",
              "    <tr>\n",
              "      <th>4</th>\n",
              "      <td>4</td>\n",
              "      <td>5.0</td>\n",
              "      <td>i got this for my mom  shes not the most tech ...</td>\n",
              "      <td>Good webcam</td>\n",
              "      <td>2</td>\n",
              "      <td>got mom she tech savvi set she problem one tim...</td>\n",
              "    </tr>\n",
              "  </tbody>\n",
              "</table>\n",
              "</div>\n",
              "      <button class=\"colab-df-convert\" onclick=\"convertToInteractive('df-e890e924-63fa-4d48-a46a-7fc7f3eb35a4')\"\n",
              "              title=\"Convert this dataframe to an interactive table.\"\n",
              "              style=\"display:none;\">\n",
              "        \n",
              "  <svg xmlns=\"http://www.w3.org/2000/svg\" height=\"24px\"viewBox=\"0 0 24 24\"\n",
              "       width=\"24px\">\n",
              "    <path d=\"M0 0h24v24H0V0z\" fill=\"none\"/>\n",
              "    <path d=\"M18.56 5.44l.94 2.06.94-2.06 2.06-.94-2.06-.94-.94-2.06-.94 2.06-2.06.94zm-11 1L8.5 8.5l.94-2.06 2.06-.94-2.06-.94L8.5 2.5l-.94 2.06-2.06.94zm10 10l.94 2.06.94-2.06 2.06-.94-2.06-.94-.94-2.06-.94 2.06-2.06.94z\"/><path d=\"M17.41 7.96l-1.37-1.37c-.4-.4-.92-.59-1.43-.59-.52 0-1.04.2-1.43.59L10.3 9.45l-7.72 7.72c-.78.78-.78 2.05 0 2.83L4 21.41c.39.39.9.59 1.41.59.51 0 1.02-.2 1.41-.59l7.78-7.78 2.81-2.81c.8-.78.8-2.07 0-2.86zM5.41 20L4 18.59l7.72-7.72 1.47 1.35L5.41 20z\"/>\n",
              "  </svg>\n",
              "      </button>\n",
              "      \n",
              "  <style>\n",
              "    .colab-df-container {\n",
              "      display:flex;\n",
              "      flex-wrap:wrap;\n",
              "      gap: 12px;\n",
              "    }\n",
              "\n",
              "    .colab-df-convert {\n",
              "      background-color: #E8F0FE;\n",
              "      border: none;\n",
              "      border-radius: 50%;\n",
              "      cursor: pointer;\n",
              "      display: none;\n",
              "      fill: #1967D2;\n",
              "      height: 32px;\n",
              "      padding: 0 0 0 0;\n",
              "      width: 32px;\n",
              "    }\n",
              "\n",
              "    .colab-df-convert:hover {\n",
              "      background-color: #E2EBFA;\n",
              "      box-shadow: 0px 1px 2px rgba(60, 64, 67, 0.3), 0px 1px 3px 1px rgba(60, 64, 67, 0.15);\n",
              "      fill: #174EA6;\n",
              "    }\n",
              "\n",
              "    [theme=dark] .colab-df-convert {\n",
              "      background-color: #3B4455;\n",
              "      fill: #D2E3FC;\n",
              "    }\n",
              "\n",
              "    [theme=dark] .colab-df-convert:hover {\n",
              "      background-color: #434B5C;\n",
              "      box-shadow: 0px 1px 3px 1px rgba(0, 0, 0, 0.15);\n",
              "      filter: drop-shadow(0px 1px 2px rgba(0, 0, 0, 0.3));\n",
              "      fill: #FFFFFF;\n",
              "    }\n",
              "  </style>\n",
              "\n",
              "      <script>\n",
              "        const buttonEl =\n",
              "          document.querySelector('#df-e890e924-63fa-4d48-a46a-7fc7f3eb35a4 button.colab-df-convert');\n",
              "        buttonEl.style.display =\n",
              "          google.colab.kernel.accessAllowed ? 'block' : 'none';\n",
              "\n",
              "        async function convertToInteractive(key) {\n",
              "          const element = document.querySelector('#df-e890e924-63fa-4d48-a46a-7fc7f3eb35a4');\n",
              "          const dataTable =\n",
              "            await google.colab.kernel.invokeFunction('convertToInteractive',\n",
              "                                                     [key], {});\n",
              "          if (!dataTable) return;\n",
              "\n",
              "          const docLinkHtml = 'Like what you see? Visit the ' +\n",
              "            '<a target=\"_blank\" href=https://colab.research.google.com/notebooks/data_table.ipynb>data table notebook</a>'\n",
              "            + ' to learn more about interactive tables.';\n",
              "          element.innerHTML = '';\n",
              "          dataTable['output_type'] = 'display_data';\n",
              "          await google.colab.output.renderOutput(dataTable, element);\n",
              "          const docLink = document.createElement('div');\n",
              "          docLink.innerHTML = docLinkHtml;\n",
              "          element.appendChild(docLink);\n",
              "        }\n",
              "      </script>\n",
              "    </div>\n",
              "  </div>\n",
              "  "
            ]
          },
          "metadata": {},
          "execution_count": 60
        }
      ]
    },
    {
      "cell_type": "markdown",
      "source": [
        "# **2- Exploratory Data Analysis (EDA)**\n",
        "Analysis on the dataset performed and display data insights"
      ],
      "metadata": {
        "id": "XZNYLpVHEuZj"
      }
    },
    {
      "cell_type": "code",
      "source": [
        "# Import the cleaned dataset \n",
        "\n",
        "URL = \"/content/drive/MyDrive/Umair_Client/Thesis_Twitter_Sentiment/Source_Code/coldropDS-50k_cleaned.csv\""
      ],
      "metadata": {
        "id": "ySrscmB_Ewhb"
      },
      "execution_count": null,
      "outputs": []
    },
    {
      "cell_type": "code",
      "source": [
        "# Importing necessary visualisation libraries\n",
        "\n",
        "import torch #the pytorch library, used for modeling and formatting our data to be compatible in a pytorch environment\n",
        "from tqdm.notebook import tqdm #used as a progress bar\n",
        "\n",
        "# Importing necessary libraries for basic visualization as well as word clouds\n",
        "import pandas as pd\n",
        "import numpy as np\n",
        "import matplotlib.pyplot as plt\n",
        "import seaborn as sns\n",
        "from wordcloud import WordCloud, STOPWORDS\n",
        "from sklearn.feature_extraction.text import CountVectorizer\n",
        "\n",
        "# Using textblob to generate sentiment for easy visualization\n",
        "from textblob import TextBlob"
      ],
      "metadata": {
        "id": "bawWcBYdFL-7"
      },
      "execution_count": null,
      "outputs": []
    },
    {
      "cell_type": "code",
      "source": [
        "# Read dataset\n",
        "df = pd.read_csv(URL)"
      ],
      "metadata": {
        "id": "2N687z9bFhiL"
      },
      "execution_count": null,
      "outputs": []
    },
    {
      "cell_type": "code",
      "source": [
        "# Change the overall category to categorical from numerical for easier visualization\n",
        "\n",
        "df[\"classes\"] = df[\"overall\"]\n",
        "df[\"classes\"].replace({5.0: \"positive\",4.0:\"positive\",3.0:\"neutral\",2.0:\"negative\",1.0:\"negative\"}, inplace=True)\n",
        "df[\"classes\"].unique()"
      ],
      "metadata": {
        "colab": {
          "base_uri": "https://localhost:8080/"
        },
        "id": "aQh0JpJuFnGb",
        "outputId": "9cb3e4a1-1880-4303-ff16-f1add63df6f5"
      },
      "execution_count": null,
      "outputs": [
        {
          "output_type": "execute_result",
          "data": {
            "text/plain": [
              "array(['positive', 'negative', 'neutral'], dtype=object)"
            ]
          },
          "metadata": {},
          "execution_count": 46
        }
      ]
    },
    {
      "cell_type": "code",
      "source": [
        "# Dropping null values to have a cleaner dataset\n",
        "\n",
        "df = df.dropna(subset=['cleaned_reviews'])"
      ],
      "metadata": {
        "id": "k88Q6AF7GM9b"
      },
      "execution_count": null,
      "outputs": []
    },
    {
      "cell_type": "markdown",
      "source": [
        "Visualization of the data "
      ],
      "metadata": {
        "id": "JRe9bXSPGSgT"
      }
    },
    {
      "cell_type": "markdown",
      "source": [
        "*Distribution of sentiment classes across the dataset*"
      ],
      "metadata": {
        "id": "M9PPCFlrGqcL"
      }
    },
    {
      "cell_type": "code",
      "source": [
        "# Distribution of sentiment class\n",
        "fig, axes = plt.subplots(1, figsize=(15,8))\n",
        "fig.suptitle(\"Comparing Ratio of Neutral Negative and Positive ratings\", fontsize = 25)\n",
        "plt.tight_layout(pad = 3.5)\n",
        "sns.countplot(x = \"classes\", data = df)\n",
        "axes.set_xlabel(\"Sentiment\", fontsize = 20)\n",
        "axes.set_ylabel(\"Count\", fontsize = 20)\n",
        "sns.despine()"
      ],
      "metadata": {
        "colab": {
          "base_uri": "https://localhost:8080/",
          "height": 563
        },
        "id": "lm0RGW2uGQxi",
        "outputId": "126de052-fb62-4699-bb61-31604cc5eb87"
      },
      "execution_count": null,
      "outputs": [
        {
          "output_type": "display_data",
          "data": {
            "text/plain": [
              "<Figure size 1080x576 with 1 Axes>"
            ],
            "image/png": "[encoded data removed]"
          },
          "metadata": {
            "needs_background": "light"
          }
        }
      ]
    },
    {
      "cell_type": "code",
      "source": [
        "# Percentage of neutral, negative, positive words in train and test data\n",
        "def pert_count(data, category):\n",
        "    return (len(data[data[\"classes\"] == category])/len(data)) * 100\n",
        "print(f\"Percentage of neutral words in train --> {pert_count(df, 'neutral')} %\")\n",
        "print(f\"Percentage of negative words in train --> {pert_count(df, 'negative')} %\")\n",
        "print(f\"Percentage of positive words in train --> {pert_count(df, 'positive')} %\")"
      ],
      "metadata": {
        "colab": {
          "base_uri": "https://localhost:8080/"
        },
        "id": "ym_DITc4G0jr",
        "outputId": "94a7f0e2-9a78-4059-f4e9-6b99262dfe9e"
      },
      "execution_count": null,
      "outputs": [
        {
          "output_type": "stream",
          "name": "stdout",
          "text": [
            "Percentage of neutral words in train --> 7.456439014620468 %\n",
            "Percentage of negative words in train --> 15.681954736631285 %\n",
            "Percentage of positive words in train --> 76.86160624874825 %\n"
          ]
        }
      ]
    },
    {
      "cell_type": "markdown",
      "source": [
        "*Words and word clouds*"
      ],
      "metadata": {
        "id": "IBa94ma3G60b"
      }
    },
    {
      "cell_type": "code",
      "source": [
        "# Most repeated words in reviews\n",
        "stopwords = set(STOPWORDS)\n",
        "def word_cloud(data, title):\n",
        "    wordcloud = WordCloud(\n",
        "    background_color = \"black\",\n",
        "    max_font_size = 40,\n",
        "    max_words = 200,\n",
        "    stopwords = stopwords,\n",
        "    scale = 3).generate(str(data))\n",
        "    fig = plt.figure(figsize = (7.5, 7.5))\n",
        "    plt.axis(\"off\")\n",
        "    if title: \n",
        "        fig.suptitle(title, fontsize=15)\n",
        "        fig.subplots_adjust(top=2.25)\n",
        "    plt.imshow(wordcloud)\n",
        "    plt.show()"
      ],
      "metadata": {
        "id": "gdmjkPQTG8Xa"
      },
      "execution_count": null,
      "outputs": []
    },
    {
      "cell_type": "code",
      "source": [
        "# seperating all records into a different variable to generate wordcloud based on category\n",
        "neu=df[df[\"classes\"] == \"neutral\"][\"cleaned_reviews\"]\n",
        "neg=df[df[\"classes\"] == \"negative\"][\"cleaned_reviews\"]\n",
        "pos=df[df[\"classes\"] == \"positive\"][\"cleaned_reviews\"]"
      ],
      "metadata": {
        "id": "wPNanKnMHOOi"
      },
      "execution_count": null,
      "outputs": []
    },
    {
      "cell_type": "code",
      "source": [
        "# Generating wordcloud based on category\n",
        "word_cloud(neu, \"Most Repeated words in neutral reviews\")\n",
        "word_cloud(pos, \"Most Repeated words in positive reviews\")\n",
        "word_cloud(neg, \"Most Repeated words in negative reviews\")"
      ],
      "metadata": {
        "colab": {
          "base_uri": "https://localhost:8080/",
          "height": 755
        },
        "id": "QIetPLuwHSPK",
        "outputId": "89e9a3b7-46fa-4b70-b9a1-e263d76f34c1"
      },
      "execution_count": null,
      "outputs": [
        {
          "output_type": "display_data",
          "data": {
            "text/plain": [
              "<Figure size 540x540 with 1 Axes>"
            ],
            "image/png": "[encoded data removed]"
          },
          "metadata": {
            "needs_background": "light"
          }
        },
        {
          "output_type": "display_data",
          "data": {
            "text/plain": [
              "<Figure size 540x540 with 1 Axes>"
            ],
            "image/png": "[encoded data removed]"
          },
          "metadata": {
            "needs_background": "light"
          }
        },
        {
          "output_type": "display_data",
          "data": {
            "text/plain": [
              "<Figure size 540x540 with 1 Axes>"
            ],
            "image/png": "[encoded data removed]"
          },
          "metadata": {
            "needs_background": "light"
          }
        }
      ]
    },
    {
      "cell_type": "markdown",
      "source": [
        "*Most popular words in the dataset*"
      ],
      "metadata": {
        "id": "NeSu_cG0HWTp"
      }
    },
    {
      "cell_type": "code",
      "source": [
        "# Function for bigram\n",
        "def get_top_n_bigram(corpus, n=None):\n",
        "    vec = CountVectorizer(ngram_range=(2, 2),stop_words='english').fit(corpus)\n",
        "    bag_of_words = vec.transform(corpus)\n",
        "    sum_words = bag_of_words.sum(axis=0) \n",
        "    words_freq = [(word, sum_words[0, idx]) for word, idx in vec.vocabulary_.items()]\n",
        "    words_freq =sorted(words_freq, key = lambda x: x[1], reverse=True)\n",
        "    return words_freq[:n]# apply function above"
      ],
      "metadata": {
        "id": "1_Sg23nLHZIR"
      },
      "execution_count": null,
      "outputs": []
    },
    {
      "cell_type": "code",
      "source": [
        "# create a function for bigram plots\n",
        "def n_gram_plot(data,title,color):\n",
        "    x=[x[0] for x in data]\n",
        "    y=[x[1] for x in data]\n",
        "    sns.barplot(y,x,color='{}'.format(color))\n",
        "    plt.title('{} Reviews Bigrams'.format(title),fontsize=15)\n",
        "    plt.yticks(rotation=0,fontsize=15)\n",
        "\n",
        "common_words_good = get_top_n_bigram(pos, 5)\n",
        "common_words_neutral= get_top_n_bigram(neu, 5)\n",
        "common_words_bad= get_top_n_bigram(neg, 5)\n",
        "\n",
        "# Bigram plot using function above\n",
        "plt.figure(figsize=(10,5))\n",
        "# Good reviews bigrams\n",
        "plt.subplot(151)\n",
        "n_gram_plot(common_words_good,'Good','green')\n",
        "#============================================= \n",
        "#Neutral reviews bigrams\n",
        "plt.subplot(153)\n",
        "n_gram_plot(common_words_neutral,'Neutral','yellow')\n",
        "#============================================= \n",
        "#Bad reviews bigrams\n",
        "plt.subplot(155)\n",
        "n_gram_plot(common_words_bad,'Bad','red')\n",
        "plt.show()"
      ],
      "metadata": {
        "colab": {
          "base_uri": "https://localhost:8080/",
          "height": 462
        },
        "id": "71Y-LzM1HcSp",
        "outputId": "3127cc6d-0b01-41cd-b55b-fab7c3b2f888"
      },
      "execution_count": null,
      "outputs": [
        {
          "output_type": "stream",
          "name": "stderr",
          "text": [
            "/usr/local/lib/python3.7/dist-packages/seaborn/_decorators.py:43: FutureWarning: Pass the following variables as keyword args: x, y. From version 0.12, the only valid positional argument will be `data`, and passing other arguments without an explicit keyword will result in an error or misinterpretation.\n",
            "  FutureWarning\n",
            "/usr/local/lib/python3.7/dist-packages/seaborn/_decorators.py:43: FutureWarning: Pass the following variables as keyword args: x, y. From version 0.12, the only valid positional argument will be `data`, and passing other arguments without an explicit keyword will result in an error or misinterpretation.\n",
            "  FutureWarning\n",
            "/usr/local/lib/python3.7/dist-packages/seaborn/_decorators.py:43: FutureWarning: Pass the following variables as keyword args: x, y. From version 0.12, the only valid positional argument will be `data`, and passing other arguments without an explicit keyword will result in an error or misinterpretation.\n",
            "  FutureWarning\n"
          ]
        },
        {
          "output_type": "display_data",
          "data": {
            "text/plain": [
              "<Figure size 720x360 with 3 Axes>"
            ],
            "image/png": "[encoded data removed]"
          },
          "metadata": {
            "needs_background": "light"
          }
        }
      ]
    },
    {
      "cell_type": "markdown",
      "source": [
        "*Sentiment distibutions*"
      ],
      "metadata": {
        "id": "zKuXDUddHnki"
      }
    },
    {
      "cell_type": "code",
      "source": [
        "# calculating sentiment polarity using external libraries\n",
        "df['sentiment'] = df['cleaned_reviews'].apply(lambda x: TextBlob(str(x)).sentiment.polarity)\n",
        "df.head()"
      ],
      "metadata": {
        "colab": {
          "base_uri": "https://localhost:8080/",
          "height": 354
        },
        "id": "31tFyGCbHprx",
        "outputId": "324a14ba-db01-4aa9-b005-d5ac9d4628b5"
      },
      "execution_count": null,
      "outputs": [
        {
          "output_type": "execute_result",
          "data": {
            "text/plain": [
              "   Unnamed: 0  overall                                         reviewText  \\\n",
              "0           0      5.0  love these things  the supplied batteries were...   \n",
              "1           1      5.0             great value good range and easy to use   \n",
              "2           2      5.0      smallest thumb drive ever cant beat the price   \n",
              "3           3      5.0  i bought this webcam mostly because of the pri...   \n",
              "4           4      5.0  i got this for my mom  shes not the most tech ...   \n",
              "\n",
              "                           summary  y  \\\n",
              "0  Good headset Replaced batteries  2   \n",
              "1                       Five Stars  2   \n",
              "2                       Five Stars  2   \n",
              "3  Not a bad webcam for the price.  2   \n",
              "4                      Good webcam  2   \n",
              "\n",
              "                                     cleaned_reviews   classes  sentiment  \n",
              "0              love thing suppli batteri dead replac  positive   0.150000  \n",
              "1                      great valu good rang easi use  positive   0.750000  \n",
              "2          smallest thumb drive ever cant beat price  positive   0.000000  \n",
              "3  bought webcam mostli price fact logitech prett...  positive   0.155790  \n",
              "4  got mom she tech savvi set she problem one tim...  positive   0.372619  "
            ],
            "text/html": [
              "\n",
              "  <div id=\"df-d884a809-905d-41e6-a701-2f04d41e110f\">\n",
              "    <div class=\"colab-df-container\">\n",
              "      <div>\n",
              "<style scoped>\n",
              "    .dataframe tbody tr th:only-of-type {\n",
              "        vertical-align: middle;\n",
              "    }\n",
              "\n",
              "    .dataframe tbody tr th {\n",
              "        vertical-align: top;\n",
              "    }\n",
              "\n",
              "    .dataframe thead th {\n",
              "        text-align: right;\n",
              "    }\n",
              "</style>\n",
              "<table border=\"1\" class=\"dataframe\">\n",
              "  <thead>\n",
              "    <tr style=\"text-align: right;\">\n",
              "      <th></th>\n",
              "      <th>Unnamed: 0</th>\n",
              "      <th>overall</th>\n",
              "      <th>reviewText</th>\n",
              "      <th>summary</th>\n",
              "      <th>y</th>\n",
              "      <th>cleaned_reviews</th>\n",
              "      <th>classes</th>\n",
              "      <th>sentiment</th>\n",
              "    </tr>\n",
              "  </thead>\n",
              "  <tbody>\n",
              "    <tr>\n",
              "      <th>0</th>\n",
              "      <td>0</td>\n",
              "      <td>5.0</td>\n",
              "      <td>love these things  the supplied batteries were...</td>\n",
              "      <td>Good headset Replaced batteries</td>\n",
              "      <td>2</td>\n",
              "      <td>love thing suppli batteri dead replac</td>\n",
              "      <td>positive</td>\n",
              "      <td>0.150000</td>\n",
              "    </tr>\n",
              "    <tr>\n",
              "      <th>1</th>\n",
              "      <td>1</td>\n",
              "      <td>5.0</td>\n",
              "      <td>great value good range and easy to use</td>\n",
              "      <td>Five Stars</td>\n",
              "      <td>2</td>\n",
              "      <td>great valu good rang easi use</td>\n",
              "      <td>positive</td>\n",
              "      <td>0.750000</td>\n",
              "    </tr>\n",
              "    <tr>\n",
              "      <th>2</th>\n",
              "      <td>2</td>\n",
              "      <td>5.0</td>\n",
              "      <td>smallest thumb drive ever cant beat the price</td>\n",
              "      <td>Five Stars</td>\n",
              "      <td>2</td>\n",
              "      <td>smallest thumb drive ever cant beat price</td>\n",
              "      <td>positive</td>\n",
              "      <td>0.000000</td>\n",
              "    </tr>\n",
              "    <tr>\n",
              "      <th>3</th>\n",
              "      <td>3</td>\n",
              "      <td>5.0</td>\n",
              "      <td>i bought this webcam mostly because of the pri...</td>\n",
              "      <td>Not a bad webcam for the price.</td>\n",
              "      <td>2</td>\n",
              "      <td>bought webcam mostli price fact logitech prett...</td>\n",
              "      <td>positive</td>\n",
              "      <td>0.155790</td>\n",
              "    </tr>\n",
              "    <tr>\n",
              "      <th>4</th>\n",
              "      <td>4</td>\n",
              "      <td>5.0</td>\n",
              "      <td>i got this for my mom  shes not the most tech ...</td>\n",
              "      <td>Good webcam</td>\n",
              "      <td>2</td>\n",
              "      <td>got mom she tech savvi set she problem one tim...</td>\n",
              "      <td>positive</td>\n",
              "      <td>0.372619</td>\n",
              "    </tr>\n",
              "  </tbody>\n",
              "</table>\n",
              "</div>\n",
              "      <button class=\"colab-df-convert\" onclick=\"convertToInteractive('df-d884a809-905d-41e6-a701-2f04d41e110f')\"\n",
              "              title=\"Convert this dataframe to an interactive table.\"\n",
              "              style=\"display:none;\">\n",
              "        \n",
              "  <svg xmlns=\"http://www.w3.org/2000/svg\" height=\"24px\"viewBox=\"0 0 24 24\"\n",
              "       width=\"24px\">\n",
              "    <path d=\"M0 0h24v24H0V0z\" fill=\"none\"/>\n",
              "    <path d=\"M18.56 5.44l.94 2.06.94-2.06 2.06-.94-2.06-.94-.94-2.06-.94 2.06-2.06.94zm-11 1L8.5 8.5l.94-2.06 2.06-.94-2.06-.94L8.5 2.5l-.94 2.06-2.06.94zm10 10l.94 2.06.94-2.06 2.06-.94-2.06-.94-.94-2.06-.94 2.06-2.06.94z\"/><path d=\"M17.41 7.96l-1.37-1.37c-.4-.4-.92-.59-1.43-.59-.52 0-1.04.2-1.43.59L10.3 9.45l-7.72 7.72c-.78.78-.78 2.05 0 2.83L4 21.41c.39.39.9.59 1.41.59.51 0 1.02-.2 1.41-.59l7.78-7.78 2.81-2.81c.8-.78.8-2.07 0-2.86zM5.41 20L4 18.59l7.72-7.72 1.47 1.35L5.41 20z\"/>\n",
              "  </svg>\n",
              "      </button>\n",
              "      \n",
              "  <style>\n",
              "    .colab-df-container {\n",
              "      display:flex;\n",
              "      flex-wrap:wrap;\n",
              "      gap: 12px;\n",
              "    }\n",
              "\n",
              "    .colab-df-convert {\n",
              "      background-color: #E8F0FE;\n",
              "      border: none;\n",
              "      border-radius: 50%;\n",
              "      cursor: pointer;\n",
              "      display: none;\n",
              "      fill: #1967D2;\n",
              "      height: 32px;\n",
              "      padding: 0 0 0 0;\n",
              "      width: 32px;\n",
              "    }\n",
              "\n",
              "    .colab-df-convert:hover {\n",
              "      background-color: #E2EBFA;\n",
              "      box-shadow: 0px 1px 2px rgba(60, 64, 67, 0.3), 0px 1px 3px 1px rgba(60, 64, 67, 0.15);\n",
              "      fill: #174EA6;\n",
              "    }\n",
              "\n",
              "    [theme=dark] .colab-df-convert {\n",
              "      background-color: #3B4455;\n",
              "      fill: #D2E3FC;\n",
              "    }\n",
              "\n",
              "    [theme=dark] .colab-df-convert:hover {\n",
              "      background-color: #434B5C;\n",
              "      box-shadow: 0px 1px 3px 1px rgba(0, 0, 0, 0.15);\n",
              "      filter: drop-shadow(0px 1px 2px rgba(0, 0, 0, 0.3));\n",
              "      fill: #FFFFFF;\n",
              "    }\n",
              "  </style>\n",
              "\n",
              "      <script>\n",
              "        const buttonEl =\n",
              "          document.querySelector('#df-d884a809-905d-41e6-a701-2f04d41e110f button.colab-df-convert');\n",
              "        buttonEl.style.display =\n",
              "          google.colab.kernel.accessAllowed ? 'block' : 'none';\n",
              "\n",
              "        async function convertToInteractive(key) {\n",
              "          const element = document.querySelector('#df-d884a809-905d-41e6-a701-2f04d41e110f');\n",
              "          const dataTable =\n",
              "            await google.colab.kernel.invokeFunction('convertToInteractive',\n",
              "                                                     [key], {});\n",
              "          if (!dataTable) return;\n",
              "\n",
              "          const docLinkHtml = 'Like what you see? Visit the ' +\n",
              "            '<a target=\"_blank\" href=https://colab.research.google.com/notebooks/data_table.ipynb>data table notebook</a>'\n",
              "            + ' to learn more about interactive tables.';\n",
              "          element.innerHTML = '';\n",
              "          dataTable['output_type'] = 'display_data';\n",
              "          await google.colab.output.renderOutput(dataTable, element);\n",
              "          const docLink = document.createElement('div');\n",
              "          docLink.innerHTML = docLinkHtml;\n",
              "          element.appendChild(docLink);\n",
              "        }\n",
              "      </script>\n",
              "    </div>\n",
              "  </div>\n",
              "  "
            ]
          },
          "metadata": {},
          "execution_count": 55
        }
      ]
    },
    {
      "cell_type": "code",
      "source": [
        "#Barchart using to visualize the sentiment distribution generated above\n",
        "plt.figure(figsize=(10,10))\n",
        "plt.margins(0.02)\n",
        "plt.xlabel('Sentiment', fontsize=20)\n",
        "plt.xticks(fontsize=20)\n",
        "plt.ylabel('Frequency', fontsize=20)\n",
        "plt.yticks(fontsize=20)\n",
        "plt.hist(df['sentiment'], bins=50)\n",
        "plt.title('Sentiment Distribution', fontsize=30)\n",
        "plt.show()"
      ],
      "metadata": {
        "colab": {
          "base_uri": "https://localhost:8080/",
          "height": 652
        },
        "id": "39APpqB1Hx8J",
        "outputId": "13ec21ea-b224-408a-ed8e-0fce13428777"
      },
      "execution_count": null,
      "outputs": [
        {
          "output_type": "display_data",
          "data": {
            "text/plain": [
              "<Figure size 720x720 with 1 Axes>"
            ],
            "image/png": "[encoded data removed]"
          },
          "metadata": {
            "needs_background": "light"
          }
        }
      ]
    },
    {
      "cell_type": "markdown",
      "source": [
        "We can conclude that there's more reviews that look neutral exist in our dataset than there are positive or negative reviews. We also see that people tend to put in reviews only when its positive or when its neutral and they barely bother to put up a review when its a really bad product."
      ],
      "metadata": {
        "id": "yynIWn1MH3qi"
      }
    },
    {
      "cell_type": "markdown",
      "source": [
        "*Correlation heatmap to analyse the dependence between review length and sentiment*"
      ],
      "metadata": {
        "id": "B4YWeecVH6yB"
      }
    },
    {
      "cell_type": "markdown",
      "source": [
        "It is a known fact that individuals tend to rant more about a product than they would praise a product. The following correlation heatmap further proves that face, there's a negative correlation between review length and the sentiment indicating negative reviews tend to be longer than positive or neutral ones."
      ],
      "metadata": {
        "id": "QA9qmkXzH_4q"
      }
    },
    {
      "cell_type": "code",
      "source": [
        "# Heatmap from overall rating, review length, sentiment and word count\n",
        "\n",
        "# calculating word count and review length\n",
        "df['word_count'] = df[\"reviewText\"].apply(lambda x: len(str(x).split(\" \")))\n",
        "df['review_len'] =df[\"reviewText\"].apply(lambda x: len(str(x)))\n",
        "\n",
        "# visualising the heatmap\n",
        "correlation = df[['overall','sentiment', 'review_len', 'word_count']].corr()\n",
        "mask = np.zeros_like(correlation, dtype=np.bool)\n",
        "mask[np.triu_indices_from(mask)] = True\n",
        "plt.figure(figsize=(30,10))\n",
        "plt.xticks(fontsize=16)\n",
        "plt.yticks(fontsize=16)\n",
        "sns.heatmap(correlation, cmap='coolwarm', annot=True, annot_kws={\"size\": 12}, linewidths=10, vmin=-1.5, mask=mask)"
      ],
      "metadata": {
        "colab": {
          "base_uri": "https://localhost:8080/",
          "height": 495
        },
        "id": "WYMlrVUNH4TD",
        "outputId": "f0d03277-1d79-48bf-8259-c30775811fa3"
      },
      "execution_count": null,
      "outputs": [
        {
          "output_type": "stream",
          "name": "stderr",
          "text": [
            "/usr/local/lib/python3.7/dist-packages/ipykernel_launcher.py:9: DeprecationWarning: `np.bool` is a deprecated alias for the builtin `bool`. To silence this warning, use `bool` by itself. Doing this will not modify any behavior and is safe. If you specifically wanted the numpy scalar type, use `np.bool_` here.\n",
            "Deprecated in NumPy 1.20; for more details and guidance: https://numpy.org/devdocs/release/1.20.0-notes.html#deprecations\n",
            "  if __name__ == '__main__':\n"
          ]
        },
        {
          "output_type": "execute_result",
          "data": {
            "text/plain": [
              "<matplotlib.axes._subplots.AxesSubplot at 0x7fa23f7835d0>"
            ]
          },
          "metadata": {},
          "execution_count": 57
        },
        {
          "output_type": "display_data",
          "data": {
            "text/plain": [
              "<Figure size 2160x720 with 2 Axes>"
            ],
            "image/png": "[encoded data removed]"
          },
          "metadata": {
            "needs_background": "light"
          }
        }
      ]
    },
    {
      "cell_type": "markdown",
      "source": [
        "# **3- Models**\n",
        "Different Machine Learning algorithms used to develop the model"
      ],
      "metadata": {
        "id": "AGmViHh9IS7S"
      }
    },
    {
      "cell_type": "code",
      "source": [
        "# Basic libraries\n",
        "import pandas as pd\n",
        "import numpy as np\n",
        "\n",
        "#Libraries for Tokenization\n",
        "from sklearn.feature_extraction.text import CountVectorizer,TfidfTransformer,TfidfVectorizer\n",
        "\n",
        "#Libraries to implement Naive Bayes \n",
        "from sklearn.naive_bayes import MultinomialNB\n",
        "from sklearn.naive_bayes import ComplementNB\n",
        "from sklearn.naive_bayes import BernoulliNB\n",
        "\n",
        "#Libraries to implement and optimize Random Forest\n",
        "from sklearn.ensemble import RandomForestClassifier\n",
        "from sklearn.model_selection import GridSearchCV\n",
        "\n",
        "#To create Pipelines and select best feautures before passing through the model\n",
        "from sklearn.linear_model import SGDClassifier\n",
        "from sklearn.pipeline import Pipeline\n",
        "from sklearn.feature_selection import SelectKBest, chi2\n",
        "\n",
        "#Pre-processing and NLP libraries\n",
        "import nltk\n",
        "from nltk.corpus import stopwords\n",
        "from nltk.stem import PorterStemmer\n",
        "from nltk.tokenize import RegexpTokenizer\n",
        "nltk.download(\"stopwords\")\n",
        "import re\n",
        "import string\n",
        "\n",
        "#Visualization tools\n",
        "import seaborn as sns\n",
        "import matplotlib.pyplot as plt"
      ],
      "metadata": {
        "colab": {
          "base_uri": "https://localhost:8080/"
        },
        "id": "IwcgmtpAId-y",
        "outputId": "38111d23-50fa-4dda-a7b6-3a862fdf0e31"
      },
      "execution_count": null,
      "outputs": [
        {
          "output_type": "stream",
          "name": "stdout",
          "text": [
            "[nltk_data] Downloading package stopwords to /root/nltk_data...\n",
            "[nltk_data]   Unzipping corpora/stopwords.zip.\n"
          ]
        }
      ]
    },
    {
      "cell_type": "code",
      "source": [
        "URL = \"/content/drive/MyDrive/Umair_Client/Thesis_Twitter_Sentiment/Source_Code/coldropDS-50k_cleaned.csv\""
      ],
      "metadata": {
        "id": "9saxEZCdI0hi"
      },
      "execution_count": null,
      "outputs": []
    },
    {
      "cell_type": "code",
      "source": [
        "#Reading the dataset\n",
        "df = pd.DataFrame(pd.read_csv(URL))\n",
        "#Dropping Nan value rows pertaining to the Reviews\n",
        "df = df.dropna(axis=0,subset=['cleaned_reviews'])"
      ],
      "metadata": {
        "id": "6KHes4LRI5hR"
      },
      "execution_count": null,
      "outputs": []
    },
    {
      "cell_type": "code",
      "source": [
        "#Displaying dataset sample for sake of clarity and readability\n",
        "df.head()"
      ],
      "metadata": {
        "colab": {
          "base_uri": "https://localhost:8080/",
          "height": 320
        },
        "id": "DloHoZzsI94x",
        "outputId": "c9926462-d5d3-46c7-8ef6-2e0405ec3fc8"
      },
      "execution_count": null,
      "outputs": [
        {
          "output_type": "execute_result",
          "data": {
            "text/plain": [
              "   Unnamed: 0  overall                                         reviewText  \\\n",
              "0           0      5.0  love these things  the supplied batteries were...   \n",
              "1           1      5.0             great value good range and easy to use   \n",
              "2           2      5.0      smallest thumb drive ever cant beat the price   \n",
              "3           3      5.0  i bought this webcam mostly because of the pri...   \n",
              "4           4      5.0  i got this for my mom  shes not the most tech ...   \n",
              "\n",
              "                           summary  y  \\\n",
              "0  Good headset Replaced batteries  2   \n",
              "1                       Five Stars  2   \n",
              "2                       Five Stars  2   \n",
              "3  Not a bad webcam for the price.  2   \n",
              "4                      Good webcam  2   \n",
              "\n",
              "                                     cleaned_reviews  \n",
              "0              love thing suppli batteri dead replac  \n",
              "1                      great valu good rang easi use  \n",
              "2          smallest thumb drive ever cant beat price  \n",
              "3  bought webcam mostli price fact logitech prett...  \n",
              "4  got mom she tech savvi set she problem one tim...  "
            ],
            "text/html": [
              "\n",
              "  <div id=\"df-f37fa80d-df66-4bc2-a786-494d30a7f629\">\n",
              "    <div class=\"colab-df-container\">\n",
              "      <div>\n",
              "<style scoped>\n",
              "    .dataframe tbody tr th:only-of-type {\n",
              "        vertical-align: middle;\n",
              "    }\n",
              "\n",
              "    .dataframe tbody tr th {\n",
              "        vertical-align: top;\n",
              "    }\n",
              "\n",
              "    .dataframe thead th {\n",
              "        text-align: right;\n",
              "    }\n",
              "</style>\n",
              "<table border=\"1\" class=\"dataframe\">\n",
              "  <thead>\n",
              "    <tr style=\"text-align: right;\">\n",
              "      <th></th>\n",
              "      <th>Unnamed: 0</th>\n",
              "      <th>overall</th>\n",
              "      <th>reviewText</th>\n",
              "      <th>summary</th>\n",
              "      <th>y</th>\n",
              "      <th>cleaned_reviews</th>\n",
              "    </tr>\n",
              "  </thead>\n",
              "  <tbody>\n",
              "    <tr>\n",
              "      <th>0</th>\n",
              "      <td>0</td>\n",
              "      <td>5.0</td>\n",
              "      <td>love these things  the supplied batteries were...</td>\n",
              "      <td>Good headset Replaced batteries</td>\n",
              "      <td>2</td>\n",
              "      <td>love thing suppli batteri dead replac</td>\n",
              "    </tr>\n",
              "    <tr>\n",
              "      <th>1</th>\n",
              "      <td>1</td>\n",
              "      <td>5.0</td>\n",
              "      <td>great value good range and easy to use</td>\n",
              "      <td>Five Stars</td>\n",
              "      <td>2</td>\n",
              "      <td>great valu good rang easi use</td>\n",
              "    </tr>\n",
              "    <tr>\n",
              "      <th>2</th>\n",
              "      <td>2</td>\n",
              "      <td>5.0</td>\n",
              "      <td>smallest thumb drive ever cant beat the price</td>\n",
              "      <td>Five Stars</td>\n",
              "      <td>2</td>\n",
              "      <td>smallest thumb drive ever cant beat price</td>\n",
              "    </tr>\n",
              "    <tr>\n",
              "      <th>3</th>\n",
              "      <td>3</td>\n",
              "      <td>5.0</td>\n",
              "      <td>i bought this webcam mostly because of the pri...</td>\n",
              "      <td>Not a bad webcam for the price.</td>\n",
              "      <td>2</td>\n",
              "      <td>bought webcam mostli price fact logitech prett...</td>\n",
              "    </tr>\n",
              "    <tr>\n",
              "      <th>4</th>\n",
              "      <td>4</td>\n",
              "      <td>5.0</td>\n",
              "      <td>i got this for my mom  shes not the most tech ...</td>\n",
              "      <td>Good webcam</td>\n",
              "      <td>2</td>\n",
              "      <td>got mom she tech savvi set she problem one tim...</td>\n",
              "    </tr>\n",
              "  </tbody>\n",
              "</table>\n",
              "</div>\n",
              "      <button class=\"colab-df-convert\" onclick=\"convertToInteractive('df-f37fa80d-df66-4bc2-a786-494d30a7f629')\"\n",
              "              title=\"Convert this dataframe to an interactive table.\"\n",
              "              style=\"display:none;\">\n",
              "        \n",
              "  <svg xmlns=\"http://www.w3.org/2000/svg\" height=\"24px\"viewBox=\"0 0 24 24\"\n",
              "       width=\"24px\">\n",
              "    <path d=\"M0 0h24v24H0V0z\" fill=\"none\"/>\n",
              "    <path d=\"M18.56 5.44l.94 2.06.94-2.06 2.06-.94-2.06-.94-.94-2.06-.94 2.06-2.06.94zm-11 1L8.5 8.5l.94-2.06 2.06-.94-2.06-.94L8.5 2.5l-.94 2.06-2.06.94zm10 10l.94 2.06.94-2.06 2.06-.94-2.06-.94-.94-2.06-.94 2.06-2.06.94z\"/><path d=\"M17.41 7.96l-1.37-1.37c-.4-.4-.92-.59-1.43-.59-.52 0-1.04.2-1.43.59L10.3 9.45l-7.72 7.72c-.78.78-.78 2.05 0 2.83L4 21.41c.39.39.9.59 1.41.59.51 0 1.02-.2 1.41-.59l7.78-7.78 2.81-2.81c.8-.78.8-2.07 0-2.86zM5.41 20L4 18.59l7.72-7.72 1.47 1.35L5.41 20z\"/>\n",
              "  </svg>\n",
              "      </button>\n",
              "      \n",
              "  <style>\n",
              "    .colab-df-container {\n",
              "      display:flex;\n",
              "      flex-wrap:wrap;\n",
              "      gap: 12px;\n",
              "    }\n",
              "\n",
              "    .colab-df-convert {\n",
              "      background-color: #E8F0FE;\n",
              "      border: none;\n",
              "      border-radius: 50%;\n",
              "      cursor: pointer;\n",
              "      display: none;\n",
              "      fill: #1967D2;\n",
              "      height: 32px;\n",
              "      padding: 0 0 0 0;\n",
              "      width: 32px;\n",
              "    }\n",
              "\n",
              "    .colab-df-convert:hover {\n",
              "      background-color: #E2EBFA;\n",
              "      box-shadow: 0px 1px 2px rgba(60, 64, 67, 0.3), 0px 1px 3px 1px rgba(60, 64, 67, 0.15);\n",
              "      fill: #174EA6;\n",
              "    }\n",
              "\n",
              "    [theme=dark] .colab-df-convert {\n",
              "      background-color: #3B4455;\n",
              "      fill: #D2E3FC;\n",
              "    }\n",
              "\n",
              "    [theme=dark] .colab-df-convert:hover {\n",
              "      background-color: #434B5C;\n",
              "      box-shadow: 0px 1px 3px 1px rgba(0, 0, 0, 0.15);\n",
              "      filter: drop-shadow(0px 1px 2px rgba(0, 0, 0, 0.3));\n",
              "      fill: #FFFFFF;\n",
              "    }\n",
              "  </style>\n",
              "\n",
              "      <script>\n",
              "        const buttonEl =\n",
              "          document.querySelector('#df-f37fa80d-df66-4bc2-a786-494d30a7f629 button.colab-df-convert');\n",
              "        buttonEl.style.display =\n",
              "          google.colab.kernel.accessAllowed ? 'block' : 'none';\n",
              "\n",
              "        async function convertToInteractive(key) {\n",
              "          const element = document.querySelector('#df-f37fa80d-df66-4bc2-a786-494d30a7f629');\n",
              "          const dataTable =\n",
              "            await google.colab.kernel.invokeFunction('convertToInteractive',\n",
              "                                                     [key], {});\n",
              "          if (!dataTable) return;\n",
              "\n",
              "          const docLinkHtml = 'Like what you see? Visit the ' +\n",
              "            '<a target=\"_blank\" href=https://colab.research.google.com/notebooks/data_table.ipynb>data table notebook</a>'\n",
              "            + ' to learn more about interactive tables.';\n",
              "          element.innerHTML = '';\n",
              "          dataTable['output_type'] = 'display_data';\n",
              "          await google.colab.output.renderOutput(dataTable, element);\n",
              "          const docLink = document.createElement('div');\n",
              "          docLink.innerHTML = docLinkHtml;\n",
              "          element.appendChild(docLink);\n",
              "        }\n",
              "      </script>\n",
              "    </div>\n",
              "  </div>\n",
              "  "
            ]
          },
          "metadata": {},
          "execution_count": 6
        }
      ]
    },
    {
      "cell_type": "code",
      "source": [
        "#Tokenization methods to break down text into tokens(words)\n",
        "#Using TF-IDF with ngram range of (1,1)\n",
        "tfidf_vectorizer = TfidfVectorizer(min_df= 3, sublinear_tf=True, norm='l2', ngram_range=(1,1))\n",
        "\n",
        "#Using Bag of Words with ngram range of (1,1)\n",
        "counter_vectorizer = CountVectorizer(ngram_range=(1,1))"
      ],
      "metadata": {
        "id": "rR46o6GQJCoR"
      },
      "execution_count": null,
      "outputs": []
    },
    {
      "cell_type": "code",
      "source": [
        "#Seperating test-train with standard 80-20 split\n",
        "msk = np.random.rand(len(df)) < 0.8\n",
        "df_train = df[msk]\n",
        "df_test = df[~msk]\n",
        "X_train_class = df_train[\"cleaned_reviews\"]\n",
        "Y_train_class = df_train[\"y\"]\n",
        "X_test_class = df_test[\"cleaned_reviews\"]\n",
        "Y_test_class = df_test[\"y\"]"
      ],
      "metadata": {
        "id": "JuBPuwl8JKEx"
      },
      "execution_count": null,
      "outputs": []
    },
    {
      "cell_type": "code",
      "source": [
        "#Creating Model Pipelines for various models with the pattern [Tokenizer Method][SelectKBest features][Model+Paramaters]\n",
        "text_clf_classifier1 = Pipeline([('vect', counter_vectorizer),('chi',  SelectKBest(chi2, k=1200)),('clf', RandomForestClassifier()),])\n",
        "#text_clf_classifier1 = Pipeline([('vect', counter_vectorizer),('chi',  SelectKBest(chi2, k=1200)),('clf', RandomForestClassifier(criterion='entropy')),])\n",
        "text_clf_classifier2 = Pipeline([('vect', counter_vectorizer),('chi',  SelectKBest(chi2, k=2890)),('clf', MultinomialNB(alpha=11)),])\n",
        "text_clf_classifier3 = Pipeline([('vect', counter_vectorizer),('chi',  SelectKBest(chi2, k=2890)),('clf', ComplementNB(alpha=11)),])\n",
        "text_clf_classifier4 = Pipeline([('vect', counter_vectorizer),('chi',  SelectKBest(chi2, k=2890)),('clf', BernoulliNB(alpha=11)),])\n",
        "text_clf_classifier5 = Pipeline([('vect', counter_vectorizer),('chi',  SelectKBest(chi2, k=1800)),('clf', SGDClassifier(alpha=0.00001)),])\n",
        "text_clf_classifier6 = Pipeline([('vect', counter_vectorizer),('chi',  SelectKBest(chi2, k=1800)),('clf', SGDClassifier(alpha=0.00001,loss='log')),])"
      ],
      "metadata": {
        "id": "RuxUHD_SJOE5"
      },
      "execution_count": null,
      "outputs": []
    },
    {
      "cell_type": "code",
      "source": [
        "#Function to execute and run Model Pipelines and display Model Paramaters used along with Accuracy\n",
        "def run_model(text_clf_classifier):\n",
        "  print(text_clf_classifier)\n",
        "  classifier_model = text_clf_classifier.fit(X_train_class,Y_train_class)\n",
        "  print(np.mean(classifier_model.predict(X_test_class)== Y_test_class))"
      ],
      "metadata": {
        "id": "G-Fz4EppJSHB"
      },
      "execution_count": null,
      "outputs": []
    },
    {
      "cell_type": "markdown",
      "source": [
        "Random Forest Classifier Paramteres tuned ->\n",
        "\n",
        "*   No of estimators - No. of trees - 100,\n",
        "*   Information Gain criteria - Entropy & Gini Index : Gini Index gives better accuracy.\n",
        "*Cost complexity pruning paramter - 0.0(No pruning)"
      ],
      "metadata": {
        "id": "NIr-BeUJJVhZ"
      }
    },
    {
      "cell_type": "code",
      "source": [
        "print(\"Random Forest Classifier - Count Vectorizer:\")\n",
        "run_model(text_clf_classifier1)"
      ],
      "metadata": {
        "colab": {
          "base_uri": "https://localhost:8080/"
        },
        "id": "ot1bmnjxJWTJ",
        "outputId": "efa1a595-9f0e-4a66-ed1a-25832397caa7"
      },
      "execution_count": null,
      "outputs": [
        {
          "output_type": "stream",
          "name": "stdout",
          "text": [
            "Random Forest Classifier - Count Vectorizer:\n",
            "Pipeline(steps=[('vect', CountVectorizer()),\n",
            "                ('chi',\n",
            "                 SelectKBest(k=1200,\n",
            "                             score_func=<function chi2 at 0x7fa34d866e60>)),\n",
            "                ('clf', RandomForestClassifier())])\n",
            "0.8231943031536114\n"
          ]
        }
      ]
    },
    {
      "cell_type": "markdown",
      "source": [
        "Naive Bayes methods\n",
        "* Learning Rate Variants : 0.0001,0.001,0.01,0.1,1,3,5,8,11,13,15\n",
        "* Best Results were given by alpha=11 for Counter Vectorizer for Tokenization"
      ],
      "metadata": {
        "id": "hxGMrsozJjJQ"
      }
    },
    {
      "cell_type": "code",
      "source": [
        "#Running Multinomial Naive Bayes - Counter Vertorizer for variety of learning rates to best estimate hyperparameter value\n",
        "x_alpha=[0.0001,0.001,0.01,0.1,1,3,5,8,11,13,15]\n",
        "y_accuracy=[]\n",
        "for x in x_alpha:\n",
        "  clf = Pipeline([('vect', counter_vectorizer),('chi',  SelectKBest(chi2, k=2890)),('clf', MultinomialNB(alpha=x)),])\n",
        "  classifier_model = clf.fit(X_train_class,Y_train_class)\n",
        "  y_accuracy.append(np.mean(classifier_model.predict(X_test_class)== Y_test_class))"
      ],
      "metadata": {
        "id": "-ZV5XdKlJeu5"
      },
      "execution_count": null,
      "outputs": []
    },
    {
      "cell_type": "code",
      "source": [
        "plt.plot(x_alpha,y_accuracy,'^k')\n",
        "plt.ylabel('Accuracies')\n",
        "plt.xlabel('Learning Rate')\n",
        "plt.show()\n",
        "print(y_accuracy)"
      ],
      "metadata": {
        "colab": {
          "base_uri": "https://localhost:8080/",
          "height": 317
        },
        "id": "uyR_qBLnJpEA",
        "outputId": "4d48bb97-8fdd-4ade-ebbe-2aa29e1115db"
      },
      "execution_count": null,
      "outputs": [
        {
          "output_type": "display_data",
          "data": {
            "text/plain": [
              "<Figure size 432x288 with 1 Axes>"
            ],
            "image/png": "[encoded data removed]"
          },
          "metadata": {
            "needs_background": "light"
          }
        },
        {
          "output_type": "stream",
          "name": "stdout",
          "text": [
            "[0.8094608341810783, 0.8100712105798575, 0.811088504577823, 0.8133265513733469, 0.817293997965412, 0.8238046795523907, 0.8254323499491353, 0.8244150559511699, 0.8250254323499492, 0.8222787385554425, 0.8203458799593082]\n"
          ]
        }
      ]
    },
    {
      "cell_type": "code",
      "source": [
        "print(\"Multinomial Naive Bayes - Count Vectorizer:\")\n",
        "run_model(text_clf_classifier2)"
      ],
      "metadata": {
        "colab": {
          "base_uri": "https://localhost:8080/"
        },
        "id": "rhOH_Yo-J7BR",
        "outputId": "e0f55276-ded7-4827-b602-ba02bac81cfc"
      },
      "execution_count": null,
      "outputs": [
        {
          "output_type": "stream",
          "name": "stdout",
          "text": [
            "Multinomial Naive Bayes - Count Vectorizer:\n",
            "Pipeline(steps=[('vect', CountVectorizer()),\n",
            "                ('chi',\n",
            "                 SelectKBest(k=2890,\n",
            "                             score_func=<function chi2 at 0x7fa34d866e60>)),\n",
            "                ('clf', MultinomialNB(alpha=11))])\n",
            "0.8250254323499492\n"
          ]
        }
      ]
    },
    {
      "cell_type": "code",
      "source": [
        "print(\"Complement Naive Bayes - Count Vectorizer:\")\n",
        "run_model(text_clf_classifier3)"
      ],
      "metadata": {
        "colab": {
          "base_uri": "https://localhost:8080/"
        },
        "id": "CUKKTBPUJ-dw",
        "outputId": "ebcdf6e1-4efa-45ec-8db1-f71095ece149"
      },
      "execution_count": null,
      "outputs": [
        {
          "output_type": "stream",
          "name": "stdout",
          "text": [
            "Complement Naive Bayes - Count Vectorizer:\n",
            "Pipeline(steps=[('vect', CountVectorizer()),\n",
            "                ('chi',\n",
            "                 SelectKBest(k=2890,\n",
            "                             score_func=<function chi2 at 0x7fa34d866e60>)),\n",
            "                ('clf', ComplementNB(alpha=11))])\n",
            "0.8153611393692777\n"
          ]
        }
      ]
    },
    {
      "cell_type": "code",
      "source": [
        "print(\"Bernoulli Naive Bayes - Count Vectorizer:\")\n",
        "run_model(text_clf_classifier4)"
      ],
      "metadata": {
        "colab": {
          "base_uri": "https://localhost:8080/"
        },
        "id": "nRqquJ0NKD-B",
        "outputId": "00641c06-057f-4efa-e941-2eef58fcd080"
      },
      "execution_count": null,
      "outputs": [
        {
          "output_type": "stream",
          "name": "stdout",
          "text": [
            "Bernoulli Naive Bayes - Count Vectorizer:\n",
            "Pipeline(steps=[('vect', CountVectorizer()),\n",
            "                ('chi',\n",
            "                 SelectKBest(k=2890,\n",
            "                             score_func=<function chi2 at 0x7fa34d866e60>)),\n",
            "                ('clf', BernoulliNB(alpha=11))])\n",
            "0.751678535096643\n"
          ]
        }
      ]
    },
    {
      "cell_type": "markdown",
      "source": [
        "Stochastic Gradient methods\n",
        "* Learning Rate Variants : 0.000001,0.000004,0.000006,0.000008,0.00001,0.000012,0.000013,0.000014,0.000015,0.000016,0.000017,0.000018,0.00002,0.00003\n",
        "* Best Results were given by alpha=0.00001 for TD-IDF for Tokenization"
      ],
      "metadata": {
        "id": "Qd0ZNf4lKIP5"
      }
    },
    {
      "cell_type": "code",
      "source": [
        "#Running SDGClassifier - Linear SVM for variety of learning rates to best estimate hyperparameter value\n",
        "x_alpha=[0.000001,0.000004,0.000006,0.000008,0.00001,0.000012,0.000013,0.000014,0.000015,0.000016,0.000017,0.000018,0.00002,0.00003]\n",
        "y_accuracy=[]\n",
        "for x in x_alpha:\n",
        "  clf = Pipeline([('vect', tfidf_vectorizer),('chi',  SelectKBest(chi2, k=2890)),('clf', SGDClassifier(alpha=x)),])\n",
        "  classifier_model = clf.fit(X_train_class,Y_train_class)\n",
        "  y_accuracy.append(np.mean(classifier_model.predict(X_test_class)== Y_test_class))"
      ],
      "metadata": {
        "id": "gmy83OwkKFPI"
      },
      "execution_count": null,
      "outputs": []
    },
    {
      "cell_type": "code",
      "source": [
        "plt.plot(x_alpha,y_accuracy,'^k')\n",
        "plt.ylabel('Accuracies')\n",
        "plt.xlabel('Learning Rate')\n",
        "plt.show()\n",
        "print(y_accuracy)"
      ],
      "metadata": {
        "colab": {
          "base_uri": "https://localhost:8080/",
          "height": 316
        },
        "id": "3LcKO4gjSAMn",
        "outputId": "fa54e7f6-45e7-4b72-a135-b16e3f4b0aae"
      },
      "execution_count": null,
      "outputs": [
        {
          "output_type": "display_data",
          "data": {
            "text/plain": [
              "<Figure size 432x288 with 1 Axes>"
            ],
            "image/png": "[encoded data removed]"
          },
          "metadata": {
            "needs_background": "light"
          }
        },
        {
          "output_type": "stream",
          "name": "stdout",
          "text": [
            "[0.837029501525941, 0.8437436419125127, 0.8455747711088505, 0.8459816887080366, 0.8451678535096643, 0.8449643947100712, 0.8454730417090539, 0.845676500508647, 0.8449643947100712, 0.8453713123092573, 0.8457782299084435, 0.8455747711088505, 0.8461851475076297, 0.8447609359104782]\n"
          ]
        }
      ]
    },
    {
      "cell_type": "code",
      "source": [
        "print(\"SGDClassifier SVM : - Count Vectorizer\")\n",
        "run_model(text_clf_classifier5)"
      ],
      "metadata": {
        "colab": {
          "base_uri": "https://localhost:8080/"
        },
        "id": "1Bb8vmxUSNsm",
        "outputId": "daf9c2aa-980e-4e46-f14f-ffdd0a28fb7f"
      },
      "execution_count": null,
      "outputs": [
        {
          "output_type": "stream",
          "name": "stdout",
          "text": [
            "SGDClassifier SVM : - Count Vectorizer\n",
            "Pipeline(steps=[('vect', CountVectorizer()),\n",
            "                ('chi',\n",
            "                 SelectKBest(k=1800,\n",
            "                             score_func=<function chi2 at 0x7fa34d866e60>)),\n",
            "                ('clf', SGDClassifier(alpha=1e-05))])\n",
            "0.8271617497456765\n"
          ]
        }
      ]
    },
    {
      "cell_type": "code",
      "source": [
        "print(\"SGDClassifier Logistic Regression : - Count Vectorizer\")\n",
        "run_model(text_clf_classifier6)"
      ],
      "metadata": {
        "colab": {
          "base_uri": "https://localhost:8080/"
        },
        "id": "P7W0ApORSUTm",
        "outputId": "b198045d-2a6c-4d34-bc50-d13cbe7d446d"
      },
      "execution_count": null,
      "outputs": [
        {
          "output_type": "stream",
          "name": "stdout",
          "text": [
            "SGDClassifier Logistic Regression : - Count Vectorizer\n",
            "Pipeline(steps=[('vect', CountVectorizer()),\n",
            "                ('chi',\n",
            "                 SelectKBest(k=1800,\n",
            "                             score_func=<function chi2 at 0x7fa34d866e60>)),\n",
            "                ('clf', SGDClassifier(alpha=1e-05, loss='log'))])\n",
            "0.8295015259409969\n"
          ]
        }
      ]
    },
    {
      "cell_type": "code",
      "source": [
        "#text_clf_classifier7 = Pipeline([('vect',tfidf_vectorizer),('chi',  SelectKBest(chi2, k=1200)),('clf', RandomForestClassifier()),])\n",
        "text_clf_classifier8 = Pipeline([('vect',tfidf_vectorizer),('chi',  SelectKBest(chi2, k=2890)),('clf', MultinomialNB(alpha=0.1)),])\n",
        "text_clf_classifier9 = Pipeline([('vect',tfidf_vectorizer),('chi',  SelectKBest(chi2, k=3000)),('clf', ComplementNB(alpha=0.1)),])\n",
        "text_clf_classifier10 = Pipeline([('vect',tfidf_vectorizer),('chi',  SelectKBest(chi2, k=2890)),('clf', BernoulliNB(alpha=0.1)),])\n",
        "text_clf_classifier11 = Pipeline([('vect',tfidf_vectorizer),('chi',  SelectKBest(chi2, k=1800)),('clf', SGDClassifier(alpha=0.00001)),])\n",
        "text_clf_classifier12 = Pipeline([('vect',tfidf_vectorizer),('chi',  SelectKBest(chi2, k=1800)),('clf', SGDClassifier(alpha=0.00001,loss='log')),])"
      ],
      "metadata": {
        "id": "6qHPOdD7SW6W"
      },
      "execution_count": null,
      "outputs": []
    },
    {
      "cell_type": "code",
      "source": [
        "#Creating sample training-test data to be passed to the GridSearch\n",
        "text_counts =tfidf_vectorizer.fit_transform(df['cleaned_reviews'])\n",
        "from sklearn.model_selection import train_test_split\n",
        "X_train, X_test, Y_train, Y_test = train_test_split(text_counts, df['y'], test_size=0.25, random_state=5)"
      ],
      "metadata": {
        "id": "DgrvuAFzSaZO"
      },
      "execution_count": null,
      "outputs": []
    },
    {
      "cell_type": "code",
      "source": [
        "from sklearn.model_selection import GridSearchCV# Create the parameter grid based on the results of random search \n",
        "param_grid = {\n",
        "    'bootstrap': [True],\n",
        "    'max_depth': [80, 90, 100, 110],\n",
        "    'max_features': [2, 3],\n",
        "    'min_samples_leaf': [3, 4, 5],\n",
        "    'min_samples_split': [8, 10, 12],\n",
        "    'n_estimators': [100, 200, 300, 1000]\n",
        "}# Create a based model\n",
        "rf = RandomForestClassifier()# Instantiate the grid search model\n",
        "grid_search = GridSearchCV(estimator = rf, param_grid = param_grid, \n",
        "                          cv = 2, n_jobs = -1, verbose = 2)\n",
        "grid_search.fit(X_train, Y_train) "
      ],
      "metadata": {
        "colab": {
          "base_uri": "https://localhost:8080/"
        },
        "id": "w_R6Zq8USdVd",
        "outputId": "aa0a718d-93e8-4077-da6a-d51c0f68e772"
      },
      "execution_count": null,
      "outputs": [
        {
          "output_type": "stream",
          "name": "stdout",
          "text": [
            "Fitting 2 folds for each of 288 candidates, totalling 576 fits\n"
          ]
        },
        {
          "output_type": "execute_result",
          "data": {
            "text/plain": [
              "GridSearchCV(cv=2, estimator=RandomForestClassifier(), n_jobs=-1,\n",
              "             param_grid={'bootstrap': [True], 'max_depth': [80, 90, 100, 110],\n",
              "                         'max_features': [2, 3], 'min_samples_leaf': [3, 4, 5],\n",
              "                         'min_samples_split': [8, 10, 12],\n",
              "                         'n_estimators': [100, 200, 300, 1000]},\n",
              "             verbose=2)"
            ]
          },
          "metadata": {},
          "execution_count": 23
        }
      ]
    },
    {
      "cell_type": "code",
      "source": [
        "grid_search.best_estimator_"
      ],
      "metadata": {
        "colab": {
          "base_uri": "https://localhost:8080/"
        },
        "id": "N8n5xmyUSgQt",
        "outputId": "e282e169-8882-4b7f-eea8-7e0ebcc6ee50"
      },
      "execution_count": null,
      "outputs": [
        {
          "output_type": "execute_result",
          "data": {
            "text/plain": [
              "RandomForestClassifier(max_depth=80, max_features=2, min_samples_leaf=3,\n",
              "                       min_samples_split=8)"
            ]
          },
          "metadata": {},
          "execution_count": 24
        }
      ]
    },
    {
      "cell_type": "code",
      "source": [
        "text_clf_classifier7 = Pipeline([('vect',tfidf_vectorizer),('chi',  SelectKBest(chi2, k=1200)),('clf', RandomForestClassifier(bootstrap=True, ccp_alpha=0.0,\n",
        "                       criterion='gini', \n",
        "                   n_estimators=100,max_depth=80)),])\n",
        "print(\"Random Forest Classifier - TDF-IDF Vectorizer:\")\n",
        "run_model(text_clf_classifier7)"
      ],
      "metadata": {
        "colab": {
          "base_uri": "https://localhost:8080/"
        },
        "id": "9kxH4LCUXAX9",
        "outputId": "9afb7103-691e-4bae-cde5-459355d6e386"
      },
      "execution_count": null,
      "outputs": [
        {
          "output_type": "stream",
          "name": "stdout",
          "text": [
            "Random Forest Classifier - TDF-IDF Vectorizer:\n",
            "Pipeline(steps=[('vect', TfidfVectorizer(min_df=3, sublinear_tf=True)),\n",
            "                ('chi',\n",
            "                 SelectKBest(k=1200,\n",
            "                             score_func=<function chi2 at 0x7fa34d866e60>)),\n",
            "                ('clf', RandomForestClassifier(max_depth=80))])\n",
            "0.8265513733468972\n"
          ]
        }
      ]
    },
    {
      "cell_type": "markdown",
      "source": [
        "Naive Bayes methods\n",
        "* Learning Rate Variants : 0.0001,0.001,0.01,0.1,1,3,5,8,11,13,15\n",
        "* Best Results were given by alpha=0.1 for TDF-IDF for Tokenization"
      ],
      "metadata": {
        "id": "SP2b-VqLXEkd"
      }
    },
    {
      "cell_type": "code",
      "source": [
        "#Running Multinomial Naive Bayes - TF-IDF Tokenizer for variety of learning rates to best estimate hyperparameter value\n",
        "x_alpha=[0.001,0.01,0.09,0.1,0.11,0.15,1,3,5,8,11,13,15]\n",
        "y_accuracy=[]\n",
        "for x in x_alpha:\n",
        "  clf = Pipeline([('vect', tfidf_vectorizer),('chi',  SelectKBest(chi2, k=2890)),('clf', MultinomialNB(alpha=x)),])\n",
        "  classifier_model = clf.fit(X_train_class,Y_train_class)\n",
        "  y_accuracy.append(np.mean(classifier_model.predict(X_test_class)== Y_test_class))"
      ],
      "metadata": {
        "id": "PtGi15pCXFRM"
      },
      "execution_count": null,
      "outputs": []
    },
    {
      "cell_type": "code",
      "source": [
        "plt.plot(x_alpha,y_accuracy,'^k')\n",
        "plt.ylabel('Accuracies')\n",
        "plt.xlabel('Learning Rate')\n",
        "plt.show()\n",
        "print(y_accuracy)"
      ],
      "metadata": {
        "colab": {
          "base_uri": "https://localhost:8080/",
          "height": 316
        },
        "id": "5ExAgMwrXKDl",
        "outputId": "85123a5b-131c-43d1-8d0f-6818243b6262"
      },
      "execution_count": null,
      "outputs": [
        {
          "output_type": "display_data",
          "data": {
            "text/plain": [
              "<Figure size 432x288 with 1 Axes>"
            ],
            "image/png": "[encoded data removed]"
          },
          "metadata": {
            "needs_background": "light"
          }
        },
        {
          "output_type": "stream",
          "name": "stdout",
          "text": [
            "[0.8092573753814852, 0.8096642929806714, 0.8097660223804679, 0.8095625635808749, 0.8099694811800611, 0.8097660223804679, 0.8043743641912513, 0.7879959308240081, 0.7788402848423195, 0.7719226856561546, 0.7689725330620549, 0.7677517802644964, 0.7674465920651068]\n"
          ]
        }
      ]
    },
    {
      "cell_type": "code",
      "source": [
        "print(\"Multinomial Naive Bayes - TDF-IDF Vectorizer:\")\n",
        "run_model(text_clf_classifier8)"
      ],
      "metadata": {
        "colab": {
          "base_uri": "https://localhost:8080/"
        },
        "id": "6cIWvT2GXbgE",
        "outputId": "b5a91e03-acd8-45ef-f3a2-9087f6042011"
      },
      "execution_count": null,
      "outputs": [
        {
          "output_type": "stream",
          "name": "stdout",
          "text": [
            "Multinomial Naive Bayes - TDF-IDF Vectorizer:\n",
            "Pipeline(steps=[('vect', TfidfVectorizer(min_df=3, sublinear_tf=True)),\n",
            "                ('chi',\n",
            "                 SelectKBest(k=2890,\n",
            "                             score_func=<function chi2 at 0x7fa34d866e60>)),\n",
            "                ('clf', MultinomialNB(alpha=0.1))])\n",
            "0.8095625635808749\n"
          ]
        }
      ]
    },
    {
      "cell_type": "code",
      "source": [
        "print(\"Complement Naive Bayes - TDF-IDF Vectorizer:\")\n",
        "run_model(text_clf_classifier9)"
      ],
      "metadata": {
        "colab": {
          "base_uri": "https://localhost:8080/"
        },
        "id": "fMjYX3GHXewD",
        "outputId": "83d6b6a9-267e-4751-909a-02cf00b8fdcd"
      },
      "execution_count": null,
      "outputs": [
        {
          "output_type": "stream",
          "name": "stdout",
          "text": [
            "Complement Naive Bayes - TDF-IDF Vectorizer:\n",
            "Pipeline(steps=[('vect', TfidfVectorizer(min_df=3, sublinear_tf=True)),\n",
            "                ('chi',\n",
            "                 SelectKBest(k=3000,\n",
            "                             score_func=<function chi2 at 0x7fa34d866e60>)),\n",
            "                ('clf', ComplementNB(alpha=0.1))])\n",
            "0.7743641912512716\n"
          ]
        }
      ]
    },
    {
      "cell_type": "code",
      "source": [
        "print(\"Bernoulli Naive Bayes - TDF-IDF Vectorizer:\")\n",
        "run_model(text_clf_classifier10)"
      ],
      "metadata": {
        "colab": {
          "base_uri": "https://localhost:8080/"
        },
        "id": "vuS1ggNYXiLt",
        "outputId": "abaf6366-5fb8-4d84-bb1b-0eddba2e6901"
      },
      "execution_count": null,
      "outputs": [
        {
          "output_type": "stream",
          "name": "stdout",
          "text": [
            "Bernoulli Naive Bayes - TDF-IDF Vectorizer:\n",
            "Pipeline(steps=[('vect', TfidfVectorizer(min_df=3, sublinear_tf=True)),\n",
            "                ('chi',\n",
            "                 SelectKBest(k=2890,\n",
            "                             score_func=<function chi2 at 0x7fa34d866e60>)),\n",
            "                ('clf', BernoulliNB(alpha=0.1))])\n",
            "0.7415055951169888\n"
          ]
        }
      ]
    },
    {
      "cell_type": "code",
      "source": [
        "print(\"SGDClassifier SVM  - TDF-IDF Vectorizer:\")\n",
        "run_model(text_clf_classifier11)"
      ],
      "metadata": {
        "colab": {
          "base_uri": "https://localhost:8080/"
        },
        "id": "hgviGKoTXlVL",
        "outputId": "268ab8fd-4a94-43c6-f889-dbb4f45c997d"
      },
      "execution_count": null,
      "outputs": [
        {
          "output_type": "stream",
          "name": "stdout",
          "text": [
            "SGDClassifier SVM  - TDF-IDF Vectorizer:\n",
            "Pipeline(steps=[('vect', TfidfVectorizer(min_df=3, sublinear_tf=True)),\n",
            "                ('chi',\n",
            "                 SelectKBest(k=1800,\n",
            "                             score_func=<function chi2 at 0x7fa34d866e60>)),\n",
            "                ('clf', SGDClassifier(alpha=1e-05))])\n",
            "0.8462868769074262\n"
          ]
        }
      ]
    },
    {
      "cell_type": "code",
      "source": [
        "print(\"SGDClassifier Logistic Regression :TDF-IDF Vectorizer:\")\n",
        "run_model(text_clf_classifier12)"
      ],
      "metadata": {
        "colab": {
          "base_uri": "https://localhost:8080/"
        },
        "id": "kc12bZLeXoFM",
        "outputId": "bcdbbf6a-fa7d-4728-e8f3-7cbe4891bc58"
      },
      "execution_count": null,
      "outputs": [
        {
          "output_type": "stream",
          "name": "stdout",
          "text": [
            "SGDClassifier Logistic Regression :TDF-IDF Vectorizer:\n",
            "Pipeline(steps=[('vect', TfidfVectorizer(min_df=3, sublinear_tf=True)),\n",
            "                ('chi',\n",
            "                 SelectKBest(k=1800,\n",
            "                             score_func=<function chi2 at 0x7fa34d866e60>)),\n",
            "                ('clf', SGDClassifier(alpha=1e-05, loss='log'))])\n",
            "0.8472024415055951\n"
          ]
        }
      ]
    },
    {
      "cell_type": "code",
      "source": [
        "def prediction(review):\n",
        "  prediction_df = pd.DataFrame([[review,0]],columns = [\"reviewText\",\"y\"])\n",
        "  prediction_df = text_process(prediction_df)\n",
        "  classifier_prediction = classifier_model.predict(prediction_df[\"cleaned_reviews\"])\n",
        "  return classifier_prediction[0]"
      ],
      "metadata": {
        "id": "KDN4jkurXrIz"
      },
      "execution_count": null,
      "outputs": []
    },
    {
      "cell_type": "markdown",
      "source": [
        "# **4- BERT Model**\n",
        "BERT algorithm used to develop the model. "
      ],
      "metadata": {
        "id": "evqNvLlrYDjM"
      }
    },
    {
      "cell_type": "code",
      "source": [
        "# Test dataset URL\n",
        "URL = \"/content/drive/MyDrive/Umair_Client/Thesis_Twitter_Sentiment/Source_Code/coldropDS-50k_cleaned.csv\""
      ],
      "metadata": {
        "id": "iYnVC8qcYHXU"
      },
      "execution_count": null,
      "outputs": []
    },
    {
      "cell_type": "code",
      "source": [
        "# importing necessary libraries\n",
        "import pandas as pd\n",
        "import numpy as np"
      ],
      "metadata": {
        "id": "POYdPJXCYRAb"
      },
      "execution_count": null,
      "outputs": []
    },
    {
      "cell_type": "code",
      "source": [
        "# Installing the transformers package for BERT\n",
        "!pip install transformers"
      ],
      "metadata": {
        "colab": {
          "base_uri": "https://localhost:8080/"
        },
        "id": "j28XYN0_YWIj",
        "outputId": "f1e923d1-e4f8-4aec-d4dd-8831c5f7aa18"
      },
      "execution_count": null,
      "outputs": [
        {
          "output_type": "stream",
          "name": "stdout",
          "text": [
            "Collecting transformers\n",
            "  Downloading transformers-4.17.0-py3-none-any.whl (3.8 MB)\n",
            "\u001b[K     |████████████████████████████████| 3.8 MB 12.1 MB/s \n",
            "\u001b[?25hCollecting sacremoses\n",
            "  Downloading sacremoses-0.0.49-py3-none-any.whl (895 kB)\n",
            "\u001b[K     |████████████████████████████████| 895 kB 39.6 MB/s \n",
            "\u001b[?25hRequirement already satisfied: filelock in /usr/local/lib/python3.7/dist-packages (from transformers) (3.6.0)\n",
            "Requirement already satisfied: tqdm>=4.27 in /usr/local/lib/python3.7/dist-packages (from transformers) (4.63.0)\n",
            "Requirement already satisfied: numpy>=1.17 in /usr/local/lib/python3.7/dist-packages (from transformers) (1.21.5)\n",
            "Collecting pyyaml>=5.1\n",
            "  Downloading PyYAML-6.0-cp37-cp37m-manylinux_2_5_x86_64.manylinux1_x86_64.manylinux_2_12_x86_64.manylinux2010_x86_64.whl (596 kB)\n",
            "\u001b[K     |████████████████████████████████| 596 kB 45.6 MB/s \n",
            "\u001b[?25hRequirement already satisfied: regex!=2019.12.17 in /usr/local/lib/python3.7/dist-packages (from transformers) (2019.12.20)\n",
            "Requirement already satisfied: importlib-metadata in /usr/local/lib/python3.7/dist-packages (from transformers) (4.11.2)\n",
            "Collecting huggingface-hub<1.0,>=0.1.0\n",
            "  Downloading huggingface_hub-0.4.0-py3-none-any.whl (67 kB)\n",
            "\u001b[K     |████████████████████████████████| 67 kB 4.7 MB/s \n",
            "\u001b[?25hCollecting tokenizers!=0.11.3,>=0.11.1\n",
            "  Downloading tokenizers-0.11.6-cp37-cp37m-manylinux_2_12_x86_64.manylinux2010_x86_64.whl (6.5 MB)\n",
            "\u001b[K     |████████████████████████████████| 6.5 MB 36.6 MB/s \n",
            "\u001b[?25hRequirement already satisfied: packaging>=20.0 in /usr/local/lib/python3.7/dist-packages (from transformers) (21.3)\n",
            "Requirement already satisfied: requests in /usr/local/lib/python3.7/dist-packages (from transformers) (2.23.0)\n",
            "Requirement already satisfied: typing-extensions>=3.7.4.3 in /usr/local/lib/python3.7/dist-packages (from huggingface-hub<1.0,>=0.1.0->transformers) (3.10.0.2)\n",
            "Requirement already satisfied: pyparsing!=3.0.5,>=2.0.2 in /usr/local/lib/python3.7/dist-packages (from packaging>=20.0->transformers) (3.0.7)\n",
            "Requirement already satisfied: zipp>=0.5 in /usr/local/lib/python3.7/dist-packages (from importlib-metadata->transformers) (3.7.0)\n",
            "Requirement already satisfied: idna<3,>=2.5 in /usr/local/lib/python3.7/dist-packages (from requests->transformers) (2.10)\n",
            "Requirement already satisfied: urllib3!=1.25.0,!=1.25.1,<1.26,>=1.21.1 in /usr/local/lib/python3.7/dist-packages (from requests->transformers) (1.24.3)\n",
            "Requirement already satisfied: chardet<4,>=3.0.2 in /usr/local/lib/python3.7/dist-packages (from requests->transformers) (3.0.4)\n",
            "Requirement already satisfied: certifi>=2017.4.17 in /usr/local/lib/python3.7/dist-packages (from requests->transformers) (2021.10.8)\n",
            "Requirement already satisfied: joblib in /usr/local/lib/python3.7/dist-packages (from sacremoses->transformers) (1.1.0)\n",
            "Requirement already satisfied: six in /usr/local/lib/python3.7/dist-packages (from sacremoses->transformers) (1.15.0)\n",
            "Requirement already satisfied: click in /usr/local/lib/python3.7/dist-packages (from sacremoses->transformers) (7.1.2)\n",
            "Installing collected packages: pyyaml, tokenizers, sacremoses, huggingface-hub, transformers\n",
            "  Attempting uninstall: pyyaml\n",
            "    Found existing installation: PyYAML 3.13\n",
            "    Uninstalling PyYAML-3.13:\n",
            "      Successfully uninstalled PyYAML-3.13\n",
            "Successfully installed huggingface-hub-0.4.0 pyyaml-6.0 sacremoses-0.0.49 tokenizers-0.11.6 transformers-4.17.0\n"
          ]
        }
      ]
    },
    {
      "cell_type": "code",
      "source": [
        "import torch\n",
        "# Progress bar library\n",
        "from tqdm.notebook import tqdm\n",
        "# Tokenizer for bert\n",
        "from transformers import BertTokenizer\n",
        "# The dataset off which the model will be trained\n",
        "from torch.utils.data import TensorDataset\n",
        "# Model\n",
        "from transformers import BertForSequenceClassification\n",
        "\n",
        "# Loading the dataframe into memory\n",
        "df = pd.read_csv(URL)"
      ],
      "metadata": {
        "id": "fYsIsuwqYfEs"
      },
      "execution_count": null,
      "outputs": []
    },
    {
      "cell_type": "code",
      "source": [
        "# Checking the amount of Null values\n",
        "df['cleaned_reviews'].isna().sum()"
      ],
      "metadata": {
        "colab": {
          "base_uri": "https://localhost:8080/"
        },
        "id": "8gbqTPALYkTL",
        "outputId": "86068614-90db-43eb-f1d8-e81026ff106d"
      },
      "execution_count": null,
      "outputs": [
        {
          "output_type": "execute_result",
          "data": {
            "text/plain": [
              "54"
            ]
          },
          "metadata": {},
          "execution_count": 5
        }
      ]
    },
    {
      "cell_type": "code",
      "source": [
        "#Dropping null values as the amount is insignificant\n",
        "df=df.dropna(subset=['cleaned_reviews'])\n",
        "df.shape"
      ],
      "metadata": {
        "colab": {
          "base_uri": "https://localhost:8080/"
        },
        "id": "JXkJuNvQYmfr",
        "outputId": "2c1d2679-73c0-4647-91ff-584a7c867c5f"
      },
      "execution_count": null,
      "outputs": [
        {
          "output_type": "execute_result",
          "data": {
            "text/plain": [
              "(49930, 6)"
            ]
          },
          "metadata": {},
          "execution_count": 6
        }
      ]
    },
    {
      "cell_type": "code",
      "source": [
        "#Displaying dataframe for clarity\n",
        "df.head()"
      ],
      "metadata": {
        "colab": {
          "base_uri": "https://localhost:8080/",
          "height": 337
        },
        "id": "E9rCOo6aYn1j",
        "outputId": "91f4c88d-4256-42fd-bbde-7f0420e66028"
      },
      "execution_count": null,
      "outputs": [
        {
          "output_type": "execute_result",
          "data": {
            "text/plain": [
              "   Unnamed: 0  overall                                         reviewText  \\\n",
              "0           0      5.0  love these things  the supplied batteries were...   \n",
              "1           1      5.0             great value good range and easy to use   \n",
              "2           2      5.0      smallest thumb drive ever cant beat the price   \n",
              "3           3      5.0  i bought this webcam mostly because of the pri...   \n",
              "4           4      5.0  i got this for my mom  shes not the most tech ...   \n",
              "\n",
              "                           summary  y  \\\n",
              "0  Good headset Replaced batteries  2   \n",
              "1                       Five Stars  2   \n",
              "2                       Five Stars  2   \n",
              "3  Not a bad webcam for the price.  2   \n",
              "4                      Good webcam  2   \n",
              "\n",
              "                                     cleaned_reviews  \n",
              "0              love thing suppli batteri dead replac  \n",
              "1                      great valu good rang easi use  \n",
              "2          smallest thumb drive ever cant beat price  \n",
              "3  bought webcam mostli price fact logitech prett...  \n",
              "4  got mom she tech savvi set she problem one tim...  "
            ],
            "text/html": [
              "\n",
              "  <div id=\"df-62bdd74b-ae2a-413b-bdaf-ccd5af444234\">\n",
              "    <div class=\"colab-df-container\">\n",
              "      <div>\n",
              "<style scoped>\n",
              "    .dataframe tbody tr th:only-of-type {\n",
              "        vertical-align: middle;\n",
              "    }\n",
              "\n",
              "    .dataframe tbody tr th {\n",
              "        vertical-align: top;\n",
              "    }\n",
              "\n",
              "    .dataframe thead th {\n",
              "        text-align: right;\n",
              "    }\n",
              "</style>\n",
              "<table border=\"1\" class=\"dataframe\">\n",
              "  <thead>\n",
              "    <tr style=\"text-align: right;\">\n",
              "      <th></th>\n",
              "      <th>Unnamed: 0</th>\n",
              "      <th>overall</th>\n",
              "      <th>reviewText</th>\n",
              "      <th>summary</th>\n",
              "      <th>y</th>\n",
              "      <th>cleaned_reviews</th>\n",
              "    </tr>\n",
              "  </thead>\n",
              "  <tbody>\n",
              "    <tr>\n",
              "      <th>0</th>\n",
              "      <td>0</td>\n",
              "      <td>5.0</td>\n",
              "      <td>love these things  the supplied batteries were...</td>\n",
              "      <td>Good headset Replaced batteries</td>\n",
              "      <td>2</td>\n",
              "      <td>love thing suppli batteri dead replac</td>\n",
              "    </tr>\n",
              "    <tr>\n",
              "      <th>1</th>\n",
              "      <td>1</td>\n",
              "      <td>5.0</td>\n",
              "      <td>great value good range and easy to use</td>\n",
              "      <td>Five Stars</td>\n",
              "      <td>2</td>\n",
              "      <td>great valu good rang easi use</td>\n",
              "    </tr>\n",
              "    <tr>\n",
              "      <th>2</th>\n",
              "      <td>2</td>\n",
              "      <td>5.0</td>\n",
              "      <td>smallest thumb drive ever cant beat the price</td>\n",
              "      <td>Five Stars</td>\n",
              "      <td>2</td>\n",
              "      <td>smallest thumb drive ever cant beat price</td>\n",
              "    </tr>\n",
              "    <tr>\n",
              "      <th>3</th>\n",
              "      <td>3</td>\n",
              "      <td>5.0</td>\n",
              "      <td>i bought this webcam mostly because of the pri...</td>\n",
              "      <td>Not a bad webcam for the price.</td>\n",
              "      <td>2</td>\n",
              "      <td>bought webcam mostli price fact logitech prett...</td>\n",
              "    </tr>\n",
              "    <tr>\n",
              "      <th>4</th>\n",
              "      <td>4</td>\n",
              "      <td>5.0</td>\n",
              "      <td>i got this for my mom  shes not the most tech ...</td>\n",
              "      <td>Good webcam</td>\n",
              "      <td>2</td>\n",
              "      <td>got mom she tech savvi set she problem one tim...</td>\n",
              "    </tr>\n",
              "  </tbody>\n",
              "</table>\n",
              "</div>\n",
              "      <button class=\"colab-df-convert\" onclick=\"convertToInteractive('df-62bdd74b-ae2a-413b-bdaf-ccd5af444234')\"\n",
              "              title=\"Convert this dataframe to an interactive table.\"\n",
              "              style=\"display:none;\">\n",
              "        \n",
              "  <svg xmlns=\"http://www.w3.org/2000/svg\" height=\"24px\"viewBox=\"0 0 24 24\"\n",
              "       width=\"24px\">\n",
              "    <path d=\"M0 0h24v24H0V0z\" fill=\"none\"/>\n",
              "    <path d=\"M18.56 5.44l.94 2.06.94-2.06 2.06-.94-2.06-.94-.94-2.06-.94 2.06-2.06.94zm-11 1L8.5 8.5l.94-2.06 2.06-.94-2.06-.94L8.5 2.5l-.94 2.06-2.06.94zm10 10l.94 2.06.94-2.06 2.06-.94-2.06-.94-.94-2.06-.94 2.06-2.06.94z\"/><path d=\"M17.41 7.96l-1.37-1.37c-.4-.4-.92-.59-1.43-.59-.52 0-1.04.2-1.43.59L10.3 9.45l-7.72 7.72c-.78.78-.78 2.05 0 2.83L4 21.41c.39.39.9.59 1.41.59.51 0 1.02-.2 1.41-.59l7.78-7.78 2.81-2.81c.8-.78.8-2.07 0-2.86zM5.41 20L4 18.59l7.72-7.72 1.47 1.35L5.41 20z\"/>\n",
              "  </svg>\n",
              "      </button>\n",
              "      \n",
              "  <style>\n",
              "    .colab-df-container {\n",
              "      display:flex;\n",
              "      flex-wrap:wrap;\n",
              "      gap: 12px;\n",
              "    }\n",
              "\n",
              "    .colab-df-convert {\n",
              "      background-color: #E8F0FE;\n",
              "      border: none;\n",
              "      border-radius: 50%;\n",
              "      cursor: pointer;\n",
              "      display: none;\n",
              "      fill: #1967D2;\n",
              "      height: 32px;\n",
              "      padding: 0 0 0 0;\n",
              "      width: 32px;\n",
              "    }\n",
              "\n",
              "    .colab-df-convert:hover {\n",
              "      background-color: #E2EBFA;\n",
              "      box-shadow: 0px 1px 2px rgba(60, 64, 67, 0.3), 0px 1px 3px 1px rgba(60, 64, 67, 0.15);\n",
              "      fill: #174EA6;\n",
              "    }\n",
              "\n",
              "    [theme=dark] .colab-df-convert {\n",
              "      background-color: #3B4455;\n",
              "      fill: #D2E3FC;\n",
              "    }\n",
              "\n",
              "    [theme=dark] .colab-df-convert:hover {\n",
              "      background-color: #434B5C;\n",
              "      box-shadow: 0px 1px 3px 1px rgba(0, 0, 0, 0.15);\n",
              "      filter: drop-shadow(0px 1px 2px rgba(0, 0, 0, 0.3));\n",
              "      fill: #FFFFFF;\n",
              "    }\n",
              "  </style>\n",
              "\n",
              "      <script>\n",
              "        const buttonEl =\n",
              "          document.querySelector('#df-62bdd74b-ae2a-413b-bdaf-ccd5af444234 button.colab-df-convert');\n",
              "        buttonEl.style.display =\n",
              "          google.colab.kernel.accessAllowed ? 'block' : 'none';\n",
              "\n",
              "        async function convertToInteractive(key) {\n",
              "          const element = document.querySelector('#df-62bdd74b-ae2a-413b-bdaf-ccd5af444234');\n",
              "          const dataTable =\n",
              "            await google.colab.kernel.invokeFunction('convertToInteractive',\n",
              "                                                     [key], {});\n",
              "          if (!dataTable) return;\n",
              "\n",
              "          const docLinkHtml = 'Like what you see? Visit the ' +\n",
              "            '<a target=\"_blank\" href=https://colab.research.google.com/notebooks/data_table.ipynb>data table notebook</a>'\n",
              "            + ' to learn more about interactive tables.';\n",
              "          element.innerHTML = '';\n",
              "          dataTable['output_type'] = 'display_data';\n",
              "          await google.colab.output.renderOutput(dataTable, element);\n",
              "          const docLink = document.createElement('div');\n",
              "          docLink.innerHTML = docLinkHtml;\n",
              "          element.appendChild(docLink);\n",
              "        }\n",
              "      </script>\n",
              "    </div>\n",
              "  </div>\n",
              "  "
            ]
          },
          "metadata": {},
          "execution_count": 8
        }
      ]
    },
    {
      "cell_type": "code",
      "source": [
        "#Displaying dataframe for clarity\n",
        "df.tail()"
      ],
      "metadata": {
        "colab": {
          "base_uri": "https://localhost:8080/",
          "height": 337
        },
        "id": "C0vMLwc_XSJm",
        "outputId": "7b8e735e-902b-4a78-e1e1-12512e394cd7"
      },
      "execution_count": null,
      "outputs": [
        {
          "output_type": "execute_result",
          "data": {
            "text/plain": [
              "       Unnamed: 0  overall                                         reviewText  \\\n",
              "49979       49995      5.0  i had e2cs and the wires started to crack this...   \n",
              "49980       49996      5.0                                        works great   \n",
              "49981       49997      4.0  i used it as an adapter for the keyboard that ...   \n",
              "49982       49998      5.0  this is a good overall protective lens  used i...   \n",
              "49983       49999      5.0  i expect tiffen filters to be good  so no disa...   \n",
              "\n",
              "                                                 summary  y  \\\n",
              "49979  Great Company and Earbuds - Can't Beat Them fo...  2   \n",
              "49980                                         Five Stars  2   \n",
              "49981  Which arguably makes it mostly useless, but th...  2   \n",
              "49982                               Good protective lens  2   \n",
              "49983                                           Perfect!  2   \n",
              "\n",
              "                                         cleaned_reviews  \n",
              "49979  e cs wire start crack common problem shure kno...  \n",
              "49980                                         work great  \n",
              "49981  use adapt keyboard came logitec review k datah...  \n",
              "49982  good overal protect len use panason dmc fz car...  \n",
              "49983  expect tiffen filter good disappoint need fit ...  "
            ],
            "text/html": [
              "\n",
              "  <div id=\"df-3ea9e094-0279-43e3-bf81-e6d47d5f86d1\">\n",
              "    <div class=\"colab-df-container\">\n",
              "      <div>\n",
              "<style scoped>\n",
              "    .dataframe tbody tr th:only-of-type {\n",
              "        vertical-align: middle;\n",
              "    }\n",
              "\n",
              "    .dataframe tbody tr th {\n",
              "        vertical-align: top;\n",
              "    }\n",
              "\n",
              "    .dataframe thead th {\n",
              "        text-align: right;\n",
              "    }\n",
              "</style>\n",
              "<table border=\"1\" class=\"dataframe\">\n",
              "  <thead>\n",
              "    <tr style=\"text-align: right;\">\n",
              "      <th></th>\n",
              "      <th>Unnamed: 0</th>\n",
              "      <th>overall</th>\n",
              "      <th>reviewText</th>\n",
              "      <th>summary</th>\n",
              "      <th>y</th>\n",
              "      <th>cleaned_reviews</th>\n",
              "    </tr>\n",
              "  </thead>\n",
              "  <tbody>\n",
              "    <tr>\n",
              "      <th>49979</th>\n",
              "      <td>49995</td>\n",
              "      <td>5.0</td>\n",
              "      <td>i had e2cs and the wires started to crack this...</td>\n",
              "      <td>Great Company and Earbuds - Can't Beat Them fo...</td>\n",
              "      <td>2</td>\n",
              "      <td>e cs wire start crack common problem shure kno...</td>\n",
              "    </tr>\n",
              "    <tr>\n",
              "      <th>49980</th>\n",
              "      <td>49996</td>\n",
              "      <td>5.0</td>\n",
              "      <td>works great</td>\n",
              "      <td>Five Stars</td>\n",
              "      <td>2</td>\n",
              "      <td>work great</td>\n",
              "    </tr>\n",
              "    <tr>\n",
              "      <th>49981</th>\n",
              "      <td>49997</td>\n",
              "      <td>4.0</td>\n",
              "      <td>i used it as an adapter for the keyboard that ...</td>\n",
              "      <td>Which arguably makes it mostly useless, but th...</td>\n",
              "      <td>2</td>\n",
              "      <td>use adapt keyboard came logitec review k datah...</td>\n",
              "    </tr>\n",
              "    <tr>\n",
              "      <th>49982</th>\n",
              "      <td>49998</td>\n",
              "      <td>5.0</td>\n",
              "      <td>this is a good overall protective lens  used i...</td>\n",
              "      <td>Good protective lens</td>\n",
              "      <td>2</td>\n",
              "      <td>good overal protect len use panason dmc fz car...</td>\n",
              "    </tr>\n",
              "    <tr>\n",
              "      <th>49983</th>\n",
              "      <td>49999</td>\n",
              "      <td>5.0</td>\n",
              "      <td>i expect tiffen filters to be good  so no disa...</td>\n",
              "      <td>Perfect!</td>\n",
              "      <td>2</td>\n",
              "      <td>expect tiffen filter good disappoint need fit ...</td>\n",
              "    </tr>\n",
              "  </tbody>\n",
              "</table>\n",
              "</div>\n",
              "      <button class=\"colab-df-convert\" onclick=\"convertToInteractive('df-3ea9e094-0279-43e3-bf81-e6d47d5f86d1')\"\n",
              "              title=\"Convert this dataframe to an interactive table.\"\n",
              "              style=\"display:none;\">\n",
              "        \n",
              "  <svg xmlns=\"http://www.w3.org/2000/svg\" height=\"24px\"viewBox=\"0 0 24 24\"\n",
              "       width=\"24px\">\n",
              "    <path d=\"M0 0h24v24H0V0z\" fill=\"none\"/>\n",
              "    <path d=\"M18.56 5.44l.94 2.06.94-2.06 2.06-.94-2.06-.94-.94-2.06-.94 2.06-2.06.94zm-11 1L8.5 8.5l.94-2.06 2.06-.94-2.06-.94L8.5 2.5l-.94 2.06-2.06.94zm10 10l.94 2.06.94-2.06 2.06-.94-2.06-.94-.94-2.06-.94 2.06-2.06.94z\"/><path d=\"M17.41 7.96l-1.37-1.37c-.4-.4-.92-.59-1.43-.59-.52 0-1.04.2-1.43.59L10.3 9.45l-7.72 7.72c-.78.78-.78 2.05 0 2.83L4 21.41c.39.39.9.59 1.41.59.51 0 1.02-.2 1.41-.59l7.78-7.78 2.81-2.81c.8-.78.8-2.07 0-2.86zM5.41 20L4 18.59l7.72-7.72 1.47 1.35L5.41 20z\"/>\n",
              "  </svg>\n",
              "      </button>\n",
              "      \n",
              "  <style>\n",
              "    .colab-df-container {\n",
              "      display:flex;\n",
              "      flex-wrap:wrap;\n",
              "      gap: 12px;\n",
              "    }\n",
              "\n",
              "    .colab-df-convert {\n",
              "      background-color: #E8F0FE;\n",
              "      border: none;\n",
              "      border-radius: 50%;\n",
              "      cursor: pointer;\n",
              "      display: none;\n",
              "      fill: #1967D2;\n",
              "      height: 32px;\n",
              "      padding: 0 0 0 0;\n",
              "      width: 32px;\n",
              "    }\n",
              "\n",
              "    .colab-df-convert:hover {\n",
              "      background-color: #E2EBFA;\n",
              "      box-shadow: 0px 1px 2px rgba(60, 64, 67, 0.3), 0px 1px 3px 1px rgba(60, 64, 67, 0.15);\n",
              "      fill: #174EA6;\n",
              "    }\n",
              "\n",
              "    [theme=dark] .colab-df-convert {\n",
              "      background-color: #3B4455;\n",
              "      fill: #D2E3FC;\n",
              "    }\n",
              "\n",
              "    [theme=dark] .colab-df-convert:hover {\n",
              "      background-color: #434B5C;\n",
              "      box-shadow: 0px 1px 3px 1px rgba(0, 0, 0, 0.15);\n",
              "      filter: drop-shadow(0px 1px 2px rgba(0, 0, 0, 0.3));\n",
              "      fill: #FFFFFF;\n",
              "    }\n",
              "  </style>\n",
              "\n",
              "      <script>\n",
              "        const buttonEl =\n",
              "          document.querySelector('#df-3ea9e094-0279-43e3-bf81-e6d47d5f86d1 button.colab-df-convert');\n",
              "        buttonEl.style.display =\n",
              "          google.colab.kernel.accessAllowed ? 'block' : 'none';\n",
              "\n",
              "        async function convertToInteractive(key) {\n",
              "          const element = document.querySelector('#df-3ea9e094-0279-43e3-bf81-e6d47d5f86d1');\n",
              "          const dataTable =\n",
              "            await google.colab.kernel.invokeFunction('convertToInteractive',\n",
              "                                                     [key], {});\n",
              "          if (!dataTable) return;\n",
              "\n",
              "          const docLinkHtml = 'Like what you see? Visit the ' +\n",
              "            '<a target=\"_blank\" href=https://colab.research.google.com/notebooks/data_table.ipynb>data table notebook</a>'\n",
              "            + ' to learn more about interactive tables.';\n",
              "          element.innerHTML = '';\n",
              "          dataTable['output_type'] = 'display_data';\n",
              "          await google.colab.output.renderOutput(dataTable, element);\n",
              "          const docLink = document.createElement('div');\n",
              "          docLink.innerHTML = docLinkHtml;\n",
              "          element.appendChild(docLink);\n",
              "        }\n",
              "      </script>\n",
              "    </div>\n",
              "  </div>\n",
              "  "
            ]
          },
          "metadata": {},
          "execution_count": 9
        }
      ]
    },
    {
      "cell_type": "code",
      "source": [
        "#Function that converts overall (5 classes) to y (3 classes) \n",
        "def classify(x):\n",
        "    if x == 5.0 or x==4.0:\n",
        "        return 2\n",
        "    if x==3.0:\n",
        "        return 1\n",
        "    return 0"
      ],
      "metadata": {
        "id": "u9tRO0PnYs5d"
      },
      "execution_count": null,
      "outputs": []
    },
    {
      "cell_type": "code",
      "source": [
        "# Building column y with the classify function\n",
        "df['y'] = df['overall'].apply(classify)"
      ],
      "metadata": {
        "id": "hK-xUCmmYwVU"
      },
      "execution_count": null,
      "outputs": []
    },
    {
      "cell_type": "code",
      "source": [
        "#Displaying dataframe for clarity\n",
        "df"
      ],
      "metadata": {
        "colab": {
          "base_uri": "https://localhost:8080/",
          "height": 641
        },
        "id": "GZ2uX4YyYzqL",
        "outputId": "99be4f1c-c153-4b2f-f0c5-56af8ae5092b"
      },
      "execution_count": null,
      "outputs": [
        {
          "output_type": "execute_result",
          "data": {
            "text/plain": [
              "       Unnamed: 0  overall                                         reviewText  \\\n",
              "0               0      5.0  love these things  the supplied batteries were...   \n",
              "1               1      5.0             great value good range and easy to use   \n",
              "2               2      5.0      smallest thumb drive ever cant beat the price   \n",
              "3               3      5.0  i bought this webcam mostly because of the pri...   \n",
              "4               4      5.0  i got this for my mom  shes not the most tech ...   \n",
              "...           ...      ...                                                ...   \n",
              "49979       49995      5.0  i had e2cs and the wires started to crack this...   \n",
              "49980       49996      5.0                                        works great   \n",
              "49981       49997      4.0  i used it as an adapter for the keyboard that ...   \n",
              "49982       49998      5.0  this is a good overall protective lens  used i...   \n",
              "49983       49999      5.0  i expect tiffen filters to be good  so no disa...   \n",
              "\n",
              "                                                 summary  y  \\\n",
              "0                        Good headset Replaced batteries  2   \n",
              "1                                             Five Stars  2   \n",
              "2                                             Five Stars  2   \n",
              "3                        Not a bad webcam for the price.  2   \n",
              "4                                            Good webcam  2   \n",
              "...                                                  ... ..   \n",
              "49979  Great Company and Earbuds - Can't Beat Them fo...  2   \n",
              "49980                                         Five Stars  2   \n",
              "49981  Which arguably makes it mostly useless, but th...  2   \n",
              "49982                               Good protective lens  2   \n",
              "49983                                           Perfect!  2   \n",
              "\n",
              "                                         cleaned_reviews  \n",
              "0                  love thing suppli batteri dead replac  \n",
              "1                          great valu good rang easi use  \n",
              "2              smallest thumb drive ever cant beat price  \n",
              "3      bought webcam mostli price fact logitech prett...  \n",
              "4      got mom she tech savvi set she problem one tim...  \n",
              "...                                                  ...  \n",
              "49979  e cs wire start crack common problem shure kno...  \n",
              "49980                                         work great  \n",
              "49981  use adapt keyboard came logitec review k datah...  \n",
              "49982  good overal protect len use panason dmc fz car...  \n",
              "49983  expect tiffen filter good disappoint need fit ...  \n",
              "\n",
              "[49930 rows x 6 columns]"
            ],
            "text/html": [
              "\n",
              "  <div id=\"df-35a792a4-1582-47cc-a303-8cf7bfd37f9c\">\n",
              "    <div class=\"colab-df-container\">\n",
              "      <div>\n",
              "<style scoped>\n",
              "    .dataframe tbody tr th:only-of-type {\n",
              "        vertical-align: middle;\n",
              "    }\n",
              "\n",
              "    .dataframe tbody tr th {\n",
              "        vertical-align: top;\n",
              "    }\n",
              "\n",
              "    .dataframe thead th {\n",
              "        text-align: right;\n",
              "    }\n",
              "</style>\n",
              "<table border=\"1\" class=\"dataframe\">\n",
              "  <thead>\n",
              "    <tr style=\"text-align: right;\">\n",
              "      <th></th>\n",
              "      <th>Unnamed: 0</th>\n",
              "      <th>overall</th>\n",
              "      <th>reviewText</th>\n",
              "      <th>summary</th>\n",
              "      <th>y</th>\n",
              "      <th>cleaned_reviews</th>\n",
              "    </tr>\n",
              "  </thead>\n",
              "  <tbody>\n",
              "    <tr>\n",
              "      <th>0</th>\n",
              "      <td>0</td>\n",
              "      <td>5.0</td>\n",
              "      <td>love these things  the supplied batteries were...</td>\n",
              "      <td>Good headset Replaced batteries</td>\n",
              "      <td>2</td>\n",
              "      <td>love thing suppli batteri dead replac</td>\n",
              "    </tr>\n",
              "    <tr>\n",
              "      <th>1</th>\n",
              "      <td>1</td>\n",
              "      <td>5.0</td>\n",
              "      <td>great value good range and easy to use</td>\n",
              "      <td>Five Stars</td>\n",
              "      <td>2</td>\n",
              "      <td>great valu good rang easi use</td>\n",
              "    </tr>\n",
              "    <tr>\n",
              "      <th>2</th>\n",
              "      <td>2</td>\n",
              "      <td>5.0</td>\n",
              "      <td>smallest thumb drive ever cant beat the price</td>\n",
              "      <td>Five Stars</td>\n",
              "      <td>2</td>\n",
              "      <td>smallest thumb drive ever cant beat price</td>\n",
              "    </tr>\n",
              "    <tr>\n",
              "      <th>3</th>\n",
              "      <td>3</td>\n",
              "      <td>5.0</td>\n",
              "      <td>i bought this webcam mostly because of the pri...</td>\n",
              "      <td>Not a bad webcam for the price.</td>\n",
              "      <td>2</td>\n",
              "      <td>bought webcam mostli price fact logitech prett...</td>\n",
              "    </tr>\n",
              "    <tr>\n",
              "      <th>4</th>\n",
              "      <td>4</td>\n",
              "      <td>5.0</td>\n",
              "      <td>i got this for my mom  shes not the most tech ...</td>\n",
              "      <td>Good webcam</td>\n",
              "      <td>2</td>\n",
              "      <td>got mom she tech savvi set she problem one tim...</td>\n",
              "    </tr>\n",
              "    <tr>\n",
              "      <th>...</th>\n",
              "      <td>...</td>\n",
              "      <td>...</td>\n",
              "      <td>...</td>\n",
              "      <td>...</td>\n",
              "      <td>...</td>\n",
              "      <td>...</td>\n",
              "    </tr>\n",
              "    <tr>\n",
              "      <th>49979</th>\n",
              "      <td>49995</td>\n",
              "      <td>5.0</td>\n",
              "      <td>i had e2cs and the wires started to crack this...</td>\n",
              "      <td>Great Company and Earbuds - Can't Beat Them fo...</td>\n",
              "      <td>2</td>\n",
              "      <td>e cs wire start crack common problem shure kno...</td>\n",
              "    </tr>\n",
              "    <tr>\n",
              "      <th>49980</th>\n",
              "      <td>49996</td>\n",
              "      <td>5.0</td>\n",
              "      <td>works great</td>\n",
              "      <td>Five Stars</td>\n",
              "      <td>2</td>\n",
              "      <td>work great</td>\n",
              "    </tr>\n",
              "    <tr>\n",
              "      <th>49981</th>\n",
              "      <td>49997</td>\n",
              "      <td>4.0</td>\n",
              "      <td>i used it as an adapter for the keyboard that ...</td>\n",
              "      <td>Which arguably makes it mostly useless, but th...</td>\n",
              "      <td>2</td>\n",
              "      <td>use adapt keyboard came logitec review k datah...</td>\n",
              "    </tr>\n",
              "    <tr>\n",
              "      <th>49982</th>\n",
              "      <td>49998</td>\n",
              "      <td>5.0</td>\n",
              "      <td>this is a good overall protective lens  used i...</td>\n",
              "      <td>Good protective lens</td>\n",
              "      <td>2</td>\n",
              "      <td>good overal protect len use panason dmc fz car...</td>\n",
              "    </tr>\n",
              "    <tr>\n",
              "      <th>49983</th>\n",
              "      <td>49999</td>\n",
              "      <td>5.0</td>\n",
              "      <td>i expect tiffen filters to be good  so no disa...</td>\n",
              "      <td>Perfect!</td>\n",
              "      <td>2</td>\n",
              "      <td>expect tiffen filter good disappoint need fit ...</td>\n",
              "    </tr>\n",
              "  </tbody>\n",
              "</table>\n",
              "<p>49930 rows × 6 columns</p>\n",
              "</div>\n",
              "      <button class=\"colab-df-convert\" onclick=\"convertToInteractive('df-35a792a4-1582-47cc-a303-8cf7bfd37f9c')\"\n",
              "              title=\"Convert this dataframe to an interactive table.\"\n",
              "              style=\"display:none;\">\n",
              "        \n",
              "  <svg xmlns=\"http://www.w3.org/2000/svg\" height=\"24px\"viewBox=\"0 0 24 24\"\n",
              "       width=\"24px\">\n",
              "    <path d=\"M0 0h24v24H0V0z\" fill=\"none\"/>\n",
              "    <path d=\"M18.56 5.44l.94 2.06.94-2.06 2.06-.94-2.06-.94-.94-2.06-.94 2.06-2.06.94zm-11 1L8.5 8.5l.94-2.06 2.06-.94-2.06-.94L8.5 2.5l-.94 2.06-2.06.94zm10 10l.94 2.06.94-2.06 2.06-.94-2.06-.94-.94-2.06-.94 2.06-2.06.94z\"/><path d=\"M17.41 7.96l-1.37-1.37c-.4-.4-.92-.59-1.43-.59-.52 0-1.04.2-1.43.59L10.3 9.45l-7.72 7.72c-.78.78-.78 2.05 0 2.83L4 21.41c.39.39.9.59 1.41.59.51 0 1.02-.2 1.41-.59l7.78-7.78 2.81-2.81c.8-.78.8-2.07 0-2.86zM5.41 20L4 18.59l7.72-7.72 1.47 1.35L5.41 20z\"/>\n",
              "  </svg>\n",
              "      </button>\n",
              "      \n",
              "  <style>\n",
              "    .colab-df-container {\n",
              "      display:flex;\n",
              "      flex-wrap:wrap;\n",
              "      gap: 12px;\n",
              "    }\n",
              "\n",
              "    .colab-df-convert {\n",
              "      background-color: #E8F0FE;\n",
              "      border: none;\n",
              "      border-radius: 50%;\n",
              "      cursor: pointer;\n",
              "      display: none;\n",
              "      fill: #1967D2;\n",
              "      height: 32px;\n",
              "      padding: 0 0 0 0;\n",
              "      width: 32px;\n",
              "    }\n",
              "\n",
              "    .colab-df-convert:hover {\n",
              "      background-color: #E2EBFA;\n",
              "      box-shadow: 0px 1px 2px rgba(60, 64, 67, 0.3), 0px 1px 3px 1px rgba(60, 64, 67, 0.15);\n",
              "      fill: #174EA6;\n",
              "    }\n",
              "\n",
              "    [theme=dark] .colab-df-convert {\n",
              "      background-color: #3B4455;\n",
              "      fill: #D2E3FC;\n",
              "    }\n",
              "\n",
              "    [theme=dark] .colab-df-convert:hover {\n",
              "      background-color: #434B5C;\n",
              "      box-shadow: 0px 1px 3px 1px rgba(0, 0, 0, 0.15);\n",
              "      filter: drop-shadow(0px 1px 2px rgba(0, 0, 0, 0.3));\n",
              "      fill: #FFFFFF;\n",
              "    }\n",
              "  </style>\n",
              "\n",
              "      <script>\n",
              "        const buttonEl =\n",
              "          document.querySelector('#df-35a792a4-1582-47cc-a303-8cf7bfd37f9c button.colab-df-convert');\n",
              "        buttonEl.style.display =\n",
              "          google.colab.kernel.accessAllowed ? 'block' : 'none';\n",
              "\n",
              "        async function convertToInteractive(key) {\n",
              "          const element = document.querySelector('#df-35a792a4-1582-47cc-a303-8cf7bfd37f9c');\n",
              "          const dataTable =\n",
              "            await google.colab.kernel.invokeFunction('convertToInteractive',\n",
              "                                                     [key], {});\n",
              "          if (!dataTable) return;\n",
              "\n",
              "          const docLinkHtml = 'Like what you see? Visit the ' +\n",
              "            '<a target=\"_blank\" href=https://colab.research.google.com/notebooks/data_table.ipynb>data table notebook</a>'\n",
              "            + ' to learn more about interactive tables.';\n",
              "          element.innerHTML = '';\n",
              "          dataTable['output_type'] = 'display_data';\n",
              "          await google.colab.output.renderOutput(dataTable, element);\n",
              "          const docLink = document.createElement('div');\n",
              "          docLink.innerHTML = docLinkHtml;\n",
              "          element.appendChild(docLink);\n",
              "        }\n",
              "      </script>\n",
              "    </div>\n",
              "  </div>\n",
              "  "
            ]
          },
          "metadata": {},
          "execution_count": 12
        }
      ]
    },
    {
      "cell_type": "code",
      "source": [
        "# Checking distribution of data\n",
        "df['y'].value_counts()"
      ],
      "metadata": {
        "colab": {
          "base_uri": "https://localhost:8080/"
        },
        "id": "nd2Hk5aoY2H1",
        "outputId": "c2c9f28e-9f6a-4a4e-bceb-550c0b03c22e"
      },
      "execution_count": null,
      "outputs": [
        {
          "output_type": "execute_result",
          "data": {
            "text/plain": [
              "2    38377\n",
              "0     7830\n",
              "1     3723\n",
              "Name: y, dtype: int64"
            ]
          },
          "metadata": {},
          "execution_count": 13
        }
      ]
    },
    {
      "cell_type": "code",
      "source": [
        "# Creating a dictionary which contains all unique attributes in y, here these are the classes\n",
        "possible_labels = df.y.unique()\n",
        "label_dict = {}\n",
        "for index, possible_label in enumerate(possible_labels):\n",
        "    label_dict[possible_label] = int(possible_label)\n",
        "label_dict"
      ],
      "metadata": {
        "colab": {
          "base_uri": "https://localhost:8080/"
        },
        "id": "cxccWA7lY-j1",
        "outputId": "34710746-b1c7-4520-8751-0dbe10cadebf"
      },
      "execution_count": null,
      "outputs": [
        {
          "output_type": "execute_result",
          "data": {
            "text/plain": [
              "{0: 0, 1: 1, 2: 2}"
            ]
          },
          "metadata": {},
          "execution_count": 14
        }
      ]
    },
    {
      "cell_type": "code",
      "source": [
        "# Changing column name from y to label for clarity\n",
        "df['label'] = [label_dict[str_label] for str_label in df['y']]"
      ],
      "metadata": {
        "id": "xPBi9awPZAJT"
      },
      "execution_count": null,
      "outputs": []
    },
    {
      "cell_type": "code",
      "source": [
        "# a=df['label']\n",
        "# b=df['y']\n",
        "# a.corr(b)"
      ],
      "metadata": {
        "id": "UOBuJ3J_ZCQL"
      },
      "execution_count": null,
      "outputs": []
    },
    {
      "cell_type": "code",
      "source": [
        "# Splitting the dataset into a 85-15 train-test split\n",
        "from sklearn.model_selection import train_test_split\n",
        "X_train, X_val, y_train, y_val = train_test_split(df.index.values, \n",
        "                                                  df.label.values, \n",
        "                                                  test_size=0.15, \n",
        "                                                  random_state=42, \n",
        "                                                  stratify=df.label.values)\n",
        "\n",
        "# creating a column data_type to denote whether each record is for test or train\n",
        "df['data_type'] = ['not_set']*df.shape[0]\n",
        "df.loc[X_train, 'data_type'] = 'train'\n",
        "df.loc[X_val, 'data_type'] = 'val'\n",
        "df.groupby(['y', 'label', 'data_type']).count()"
      ],
      "metadata": {
        "colab": {
          "base_uri": "https://localhost:8080/",
          "height": 269
        },
        "id": "ez7sle_gZE19",
        "outputId": "6594b595-9182-4bb6-9d22-e3eb2a2d4e60"
      },
      "execution_count": null,
      "outputs": [
        {
          "output_type": "execute_result",
          "data": {
            "text/plain": [
              "                   Unnamed: 0  overall  reviewText  summary  cleaned_reviews\n",
              "y label data_type                                                           \n",
              "0 0     train            6655     6655        6655     6655             6655\n",
              "        val              1175     1175        1175     1175             1175\n",
              "1 1     train            3165     3165        3165     3165             3165\n",
              "        val               558      558         558      558              558\n",
              "2 2     train           32620    32620       32620    32617            32620\n",
              "        val              5757     5757        5757     5757             5757"
            ],
            "text/html": [
              "\n",
              "  <div id=\"df-e05a094a-beea-4fa4-8412-2f5fdd408483\">\n",
              "    <div class=\"colab-df-container\">\n",
              "      <div>\n",
              "<style scoped>\n",
              "    .dataframe tbody tr th:only-of-type {\n",
              "        vertical-align: middle;\n",
              "    }\n",
              "\n",
              "    .dataframe tbody tr th {\n",
              "        vertical-align: top;\n",
              "    }\n",
              "\n",
              "    .dataframe thead th {\n",
              "        text-align: right;\n",
              "    }\n",
              "</style>\n",
              "<table border=\"1\" class=\"dataframe\">\n",
              "  <thead>\n",
              "    <tr style=\"text-align: right;\">\n",
              "      <th></th>\n",
              "      <th></th>\n",
              "      <th></th>\n",
              "      <th>Unnamed: 0</th>\n",
              "      <th>overall</th>\n",
              "      <th>reviewText</th>\n",
              "      <th>summary</th>\n",
              "      <th>cleaned_reviews</th>\n",
              "    </tr>\n",
              "    <tr>\n",
              "      <th>y</th>\n",
              "      <th>label</th>\n",
              "      <th>data_type</th>\n",
              "      <th></th>\n",
              "      <th></th>\n",
              "      <th></th>\n",
              "      <th></th>\n",
              "      <th></th>\n",
              "    </tr>\n",
              "  </thead>\n",
              "  <tbody>\n",
              "    <tr>\n",
              "      <th rowspan=\"2\" valign=\"top\">0</th>\n",
              "      <th rowspan=\"2\" valign=\"top\">0</th>\n",
              "      <th>train</th>\n",
              "      <td>6655</td>\n",
              "      <td>6655</td>\n",
              "      <td>6655</td>\n",
              "      <td>6655</td>\n",
              "      <td>6655</td>\n",
              "    </tr>\n",
              "    <tr>\n",
              "      <th>val</th>\n",
              "      <td>1175</td>\n",
              "      <td>1175</td>\n",
              "      <td>1175</td>\n",
              "      <td>1175</td>\n",
              "      <td>1175</td>\n",
              "    </tr>\n",
              "    <tr>\n",
              "      <th rowspan=\"2\" valign=\"top\">1</th>\n",
              "      <th rowspan=\"2\" valign=\"top\">1</th>\n",
              "      <th>train</th>\n",
              "      <td>3165</td>\n",
              "      <td>3165</td>\n",
              "      <td>3165</td>\n",
              "      <td>3165</td>\n",
              "      <td>3165</td>\n",
              "    </tr>\n",
              "    <tr>\n",
              "      <th>val</th>\n",
              "      <td>558</td>\n",
              "      <td>558</td>\n",
              "      <td>558</td>\n",
              "      <td>558</td>\n",
              "      <td>558</td>\n",
              "    </tr>\n",
              "    <tr>\n",
              "      <th rowspan=\"2\" valign=\"top\">2</th>\n",
              "      <th rowspan=\"2\" valign=\"top\">2</th>\n",
              "      <th>train</th>\n",
              "      <td>32620</td>\n",
              "      <td>32620</td>\n",
              "      <td>32620</td>\n",
              "      <td>32617</td>\n",
              "      <td>32620</td>\n",
              "    </tr>\n",
              "    <tr>\n",
              "      <th>val</th>\n",
              "      <td>5757</td>\n",
              "      <td>5757</td>\n",
              "      <td>5757</td>\n",
              "      <td>5757</td>\n",
              "      <td>5757</td>\n",
              "    </tr>\n",
              "  </tbody>\n",
              "</table>\n",
              "</div>\n",
              "      <button class=\"colab-df-convert\" onclick=\"convertToInteractive('df-e05a094a-beea-4fa4-8412-2f5fdd408483')\"\n",
              "              title=\"Convert this dataframe to an interactive table.\"\n",
              "              style=\"display:none;\">\n",
              "        \n",
              "  <svg xmlns=\"http://www.w3.org/2000/svg\" height=\"24px\"viewBox=\"0 0 24 24\"\n",
              "       width=\"24px\">\n",
              "    <path d=\"M0 0h24v24H0V0z\" fill=\"none\"/>\n",
              "    <path d=\"M18.56 5.44l.94 2.06.94-2.06 2.06-.94-2.06-.94-.94-2.06-.94 2.06-2.06.94zm-11 1L8.5 8.5l.94-2.06 2.06-.94-2.06-.94L8.5 2.5l-.94 2.06-2.06.94zm10 10l.94 2.06.94-2.06 2.06-.94-2.06-.94-.94-2.06-.94 2.06-2.06.94z\"/><path d=\"M17.41 7.96l-1.37-1.37c-.4-.4-.92-.59-1.43-.59-.52 0-1.04.2-1.43.59L10.3 9.45l-7.72 7.72c-.78.78-.78 2.05 0 2.83L4 21.41c.39.39.9.59 1.41.59.51 0 1.02-.2 1.41-.59l7.78-7.78 2.81-2.81c.8-.78.8-2.07 0-2.86zM5.41 20L4 18.59l7.72-7.72 1.47 1.35L5.41 20z\"/>\n",
              "  </svg>\n",
              "      </button>\n",
              "      \n",
              "  <style>\n",
              "    .colab-df-container {\n",
              "      display:flex;\n",
              "      flex-wrap:wrap;\n",
              "      gap: 12px;\n",
              "    }\n",
              "\n",
              "    .colab-df-convert {\n",
              "      background-color: #E8F0FE;\n",
              "      border: none;\n",
              "      border-radius: 50%;\n",
              "      cursor: pointer;\n",
              "      display: none;\n",
              "      fill: #1967D2;\n",
              "      height: 32px;\n",
              "      padding: 0 0 0 0;\n",
              "      width: 32px;\n",
              "    }\n",
              "\n",
              "    .colab-df-convert:hover {\n",
              "      background-color: #E2EBFA;\n",
              "      box-shadow: 0px 1px 2px rgba(60, 64, 67, 0.3), 0px 1px 3px 1px rgba(60, 64, 67, 0.15);\n",
              "      fill: #174EA6;\n",
              "    }\n",
              "\n",
              "    [theme=dark] .colab-df-convert {\n",
              "      background-color: #3B4455;\n",
              "      fill: #D2E3FC;\n",
              "    }\n",
              "\n",
              "    [theme=dark] .colab-df-convert:hover {\n",
              "      background-color: #434B5C;\n",
              "      box-shadow: 0px 1px 3px 1px rgba(0, 0, 0, 0.15);\n",
              "      filter: drop-shadow(0px 1px 2px rgba(0, 0, 0, 0.3));\n",
              "      fill: #FFFFFF;\n",
              "    }\n",
              "  </style>\n",
              "\n",
              "      <script>\n",
              "        const buttonEl =\n",
              "          document.querySelector('#df-e05a094a-beea-4fa4-8412-2f5fdd408483 button.colab-df-convert');\n",
              "        buttonEl.style.display =\n",
              "          google.colab.kernel.accessAllowed ? 'block' : 'none';\n",
              "\n",
              "        async function convertToInteractive(key) {\n",
              "          const element = document.querySelector('#df-e05a094a-beea-4fa4-8412-2f5fdd408483');\n",
              "          const dataTable =\n",
              "            await google.colab.kernel.invokeFunction('convertToInteractive',\n",
              "                                                     [key], {});\n",
              "          if (!dataTable) return;\n",
              "\n",
              "          const docLinkHtml = 'Like what you see? Visit the ' +\n",
              "            '<a target=\"_blank\" href=https://colab.research.google.com/notebooks/data_table.ipynb>data table notebook</a>'\n",
              "            + ' to learn more about interactive tables.';\n",
              "          element.innerHTML = '';\n",
              "          dataTable['output_type'] = 'display_data';\n",
              "          await google.colab.output.renderOutput(dataTable, element);\n",
              "          const docLink = document.createElement('div');\n",
              "          docLink.innerHTML = docLinkHtml;\n",
              "          element.appendChild(docLink);\n",
              "        }\n",
              "      </script>\n",
              "    </div>\n",
              "  </div>\n",
              "  "
            ]
          },
          "metadata": {},
          "execution_count": 17
        }
      ]
    },
    {
      "cell_type": "code",
      "source": [
        "# Initializing tokenizer\n",
        "tokenizer = BertTokenizer.from_pretrained('bert-base-uncased', \n",
        "                                          do_lower_case=True)              \n",
        "# Encoding training batch                           \n",
        "encoded_data_train = tokenizer.batch_encode_plus(\n",
        "    df[df.data_type=='train'].reviewText.values, \n",
        "    add_special_tokens=True, \n",
        "    return_attention_mask=True, \n",
        "    pad_to_max_length=True, \n",
        "    max_length=256, \n",
        "    return_tensors='pt'\n",
        ")\n",
        "# Encoding validation batch                           \n",
        "encoded_data_val = tokenizer.batch_encode_plus(\n",
        "    df[df.data_type=='val'].reviewText.values, \n",
        "    add_special_tokens=True, \n",
        "    return_attention_mask=True, \n",
        "    pad_to_max_length=True, \n",
        "    max_length=256, \n",
        "    return_tensors='pt'\n",
        ")\n",
        "\n",
        "# Extracting variables from encoded objects for ease of use\n",
        "input_ids_train = encoded_data_train['input_ids']\n",
        "attention_masks_train = encoded_data_train['attention_mask']\n",
        "labels_train = torch.tensor(df[df.data_type=='train'].label.values)\n",
        "\n",
        "input_ids_val = encoded_data_val['input_ids']\n",
        "attention_masks_val = encoded_data_val['attention_mask']\n",
        "\n",
        "# creating tensors\n",
        "labels_val = torch.tensor(df[df.data_type=='val'].label.values)\n",
        "dataset_train = TensorDataset(input_ids_train, attention_masks_train, labels_train)\n",
        "dataset_val = TensorDataset(input_ids_val, attention_masks_val, labels_val)"
      ],
      "metadata": {
        "colab": {
          "base_uri": "https://localhost:8080/",
          "height": 185,
          "referenced_widgets": [
            "ee74abfd372548f7a2eb63e9520cb0bc",
            "00ca5511e95041f1891562775cf8cc9e",
            "e7bba1b0bb1641699f58b175b4b32a5f",
            "e33fa1cabfdb4c268a49281e525731bc",
            "cf2191d9ad4445068b0369e2c96fbd29",
            "ad3479df85d7458080616deb4ffacf38",
            "b60e292d278948cb89359f562905c4b3",
            "f8234975811442b7a6154c6b73e35bb9",
            "870e0977dca94a2595850470421d2957",
            "2aa0428105ca4638ad7c8e2774b8af15",
            "9a4fa522c0b440b8a3d1012856582ac9",
            "db039056f83a4606afcc5d8f3904d010",
            "1a2e2a6053f647fd966f42bde5a65ddb",
            "49c0d73f628e460298dafa46955f6873",
            "1830622a57e74740a4147770cc1246e1",
            "cc8eb5d874bb4977b345d3d926847103",
            "093fdc0ab63a441a9e555732b0713260",
            "e6f1cd50399c4501934963ab5049ccab",
            "3876802d4cbf4c139138f1920a6ca661",
            "846d8e3fef0a4ab1a479a1568d2af157",
            "db43ed0b85b340799367e0bd0711fcf5",
            "52cc493bec214285ad39f0f48fedc2d1",
            "8471fb08018143be834e677e3bc15607",
            "8b5e21a30ed94418873bb0f104653be0",
            "ce7929b425474fb18c265e8c2365ef0e",
            "d0c71cca90624db69a963589ab9530e5",
            "65c0f0d4abc54ba292ab2d11551b73db",
            "e58cc790b50e48cea14881bd98a63139",
            "10aa79c0435e4c0cb62764bb5f89da98",
            "31da0a3325d246aca1ff059945b60e95",
            "5ed97835f68f4d5b97cda72ef15d3929",
            "18d792faa0bf4e73a079c8a80b7f38d8",
            "a009a25b7eac4b9897b43e080811bad3"
          ]
        },
        "id": "Hj7LQ-ipZJQD",
        "outputId": "9b3d73de-310d-40ba-ccf4-52ce77deed7f"
      },
      "execution_count": null,
      "outputs": [
        {
          "output_type": "display_data",
          "data": {
            "text/plain": [
              "Downloading:   0%|          | 0.00/226k [00:00<?, ?B/s]"
            ],
            "application/vnd.jupyter.widget-view+json": {
              "version_major": 2,
              "version_minor": 0,
              "model_id": "ee74abfd372548f7a2eb63e9520cb0bc"
            }
          },
          "metadata": {}
        },
        {
          "output_type": "display_data",
          "data": {
            "text/plain": [
              "Downloading:   0%|          | 0.00/28.0 [00:00<?, ?B/s]"
            ],
            "application/vnd.jupyter.widget-view+json": {
              "version_major": 2,
              "version_minor": 0,
              "model_id": "db039056f83a4606afcc5d8f3904d010"
            }
          },
          "metadata": {}
        },
        {
          "output_type": "display_data",
          "data": {
            "text/plain": [
              "Downloading:   0%|          | 0.00/570 [00:00<?, ?B/s]"
            ],
            "application/vnd.jupyter.widget-view+json": {
              "version_major": 2,
              "version_minor": 0,
              "model_id": "8471fb08018143be834e677e3bc15607"
            }
          },
          "metadata": {}
        },
        {
          "output_type": "stream",
          "name": "stderr",
          "text": [
            "Truncation was not explicitly activated but `max_length` is provided a specific value, please use `truncation=True` to explicitly truncate examples to max length. Defaulting to 'longest_first' truncation strategy. If you encode pairs of sequences (GLUE-style) with the tokenizer you can select this strategy more precisely by providing a specific strategy to `truncation`.\n",
            "/usr/local/lib/python3.7/dist-packages/transformers/tokenization_utils_base.py:2277: FutureWarning: The `pad_to_max_length` argument is deprecated and will be removed in a future version, use `padding=True` or `padding='longest'` to pad to the longest sequence in the batch, or use `padding='max_length'` to pad to a max length. In this case, you can give a specific length with `max_length` (e.g. `max_length=45`) or leave max_length to None to pad to the maximal input size of the model (e.g. 512 for Bert).\n",
            "  FutureWarning,\n"
          ]
        }
      ]
    },
    {
      "cell_type": "code",
      "source": [
        "# Initializing the model\n",
        "model = BertForSequenceClassification.from_pretrained(\"bert-base-uncased\",\n",
        "                                                      num_labels=len(label_dict),\n",
        "                                                      output_attentions=False,\n",
        "                                                      output_hidden_states=False)"
      ],
      "metadata": {
        "colab": {
          "base_uri": "https://localhost:8080/",
          "height": 156,
          "referenced_widgets": [
            "4c4fd3e729374fe2b3f71ec36704b6a6",
            "aade99a5ffe0446aacedb8f815e508b1",
            "8ed2874e7fc244f085f3ae0ae37ff5f5",
            "a89d2266eb62408684bac1c895708f78",
            "0b18973f29e844fbbf73a7cc4dac07ed",
            "199668d8fe434ed2ab809eca6f139411",
            "8f95a3cc86a34041a70372fa736b9ddb",
            "203e753c57bb482c85ca8305b32ef74a",
            "82b176c202934466a4acc5ca636783dc",
            "04b9629d279d41a7b537eae9666fe846",
            "f5cc8b86d2d24d1d8f976cb9645585fa"
          ]
        },
        "id": "8SiEdrJ9ZUk7",
        "outputId": "2fe18b09-ca68-48b7-b901-9d26ce5d75cd"
      },
      "execution_count": null,
      "outputs": [
        {
          "output_type": "display_data",
          "data": {
            "text/plain": [
              "Downloading:   0%|          | 0.00/420M [00:00<?, ?B/s]"
            ],
            "application/vnd.jupyter.widget-view+json": {
              "version_major": 2,
              "version_minor": 0,
              "model_id": "4c4fd3e729374fe2b3f71ec36704b6a6"
            }
          },
          "metadata": {}
        },
        {
          "output_type": "stream",
          "name": "stderr",
          "text": [
            "Some weights of the model checkpoint at bert-base-uncased were not used when initializing BertForSequenceClassification: ['cls.predictions.transform.LayerNorm.weight', 'cls.seq_relationship.weight', 'cls.seq_relationship.bias', 'cls.predictions.transform.dense.weight', 'cls.predictions.decoder.weight', 'cls.predictions.transform.LayerNorm.bias', 'cls.predictions.bias', 'cls.predictions.transform.dense.bias']\n",
            "- This IS expected if you are initializing BertForSequenceClassification from the checkpoint of a model trained on another task or with another architecture (e.g. initializing a BertForSequenceClassification model from a BertForPreTraining model).\n",
            "- This IS NOT expected if you are initializing BertForSequenceClassification from the checkpoint of a model that you expect to be exactly identical (initializing a BertForSequenceClassification model from a BertForSequenceClassification model).\n",
            "Some weights of BertForSequenceClassification were not initialized from the model checkpoint at bert-base-uncased and are newly initialized: ['classifier.bias', 'classifier.weight']\n",
            "You should probably TRAIN this model on a down-stream task to be able to use it for predictions and inference.\n"
          ]
        }
      ]
    },
    {
      "cell_type": "code",
      "source": [
        "# Import and initialization of dataloaders and batch size hyperparameter\n",
        "from torch.utils.data import DataLoader, RandomSampler, SequentialSampler\n",
        "\n",
        "batch_size = 3\n",
        "\n",
        "dataloader_train = DataLoader(dataset_train, \n",
        "                              sampler=RandomSampler(dataset_train), \n",
        "                              batch_size=batch_size)\n",
        "\n",
        "dataloader_validation = DataLoader(dataset_val, \n",
        "                                   sampler=SequentialSampler(dataset_val), \n",
        "                                   batch_size=batch_size)"
      ],
      "metadata": {
        "id": "Wtmlh0wLZ0OC"
      },
      "execution_count": null,
      "outputs": []
    },
    {
      "cell_type": "code",
      "source": [
        "# Importing the adam optimizer and a scheduler to manage learning rate in an optimal fashion\n",
        "from transformers import AdamW, get_linear_schedule_with_warmup\n",
        "\n",
        "# Initializing the optimizer (uses the adam algorithm - an extension to stochastic gradient descent)\n",
        "optimizer = AdamW(model.parameters(),\n",
        "                  lr=1e-5, \n",
        "                  eps=1e-8)\n",
        "                  \n",
        "# Setting epoch hyperparameter\n",
        "epochs = 3\n",
        "\n",
        "# Scheduler to increase learning rate for a certain number of steps then linearly deacrese the same\n",
        "scheduler = get_linear_schedule_with_warmup(optimizer, \n",
        "                                            num_warmup_steps=0,\n",
        "                                            num_training_steps=len(dataloader_train)*epochs)"
      ],
      "metadata": {
        "colab": {
          "base_uri": "https://localhost:8080/"
        },
        "id": "1ivj65mzZ2Kj",
        "outputId": "5cb86d01-aa03-472f-cdb4-332fc725eaa1"
      },
      "execution_count": null,
      "outputs": [
        {
          "output_type": "stream",
          "name": "stderr",
          "text": [
            "/usr/local/lib/python3.7/dist-packages/transformers/optimization.py:309: FutureWarning: This implementation of AdamW is deprecated and will be removed in a future version. Use the PyTorch implementation torch.optim.AdamW instead, or set `no_deprecation_warning=True` to disable this warning\n",
            "  FutureWarning,\n"
          ]
        }
      ]
    },
    {
      "cell_type": "code",
      "source": [
        "# Defining functions for f1 score and accuracy\n",
        "from sklearn.metrics import f1_score\n",
        "\n",
        "def f1_score_func(preds, labels):\n",
        "    preds_flat = np.argmax(preds, axis=1).flatten()\n",
        "    labels_flat = labels.flatten()\n",
        "    return f1_score(labels_flat, preds_flat, average='weighted')\n",
        "\n",
        "def accuracy_per_class(preds, labels):\n",
        "    label_dict_inverse = {v: k for k, v in label_dict.items()}\n",
        "    \n",
        "    preds_flat = np.argmax(preds, axis=1).flatten()\n",
        "    labels_flat = labels.flatten()\n",
        "    correct=0\n",
        "    total=0\n",
        "    for label in np.unique(labels_flat):\n",
        "        y_preds = preds_flat[labels_flat==label]\n",
        "        y_true = labels_flat[labels_flat==label]\n",
        "        print(f'Class: {label_dict_inverse[label]}')\n",
        "        print(f'Accuracy: {len(y_preds[y_preds==label])}/{len(y_true)}\\n')\n",
        "        correct+=len(y_preds[y_preds==label])\n",
        "        total+=len(y_true)\n",
        "    print(f'Bert Model Accuracy Overall :',correct/total)"
      ],
      "metadata": {
        "id": "5SyCcAX3Z5bM"
      },
      "execution_count": null,
      "outputs": []
    },
    {
      "cell_type": "code",
      "source": [
        "#to check GPU vs CPU - based on whether the local/hosted runtime has an nvidia GPU available or not\n",
        "device = torch.device('cuda' if torch.cuda.is_available() else 'cpu')\n",
        "model.to(device)\n",
        "\n",
        "print(device)"
      ],
      "metadata": {
        "colab": {
          "base_uri": "https://localhost:8080/"
        },
        "id": "R-CtHmu_Z8SD",
        "outputId": "62ddb958-4191-412f-c952-ae2ab9edbb33"
      },
      "execution_count": null,
      "outputs": [
        {
          "output_type": "stream",
          "name": "stdout",
          "text": [
            "cuda\n"
          ]
        }
      ]
    },
    {
      "cell_type": "code",
      "source": [
        "import random\n",
        "\n",
        "# Sets torchs seed to randomize to enable usage of torch.random()\n",
        "seed_val = 17\n",
        "random.seed(seed_val)\n",
        "np.random.seed(seed_val)\n",
        "torch.manual_seed(seed_val)\n",
        "torch.cuda.manual_seed_all(seed_val)\n",
        "\n",
        "# Evaluate function to be used along with tqdm to display the live progress of the model training, calculates average loss, predictions and true values.\n",
        "def evaluate(dataloader_val):\n",
        "\n",
        "    # used to turn off layers that dont perform as expected\n",
        "    model.eval()\n",
        "    \n",
        "    loss_val_total = 0\n",
        "    predictions, true_vals = [], []\n",
        "    \n",
        "    for batch in dataloader_val:\n",
        "        \n",
        "        batch = tuple(b.to(device) for b in batch)\n",
        "        \n",
        "        inputs = {'input_ids':      batch[0],\n",
        "                  'attention_mask': batch[1],\n",
        "                  'labels':         batch[2],\n",
        "                 }\n",
        "\n",
        "        with torch.no_grad():        \n",
        "            outputs = model(**inputs)\n",
        "            \n",
        "        loss = outputs[0]\n",
        "        logits = outputs[1]\n",
        "        loss_val_total += loss.item()\n",
        "\n",
        "        logits = logits.detach().cpu().numpy()\n",
        "        label_ids = inputs['labels'].cpu().numpy()\n",
        "        predictions.append(logits)\n",
        "        true_vals.append(label_ids)\n",
        "    \n",
        "    loss_val_avg = loss_val_total/len(dataloader_val) \n",
        "    \n",
        "    predictions = np.concatenate(predictions, axis=0)\n",
        "    true_vals = np.concatenate(true_vals, axis=0)\n",
        "            \n",
        "    return loss_val_avg, predictions, true_vals\n",
        "  \n",
        "# Train the model\n",
        "for epoch in tqdm(range(1, epochs+1)):\n",
        "    \n",
        "    model.train()\n",
        "    \n",
        "    loss_train_total = 0\n",
        "\n",
        "    progress_bar = tqdm(dataloader_train, desc='Epoch {:1d}'.format(epoch), leave=False, disable=False)\n",
        "    for batch in progress_bar:\n",
        "\n",
        "        model.zero_grad()\n",
        "        \n",
        "        batch = tuple(b.to(device) for b in batch)\n",
        "        \n",
        "        inputs = {'input_ids':      batch[0],\n",
        "                  'attention_mask': batch[1],\n",
        "                  'labels':         batch[2],\n",
        "                 }       \n",
        "        outputs = model(**inputs)\n",
        "        \n",
        "        loss = outputs[0]\n",
        "        loss_train_total += loss.item()\n",
        "        loss.backward()\n",
        "\n",
        "        torch.nn.utils.clip_grad_norm_(model.parameters(), 1.0)\n",
        "\n",
        "        optimizer.step()\n",
        "        scheduler.step()\n",
        "        \n",
        "        progress_bar.set_postfix({'training_loss': '{:.3f}'.format(loss.item()/len(batch))})\n",
        "         \n",
        "        \n",
        "      \n",
        "    # Write results  \n",
        "    tqdm.write(f'\\nEpoch {epoch}')\n",
        "    loss_train_avg = loss_train_total/len(dataloader_train)            \n",
        "    tqdm.write(f'Training loss: {loss_train_avg}')\n",
        "\n",
        "    #Save the finetuned model per epoch\n",
        "    torch.save(model.state_dict(), f'/content/drive/MyDrive/bertmodel{epoch}.model')\n",
        "    \n",
        "    val_loss, predictions, true_vals = evaluate(dataloader_validation)\n",
        "    val_f1 = f1_score_func(predictions, true_vals)\n",
        "    tqdm.write(f'Validation loss: {val_loss}')\n",
        "    tqdm.write(f'F1 Score (Weighted): {val_f1}')"
      ],
      "metadata": {
        "colab": {
          "base_uri": "https://localhost:8080/",
          "height": 309,
          "referenced_widgets": [
            "8fd7de03666e40599c1269c28d8b4eed",
            "ab076e9d41424a70bb66a635e2f4bffe",
            "8c916ddf020e4ac880a8232da459ce34",
            "3d5dec43c2ef40fdbeb067c5ed97e961",
            "08c71bbef8b545fd90c9b207a436cbfb",
            "e5ed9a0ce7364d348128ecaa788adb1b",
            "64e6b4e72e7c462585b287eaa2b72b7c",
            "01cf8214079043259131df3447c1804a",
            "aa788ebe575447a68d3434911f74bb54",
            "bff280e19001429490ecacb2bc8f1cb5",
            "3fb057ae15924019bb472b870d27ec99",
            "f4b6b40567ac4603b271b07372c9ffda",
            "96d689a276dd4cfaa7c90d7027c33e96",
            "3f18435c2e5a48508cbd935da0ca6676",
            "7112cac6fc0c4c0b90c8b2ac75fc965c",
            "cc616e758aa74c29bcd5d249ca748b34",
            "2ecf3d89bcfd4da195eb872d8a3b19d4",
            "60cb37f9db224ae1899bc68567364489",
            "603d2dcdbd4a461081ca2f5025a1c275",
            "ddf1622cfa5649a081c8974dcae64b38",
            "97e4ea7910f34bd4ab302f8e17c7a038",
            "6c34ff098e034364ad3c3f35d44773f1",
            "edbbd23a1bec4a499768695ce51f49e3",
            "b12bb93753ea4bf28756b4b8e94308c2",
            "72556d4e3142444abaaf261965578161",
            "41a49eb666684f70a79e4a2e0b449e01",
            "0ff8dd3b5abf4fe4ba2b08dca0971e0f",
            "2b0c6224939c46cc8db29529b15ec06b",
            "25ee56bac2bc46e79cd24b5798be56a9",
            "218eabb1426841bb94f9416253103f46",
            "0b9b181c99aa4a3bb31a2e255194f3fa",
            "ac16426606464381bf1ec24c025a8288",
            "30699cc715644155ba7988e0c32cff70",
            "4ac1098b725b44ed87a01b07a170bfb5",
            "1f304c05d9294d5bbbb909903f092c59",
            "f2b41afbccfd49afbeb6d839ed6fae51",
            "2f75d423c2b5456199fc6ac9c0043746",
            "ee6da1b330ad47d1b3a151459ca4cbd9",
            "e1c71ab48f6642cbb438e68a64264984",
            "1f1550ee1afd4fe6be1d57059c3b5d4a",
            "2cf5a640f109447c9d99741886fa77b7",
            "4b39eb060f554051a79b1c1594b41689",
            "4b80136c74d241a2bcc22fe9ed763841",
            "f9e5e8570f2e44318eb90a4596436e63"
          ]
        },
        "id": "BEhpFcUtaCka",
        "outputId": "7ae75564-a566-434b-edde-70575a81c1f4"
      },
      "execution_count": null,
      "outputs": [
        {
          "output_type": "display_data",
          "data": {
            "text/plain": [
              "  0%|          | 0/3 [00:00<?, ?it/s]"
            ],
            "application/vnd.jupyter.widget-view+json": {
              "version_major": 2,
              "version_minor": 0,
              "model_id": "8fd7de03666e40599c1269c28d8b4eed"
            }
          },
          "metadata": {}
        },
        {
          "output_type": "display_data",
          "data": {
            "text/plain": [
              "Epoch 1:   0%|          | 0/14147 [00:00<?, ?it/s]"
            ],
            "application/vnd.jupyter.widget-view+json": {
              "version_major": 2,
              "version_minor": 0,
              "model_id": "f4b6b40567ac4603b271b07372c9ffda"
            }
          },
          "metadata": {}
        },
        {
          "output_type": "stream",
          "name": "stdout",
          "text": [
            "\n",
            "Epoch 1\n",
            "Training loss: 0.4641623975775744\n",
            "Validation loss: 0.40410996839718527\n",
            "F1 Score (Weighted): 0.8756016877412833\n"
          ]
        },
        {
          "output_type": "display_data",
          "data": {
            "text/plain": [
              "Epoch 2:   0%|          | 0/14147 [00:00<?, ?it/s]"
            ],
            "application/vnd.jupyter.widget-view+json": {
              "version_major": 2,
              "version_minor": 0,
              "model_id": "edbbd23a1bec4a499768695ce51f49e3"
            }
          },
          "metadata": {}
        },
        {
          "output_type": "stream",
          "name": "stdout",
          "text": [
            "\n",
            "Epoch 2\n",
            "Training loss: 0.3426644696277506\n",
            "Validation loss: 0.47164230967224985\n",
            "F1 Score (Weighted): 0.8827454939720577\n"
          ]
        },
        {
          "output_type": "display_data",
          "data": {
            "text/plain": [
              "Epoch 3:   0%|          | 0/14147 [00:00<?, ?it/s]"
            ],
            "application/vnd.jupyter.widget-view+json": {
              "version_major": 2,
              "version_minor": 0,
              "model_id": "4ac1098b725b44ed87a01b07a170bfb5"
            }
          },
          "metadata": {}
        },
        {
          "output_type": "stream",
          "name": "stdout",
          "text": [
            "\n",
            "Epoch 3\n",
            "Training loss: 0.24731407501042316\n",
            "Validation loss: 0.5703798708274147\n",
            "F1 Score (Weighted): 0.8860511071416152\n"
          ]
        }
      ]
    },
    {
      "cell_type": "code",
      "source": [
        "# model = BertForSequenceClassification.from_pretrained(\"bert-base-uncased\",\n",
        "#                                                       num_labels=len(label_dict),\n",
        "#                                                       output_attentions=False,\n",
        "#                                                       output_hidden_states=False)\n",
        "# model.to(device)\n",
        "# model.load_state_dict(torch.load('/content/drive/MyDrive/bertmodel1.model', map_location=torch.device('cpu')))\n",
        "# _, predictions, true_vals = evaluate(dataloader_validation)\n"
      ],
      "metadata": {
        "id": "5KuXFb10aFH8"
      },
      "execution_count": null,
      "outputs": []
    },
    {
      "cell_type": "code",
      "source": [
        "# Display final accuracy per class\n",
        "accuracy_per_class(predictions, true_vals)"
      ],
      "metadata": {
        "id": "yQ03h2zHaUw0",
        "colab": {
          "base_uri": "https://localhost:8080/"
        },
        "outputId": "6483ca38-039f-4a1b-8c4f-61d68a629c3b"
      },
      "execution_count": null,
      "outputs": [
        {
          "output_type": "stream",
          "name": "stdout",
          "text": [
            "Class: 0\n",
            "Accuracy: 970/1175\n",
            "\n",
            "Class: 1\n",
            "Accuracy: 178/558\n",
            "\n",
            "Class: 2\n",
            "Accuracy: 5513/5757\n",
            "\n",
            "Bert Model Accuracy Overall : 0.8893190921228304\n"
          ]
        }
      ]
    }
  ]
}